{
 "cells": [
  {
   "cell_type": "markdown",
   "metadata": {},
   "source": [
    "# Formation Python"
   ]
  },
  {
   "cell_type": "markdown",
   "metadata": {},
   "source": [
    "* [Présentation des outils](#Présentation-des-outils)\n",
    "    * [Git/Github](#Git/Github)\n",
    "    * [Jupiter Notebook](#Jupiter-Notebook)\n",
    "    * [Python](#Python)\n",
    "    * [Modules](#Modules)\n",
    "        * [Module Pandas](#Module-Pandas)\n",
    "        * [Module Machine Learning](#Module-Machine-Learning)\n",
    "* [Github/Git](#Github/Git)\n",
    "    * [Télécharger un projet en ZIP](#Télécharger-un-projet-en-ZIP)\n",
    "    * [Créer un repository](#Créer-un-repository)\n",
    "    * [Push](#Push)\n",
    "    * [Pull](#Pull)\n",
    "* [Jupiter](#Jupiter)\n",
    "    * [Markdown](#Markdown)\n",
    "    * [Commandes UNIX](#Commandes-UNIX)\n",
    "    * [Export PDF](#Export-PDF)\n",
    "    * [Export .py](#Export-.py)\n",
    "* [Python basic](#Python-basic)\n",
    "    * [Print](#Print)\n",
    "    * [Variables](#Variables)\n",
    "    * [If](#If)\n",
    "    * [Boucle](#Boucle)\n",
    "      * [For](#For)\n",
    "      * [While](#While)\n",
    "    * [Fonctions](#Fonctions)\n",
    "* [Modules Python](#Modules-Python)\n",
    "    * [Pandas](#Pandas)\n",
    "      * [Lire du CSV](#Lire-du-CSV)\n",
    "      * [Calcule basique entre colonnes](#Calcule-basique-entre-colonnes)\n",
    "      * [Pivot](#Pivot)\n",
    "      * [Export Excel](#Export-Excel)\n",
    "    * [Machine learning](#Machine-learning)\n"
   ]
  },
  {
   "cell_type": "markdown",
   "metadata": {},
   "source": [
    "# Présentation des outils"
   ]
  },
  {
   "cell_type": "markdown",
   "metadata": {},
   "source": [
    "## Git/Github"
   ]
  },
  {
   "cell_type": "markdown",
   "metadata": {},
   "source": [
    "En 2016, il s’agit du logiciel de gestion de versions le plus populaire qui est utilisé par plus de douze millions de personnes\n",
    "\n",
    "Commandes principales:\n",
    "\n",
    "* git init : crée un nouveau dépôt\n",
    "* git clone : clone un dépôt distant\n",
    "* git add : ajoute de nouveaux objets blobs dans la base des objets pour chaque fichier modifié depuis le dernier commit. Les objets précédents restent inchangés\n",
    "* git commit : intègre la somme de contrôle SHA-1 d'un objet tree et les sommes de contrôle des objets commits parents pour créer un nouvel objet commit\n",
    "* git branch : crée une nouvelle branche de développement\n",
    "* git merge : fusionne plusieurs branches de développement"
   ]
  },
  {
   "cell_type": "markdown",
   "metadata": {},
   "source": [
    "## Jupiter Notebook"
   ]
  },
  {
   "cell_type": "markdown",
   "metadata": {},
   "source": [
    "Jupyter est une application web utilisée pour programmer dans plus de 40 langages de programmation, dont Julia, Python, R, Ruby ou encore Scala1. Jupyter est une évolution du projet IPython. Jupyter permet de réaliser des notebooks, c'est-à-dire des programmes contenant à la fois du texte en markdown et du code en Julia, Python, R... Ces notebooks sont utilisés en data science pour explorer et analyser des données."
   ]
  },
  {
   "cell_type": "markdown",
   "metadata": {},
   "source": [
    "## Python"
   ]
  },
  {
   "cell_type": "markdown",
   "metadata": {},
   "source": [
    "Python est un langage de programmation objet, il est similaire à Perl, Ruby, Scheme, Smalltalk et Tcl.\n",
    "\n",
    "Le langage Python est placé sous une licence libre et fonctionne sur la plupart des plates-formes informatiques, des supercalculateurs aux ordinateurs centraux4, de Windows à Unix avec notamment GNU/Linux en passant par macOS, ou encore Android, iOS, et aussi avec Java ou encore .NET. Il est conçu pour optimiser la productivité des programmeurs en offrant des outils de haut niveau (plus proche de l'humain que de la machine) et une syntaxe simple à utiliser.\n",
    "\n",
    "Il est également apprécié par certains pédagogues qui y trouvent un langage où la syntaxe, clairement séparée des mécanismes de bas niveau, permet une initiation aisée aux concepts de base de la programmation."
   ]
  },
  {
   "cell_type": "markdown",
   "metadata": {},
   "source": [
    "## Modules"
   ]
  },
  {
   "cell_type": "markdown",
   "metadata": {},
   "source": [
    "### Module Pandas"
   ]
  },
  {
   "cell_type": "markdown",
   "metadata": {},
   "source": [
    "Pandas apporte à Python la possibilité de manipuler de grands volumes de données structurées de manière simple et intuitive. Elle propose en particulier des structures de données et des opérations de manipulation de tableaux numériques et de séries temporelles.\n",
    "\n",
    "Les principales structures de données sont les séries (pour stocker des données selon une dimension - grandeur en fonction d'un index), les DataFrames (pour stocker des données selon 2 dimensions - lignes et colonnes), les Panels (pour représenter des données selon 3 dimensions, les Panels4D ou les DataFrames avec des index hiérarchiques aussi nommés MultiIndex (pour représenter des données selon plus de 3 dimensions - hypercube)"
   ]
  },
  {
   "cell_type": "markdown",
   "metadata": {},
   "source": [
    "### Module Machine Learning"
   ]
  },
  {
   "cell_type": "markdown",
   "metadata": {},
   "source": [
    "# Github/Git"
   ]
  },
  {
   "cell_type": "markdown",
   "metadata": {},
   "source": [
    "## Récupérer un projet a partir de GitHub"
   ]
  },
  {
   "cell_type": "markdown",
   "metadata": {},
   "source": [
    "### Télécharger un projet en ZIP"
   ]
  },
  {
   "cell_type": "markdown",
   "metadata": {},
   "source": [
    "Trouvez un projet intéréssant sur GitHub par exemple:\n",
    "\n",
    "https://github.com/AdrienMereghetti/Environnement_cours\n",
    "\n",
    "* cliquez sur \"Clone or Download\"\n",
    "* puis sur \"Download ZIP\"\n",
    "![DL Zip](images/git_zip/zip.png)\n",
    "\n",
    "* Déziper le fichier téléchargé\n",
    "![DL](images/git_zip/download_file.png)\n",
    "\n",
    "* Le projet GitHub ce trouve maintenant sur votre poste \n",
    "![File](images/git_zip/into_file.png)"
   ]
  },
  {
   "cell_type": "markdown",
   "metadata": {},
   "source": [
    "### Cloner un projet"
   ]
  },
  {
   "cell_type": "markdown",
   "metadata": {},
   "source": [
    "#### Sur Linux/Mac"
   ]
  },
  {
   "cell_type": "markdown",
   "metadata": {},
   "source": [
    "* Ouvrez un terminal\n",
    "![1](images/git_clone/1.png)\n",
    "* placez-vous dans le repertoire dans lequel vous voulez récupéré le projet:\n",
    "```\n",
    "cd ~/dev\n",
    "```\n",
    "![2](images/git_clone/2.png)\n",
    "* Créez le repertoire du projet\n",
    "```\n",
    "mkdir environnement_cours\n",
    "```\n",
    "![3](images/git_clone/3.png)\n",
    "* Allez sur GitHub puis copier le lien https de clonnage\n",
    "![4](images/git_clone/4.png)\n",
    "* Puis tapez dans votre terminal:\n",
    "```\n",
    "git clone https://github.com/AdrienMereghetti/Environnement_cours.git environnement_cours\n",
    "```\n",
    "![5](images/git_clone/5.png)\n",
    "* Le projet GitHub ce trouve maintenant sur votre poste\n",
    "![6](images/git_clone/6.png)"
   ]
  },
  {
   "cell_type": "markdown",
   "metadata": {},
   "source": [
    "## Créer un repository"
   ]
  },
  {
   "cell_type": "markdown",
   "metadata": {},
   "source": [
    "## Push"
   ]
  },
  {
   "cell_type": "markdown",
   "metadata": {},
   "source": [
    "## Pull"
   ]
  },
  {
   "cell_type": "markdown",
   "metadata": {},
   "source": [
    "# Jupiter"
   ]
  },
  {
   "cell_type": "markdown",
   "metadata": {},
   "source": [
    "## Markdown"
   ]
  },
  {
   "cell_type": "markdown",
   "metadata": {},
   "source": [
    "## Commandes UNIX"
   ]
  },
  {
   "cell_type": "markdown",
   "metadata": {},
   "source": [
    "## Export PDF"
   ]
  },
  {
   "cell_type": "markdown",
   "metadata": {},
   "source": [
    "## Export .py"
   ]
  },
  {
   "cell_type": "markdown",
   "metadata": {},
   "source": [
    "# Python basic"
   ]
  },
  {
   "cell_type": "markdown",
   "metadata": {},
   "source": [
    "## Print"
   ]
  },
  {
   "cell_type": "markdown",
   "metadata": {},
   "source": [
    "## Variables"
   ]
  },
  {
   "cell_type": "markdown",
   "metadata": {},
   "source": [
    "## If"
   ]
  },
  {
   "cell_type": "markdown",
   "metadata": {},
   "source": [
    "## Boucle"
   ]
  },
  {
   "cell_type": "markdown",
   "metadata": {},
   "source": [
    "### For"
   ]
  },
  {
   "cell_type": "markdown",
   "metadata": {},
   "source": [
    "### While"
   ]
  },
  {
   "cell_type": "markdown",
   "metadata": {},
   "source": [
    "## Fonctions"
   ]
  },
  {
   "cell_type": "markdown",
   "metadata": {},
   "source": [
    "# Modules Python"
   ]
  },
  {
   "cell_type": "markdown",
   "metadata": {},
   "source": [
    "## Pandas"
   ]
  },
  {
   "cell_type": "code",
   "execution_count": 2,
   "metadata": {
    "collapsed": true
   },
   "outputs": [],
   "source": [
    "import pandas as pd"
   ]
  },
  {
   "cell_type": "markdown",
   "metadata": {},
   "source": [
    "### Lire du CSV"
   ]
  },
  {
   "cell_type": "markdown",
   "metadata": {},
   "source": [
    "### Calcule basique entre colonnes"
   ]
  },
  {
   "cell_type": "markdown",
   "metadata": {},
   "source": [
    "### Pivot"
   ]
  },
  {
   "cell_type": "markdown",
   "metadata": {},
   "source": [
    "### Export Excel"
   ]
  },
  {
   "cell_type": "markdown",
   "metadata": {},
   "source": [
    "## Machine learning"
   ]
  }
 ],
 "metadata": {
  "kernelspec": {
   "display_name": "Python 3",
   "language": "python",
   "name": "python3"
  },
  "language_info": {
   "codemirror_mode": {
    "name": "ipython",
    "version": 3
   },
   "file_extension": ".py",
   "mimetype": "text/x-python",
   "name": "python",
   "nbconvert_exporter": "python",
   "pygments_lexer": "ipython3",
   "version": "3.5.2"
  }
 },
 "nbformat": 4,
 "nbformat_minor": 2
}
