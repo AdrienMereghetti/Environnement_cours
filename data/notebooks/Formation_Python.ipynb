{
 "cells": [
  {
   "cell_type": "markdown",
   "metadata": {},
   "source": [
    "# Formation Python"
   ]
  },
  {
   "cell_type": "markdown",
   "metadata": {},
   "source": [
    "* [Présentation des outils](#Présentation-des-outils)\n",
    "    * [Git/Github](#Git/Github)\n",
    "    * [Jupiter Notebook](#Jupiter-Notebook)\n",
    "    * [Python](#Python)\n",
    "    * [Modules](#Modules)\n",
    "        * [Module Pandas](#Module-Pandas)\n",
    "        * [Module Machine Learning](#Module-Machine-Learning)\n",
    "* [Github/Git](#Github/Git)\n",
    "    * [Télécharger un projet en ZIP](#Télécharger-un-projet-en-ZIP)\n",
    "    * [Créer un repository](#Créer-un-repository)\n",
    "    * [Push](#Push)\n",
    "    * [Pull](#Pull)\n",
    "* [Jupiter](#Jupiter)\n",
    "    * [Markdown](#Markdown)\n",
    "    * [Commandes UNIX](#Commandes-UNIX)\n",
    "    * [Export PDF](#Export-PDF)\n",
    "    * [Export .py](#Export-.py)\n",
    "* [Python basic](#Python-basic)\n",
    "    * [Print](#Print)\n",
    "    * [Variables](#Variables)\n",
    "    * [If](#If)\n",
    "    * [Boucle](#Boucle)\n",
    "      * [For](#For)\n",
    "      * [While](#While)\n",
    "    * [Fonctions](#Fonctions)\n",
    "* [Modules Python](#Modules-Python)\n",
    "    * [Pandas](#Pandas)\n",
    "      * [Lire du CSV](#Lire-du-CSV)\n",
    "      * [Calcule basique entre colonnes](#Calcule-basique-entre-colonnes)\n",
    "      * [Pivot](#Pivot)\n",
    "      * [Export Excel](#Export-Excel)\n",
    "    * [Machine learning](#Machine-learning)\n"
   ]
  },
  {
   "cell_type": "markdown",
   "metadata": {},
   "source": [
    "# Présentation des outils"
   ]
  },
  {
   "cell_type": "markdown",
   "metadata": {},
   "source": [
    "## Git/Github"
   ]
  },
  {
   "cell_type": "markdown",
   "metadata": {},
   "source": [
    "En 2016, il s’agit du logiciel de gestion de versions le plus populaire qui est utilisé par plus de douze millions de personnes\n",
    "\n",
    "Commandes principales:\n",
    "\n",
    "* git init : crée un nouveau dépôt\n",
    "* git clone : clone un dépôt distant\n",
    "* git add : ajoute de nouveaux objets blobs dans la base des objets pour chaque fichier modifié depuis le dernier commit. Les objets précédents restent inchangés\n",
    "* git commit : intègre la somme de contrôle SHA-1 d'un objet tree et les sommes de contrôle des objets commits parents pour créer un nouvel objet commit\n",
    "* git branch : crée une nouvelle branche de développement\n",
    "* git merge : fusionne plusieurs branches de développement"
   ]
  },
  {
   "cell_type": "markdown",
   "metadata": {},
   "source": [
    "## Jupiter Notebook"
   ]
  },
  {
   "cell_type": "markdown",
   "metadata": {},
   "source": [
    "Jupyter est une application web utilisée pour programmer dans plus de 40 langages de programmation, dont Julia, Python, R, Ruby ou encore Scala1. Jupyter est une évolution du projet IPython. Jupyter permet de réaliser des notebooks, c'est-à-dire des programmes contenant à la fois du texte en markdown et du code en Julia, Python, R... Ces notebooks sont utilisés en data science pour explorer et analyser des données."
   ]
  },
  {
   "cell_type": "markdown",
   "metadata": {},
   "source": [
    "## Python"
   ]
  },
  {
   "cell_type": "markdown",
   "metadata": {},
   "source": [
    "Python est un langage de programmation objet, il est similaire à Perl, Ruby, Scheme, Smalltalk et Tcl.\n",
    "\n",
    "Le langage Python est placé sous une licence libre et fonctionne sur la plupart des plates-formes informatiques, des supercalculateurs aux ordinateurs centraux4, de Windows à Unix avec notamment GNU/Linux en passant par macOS, ou encore Android, iOS, et aussi avec Java ou encore .NET. Il est conçu pour optimiser la productivité des programmeurs en offrant des outils de haut niveau (plus proche de l'humain que de la machine) et une syntaxe simple à utiliser.\n",
    "\n",
    "Il est également apprécié par certains pédagogues qui y trouvent un langage où la syntaxe, clairement séparée des mécanismes de bas niveau, permet une initiation aisée aux concepts de base de la programmation."
   ]
  },
  {
   "cell_type": "markdown",
   "metadata": {},
   "source": [
    "## Modules"
   ]
  },
  {
   "cell_type": "markdown",
   "metadata": {},
   "source": [
    "### Module Pandas"
   ]
  },
  {
   "cell_type": "markdown",
   "metadata": {},
   "source": [
    "Pandas apporte à Python la possibilité de manipuler de grands volumes de données structurées de manière simple et intuitive. Elle propose en particulier des structures de données et des opérations de manipulation de tableaux numériques et de séries temporelles.\n",
    "\n",
    "Les principales structures de données sont les séries (pour stocker des données selon une dimension - grandeur en fonction d'un index), les DataFrames (pour stocker des données selon 2 dimensions - lignes et colonnes), les Panels (pour représenter des données selon 3 dimensions, les Panels4D ou les DataFrames avec des index hiérarchiques aussi nommés MultiIndex (pour représenter des données selon plus de 3 dimensions - hypercube)"
   ]
  },
  {
   "cell_type": "markdown",
   "metadata": {},
   "source": [
    "### Module Machine Learning"
   ]
  },
  {
   "cell_type": "markdown",
   "metadata": {},
   "source": [
    "# Github/Git"
   ]
  },
  {
   "cell_type": "markdown",
   "metadata": {},
   "source": [
    "## Récupérer un projet a partir de GitHub"
   ]
  },
  {
   "cell_type": "markdown",
   "metadata": {},
   "source": [
    "### Télécharger un projet en ZIP"
   ]
  },
  {
   "cell_type": "markdown",
   "metadata": {},
   "source": [
    "Trouvez un projet intéréssant sur GitHub par exemple:\n",
    "\n",
    "https://github.com/AdrienMereghetti/Environnement_cours\n",
    "\n",
    "* cliquez sur \"Clone or Download\"\n",
    "* puis sur \"Download ZIP\"\n",
    "![DL Zip](images/git_zip/zip.png)\n",
    "\n",
    "* Déziper le fichier téléchargé\n",
    "![DL](images/git_zip/download_file.png)\n",
    "\n",
    "* Le projet GitHub ce trouve maintenant sur votre poste \n",
    "![File](images/git_zip/into_file.png)"
   ]
  },
  {
   "cell_type": "markdown",
   "metadata": {},
   "source": [
    "### Cloner un projet"
   ]
  },
  {
   "cell_type": "markdown",
   "metadata": {},
   "source": [
    "#### Sur Linux/Mac"
   ]
  },
  {
   "cell_type": "markdown",
   "metadata": {},
   "source": [
    "* Ouvrez un terminal\n",
    "![1](images/git_clone/1.png)\n",
    "* placez-vous dans le repertoire dans lequel vous voulez récupéré le projet:\n",
    "```\n",
    "cd ~/dev\n",
    "```\n",
    "![2](images/git_clone/2.png)\n",
    "* Créez le repertoire du projet\n",
    "```\n",
    "mkdir environnement_cours\n",
    "```\n",
    "![3](images/git_clone/3.png)\n",
    "* Allez sur GitHub puis copier le lien https de clonnage\n",
    "![4](images/git_clone/4.png)\n",
    "* Puis tapez dans votre terminal:\n",
    "```\n",
    "git clone https://github.com/AdrienMereghetti/Environnement_cours.git environnement_cours\n",
    "```\n",
    "![5](images/git_clone/5.png)\n",
    "* Le projet GitHub ce trouve maintenant sur votre poste\n",
    "![6](images/git_clone/6.png)"
   ]
  },
  {
   "cell_type": "markdown",
   "metadata": {},
   "source": [
    "#### Sur Windows"
   ]
  },
  {
   "cell_type": "markdown",
   "metadata": {},
   "source": [
    "##### Installation de Git"
   ]
  },
  {
   "cell_type": "markdown",
   "metadata": {},
   "source": [
    "![1](images/git_clone_windows/1.png)"
   ]
  },
  {
   "cell_type": "markdown",
   "metadata": {},
   "source": [
    "![2](images/git_clone_windows/2.png)"
   ]
  },
  {
   "cell_type": "markdown",
   "metadata": {},
   "source": [
    "![3](images/git_clone_windows/3.png)"
   ]
  },
  {
   "cell_type": "markdown",
   "metadata": {},
   "source": [
    "![4](images/git_clone_windows/4.png)"
   ]
  },
  {
   "cell_type": "markdown",
   "metadata": {},
   "source": [
    "![5](images/git_clone_windows/5.png)"
   ]
  },
  {
   "cell_type": "markdown",
   "metadata": {},
   "source": [
    "![6](images/git_clone_windows/6.png)"
   ]
  },
  {
   "cell_type": "markdown",
   "metadata": {},
   "source": [
    "![7](images/git_clone_windows/7.png)"
   ]
  },
  {
   "cell_type": "markdown",
   "metadata": {},
   "source": [
    "![8](images/git_clone_windows/8.png)"
   ]
  },
  {
   "cell_type": "markdown",
   "metadata": {},
   "source": [
    "![9](images/git_clone_windows/9.png)"
   ]
  },
  {
   "cell_type": "markdown",
   "metadata": {},
   "source": [
    "![10](images/git_clone_windows/10.png)"
   ]
  },
  {
   "cell_type": "markdown",
   "metadata": {},
   "source": [
    "![11](images/git_clone_windows/11.png)"
   ]
  },
  {
   "cell_type": "markdown",
   "metadata": {},
   "source": [
    "![12](images/git_clone_windows/12.png)"
   ]
  },
  {
   "cell_type": "markdown",
   "metadata": {},
   "source": [
    "##### Lancement et utilisation de Git"
   ]
  },
  {
   "cell_type": "markdown",
   "metadata": {},
   "source": [
    "* Ouvrez le terminal \"Git Bash\""
   ]
  },
  {
   "cell_type": "markdown",
   "metadata": {},
   "source": [
    "![13](images/git_clone_windows/13.png)"
   ]
  },
  {
   "cell_type": "markdown",
   "metadata": {},
   "source": [
    "![14](images/git_clone_windows/14.png)"
   ]
  },
  {
   "cell_type": "markdown",
   "metadata": {},
   "source": [
    "* placez-vous dans le repertoire dans lequel vous voulez récupéré le projet:\n",
    "```\n",
    "cd Documents/\n",
    "```"
   ]
  },
  {
   "cell_type": "markdown",
   "metadata": {},
   "source": [
    "![15](images/git_clone_windows/15.png)"
   ]
  },
  {
   "cell_type": "markdown",
   "metadata": {},
   "source": [
    "* Créez le repertoire du projet\n",
    "```\n",
    "mkdir environnement_cours\n",
    "```"
   ]
  },
  {
   "cell_type": "markdown",
   "metadata": {},
   "source": [
    "![16](images/git_clone_windows/16.png)"
   ]
  },
  {
   "cell_type": "markdown",
   "metadata": {},
   "source": [
    "* Allez sur GitHub puis copier le lien https de clonnage"
   ]
  },
  {
   "cell_type": "markdown",
   "metadata": {},
   "source": [
    "![4](images/git_clone/4.png)"
   ]
  },
  {
   "cell_type": "markdown",
   "metadata": {},
   "source": [
    "* Puis tapez dans votre terminal:\n",
    "```\n",
    "git clone https://github.com/AdrienMereghetti/Environnement_cours.git environnement_cours\n",
    "```"
   ]
  },
  {
   "cell_type": "markdown",
   "metadata": {},
   "source": [
    "![17](images/git_clone_windows/17.png)"
   ]
  },
  {
   "cell_type": "markdown",
   "metadata": {},
   "source": [
    "* Le projet GitHub ce trouve maintenant sur votre poste"
   ]
  },
  {
   "cell_type": "markdown",
   "metadata": {},
   "source": [
    "## Créer un repository"
   ]
  },
  {
   "cell_type": "code",
   "execution_count": 17,
   "metadata": {},
   "outputs": [
    {
     "name": "stdout",
     "output_type": "stream",
     "text": [
      "![1](images/new_repo/1.png)\n",
      "![2](images/new_repo/2.png)\n",
      "![3](images/new_repo/3.png)\n",
      "![4](images/new_repo/4.png)\n",
      "![5](images/new_repo/5.png)\n",
      "![6](images/new_repo/6.png)\n",
      "![7](images/new_repo/7.png)\n",
      "![8](images/new_repo/8.png)\n"
     ]
    }
   ],
   "source": [
    "for i in range(1,8+1):\n",
    "    print(\"![%s](images/new_repo/%s.png)\"%(i,i))"
   ]
  },
  {
   "cell_type": "markdown",
   "metadata": {},
   "source": [
    "* Crééez un compte sur GitHub\n",
    "* Loggez-vous\n",
    "* Cliquez sur le +\n",
    "* Puis \"New repository\"\n",
    "\n",
    "![1](images/new_repo/1.png)"
   ]
  },
  {
   "cell_type": "markdown",
   "metadata": {},
   "source": [
    "![2](images/new_repo/2.png)"
   ]
  },
  {
   "cell_type": "markdown",
   "metadata": {},
   "source": [
    "![3](images/new_repo/3.png)"
   ]
  },
  {
   "cell_type": "markdown",
   "metadata": {},
   "source": [
    "![4](images/new_repo/4.png)"
   ]
  },
  {
   "cell_type": "markdown",
   "metadata": {},
   "source": [
    "![5](images/new_repo/5.png)"
   ]
  },
  {
   "cell_type": "markdown",
   "metadata": {},
   "source": [
    "![6](images/new_repo/6.png)"
   ]
  },
  {
   "cell_type": "markdown",
   "metadata": {},
   "source": [
    "![7](images/new_repo/7.png)"
   ]
  },
  {
   "cell_type": "markdown",
   "metadata": {},
   "source": [
    "![8](images/new_repo/8.png)"
   ]
  },
  {
   "cell_type": "markdown",
   "metadata": {},
   "source": [
    "## Push"
   ]
  },
  {
   "cell_type": "markdown",
   "metadata": {},
   "source": [
    "## Pull"
   ]
  },
  {
   "cell_type": "markdown",
   "metadata": {},
   "source": [
    "# Jupiter"
   ]
  },
  {
   "cell_type": "markdown",
   "metadata": {},
   "source": [
    "## Markdown"
   ]
  },
  {
   "cell_type": "markdown",
   "metadata": {},
   "source": [
    "## Commandes UNIX"
   ]
  },
  {
   "cell_type": "markdown",
   "metadata": {},
   "source": [
    "## Export PDF"
   ]
  },
  {
   "cell_type": "markdown",
   "metadata": {},
   "source": [
    "## Export .py"
   ]
  },
  {
   "cell_type": "markdown",
   "metadata": {},
   "source": [
    "# Python basic"
   ]
  },
  {
   "cell_type": "markdown",
   "metadata": {},
   "source": [
    "## Commentaire"
   ]
  },
  {
   "cell_type": "code",
   "execution_count": 18,
   "metadata": {
    "collapsed": true
   },
   "outputs": [],
   "source": [
    "# Il suffit de mettre \"#\" au début d'une ligne pour signifier à python que c'est un commentaire"
   ]
  },
  {
   "cell_type": "markdown",
   "metadata": {},
   "source": [
    "## Print"
   ]
  },
  {
   "cell_type": "code",
   "execution_count": 19,
   "metadata": {},
   "outputs": [
    {
     "name": "stdout",
     "output_type": "stream",
     "text": [
      "Hello World\n"
     ]
    }
   ],
   "source": [
    "print(\"Hello World\")"
   ]
  },
  {
   "cell_type": "markdown",
   "metadata": {},
   "source": [
    "## Variables\n",
    "\n",
    "Pour déclarer une variable:\n",
    "\n",
    "```python\n",
    "nom_de_variable = valeur\n",
    "```\n"
   ]
  },
  {
   "cell_type": "code",
   "execution_count": 20,
   "metadata": {},
   "outputs": [
    {
     "name": "stdout",
     "output_type": "stream",
     "text": [
      "42\n"
     ]
    }
   ],
   "source": [
    "ma_variable = 42\n",
    "print(ma_variable) "
   ]
  },
  {
   "cell_type": "markdown",
   "metadata": {},
   "source": [
    "On peut nommer une variable comme on veux a l'exception de quelques variable **reservées** Python 3:\n",
    "\n",
    "![8](images/Python/1.png)"
   ]
  },
  {
   "cell_type": "markdown",
   "metadata": {},
   "source": [
    "Il existe différents type de variables en python\n",
    "\n",
    "Il n'y a pas besoin d'indiquer en Python de quel type est cette variable, il la reconnait seul.\n",
    "\n",
    "On peut connaitre le type d'un variable via la fonction Python\n",
    "\n",
    "```Python\n",
    "type(ma_variable)\n",
    "```"
   ]
  },
  {
   "cell_type": "markdown",
   "metadata": {},
   "source": [
    "### Les nombres entiers\n",
    "\n",
    "Le type entier se nomme **int** en Python (qui correspond à l'anglais « integer », c'est-à-dire entier). La forme d'un entier est un nombre sans virgule."
   ]
  },
  {
   "cell_type": "code",
   "execution_count": 21,
   "metadata": {},
   "outputs": [
    {
     "data": {
      "text/plain": [
       "int"
      ]
     },
     "execution_count": 21,
     "metadata": {},
     "output_type": "execute_result"
    }
   ],
   "source": [
    "variable_int = 42\n",
    "type(variable_int)"
   ]
  },
  {
   "cell_type": "markdown",
   "metadata": {},
   "source": [
    "### Les nombres flottants\n",
    "Les flottants sont les nombres à virgule. Ils se nomment **float** en Python (ce qui signifie « flottant » en anglais). \n",
    "(Python n'étant pas un language Français les nombres à virgules sont écrits avec des \"**.**\" )\n",
    "\n",
    "```Python\n",
    "12.5\n",
    "```"
   ]
  },
  {
   "cell_type": "code",
   "execution_count": 47,
   "metadata": {},
   "outputs": [
    {
     "data": {
      "text/plain": [
       "float"
      ]
     },
     "execution_count": 47,
     "metadata": {},
     "output_type": "execute_result"
    }
   ],
   "source": [
    "variable_float = 152.66\n",
    "type(variable_float)"
   ]
  },
  {
   "cell_type": "markdown",
   "metadata": {},
   "source": [
    "### Les chaînes de caractères\n",
    "Ce type de donnée permet de stocker une série de lettres comme par exemple une phrase. Ils se nomment **string**\n",
    "\n",
    "entre guillemets \n",
    "```Python\n",
    "\"ceci est une chaîne de caractères\"\n",
    "```\n",
    "entre apostrophes\n",
    "```Python\n",
    "'ceci est une chaîne de caractères'\n",
    "```\n",
    "entre triples guillemets\n",
    "```Python\n",
    "\"\"\"ceci est une chaîne de caractères\"\"\"\n",
    "\n",
    "\"\"\"\n",
    "ceci est une chaîne de caractères\n",
    "que l'on peux aussi écrire sur \n",
    "plusieurs lignes\n",
    "\"\"\"\n",
    "\n",
    "```\n"
   ]
  },
  {
   "cell_type": "code",
   "execution_count": 23,
   "metadata": {},
   "outputs": [
    {
     "name": "stdout",
     "output_type": "stream",
     "text": [
      "Cette chaîne de caractères\n"
     ]
    }
   ],
   "source": [
    "print('Cette chaîne de caractères')"
   ]
  },
  {
   "cell_type": "code",
   "execution_count": 24,
   "metadata": {},
   "outputs": [
    {
     "ename": "SyntaxError",
     "evalue": "invalid syntax (<ipython-input-24-281db01e4a31>, line 1)",
     "output_type": "error",
     "traceback": [
      "\u001b[0;36m  File \u001b[0;32m\"<ipython-input-24-281db01e4a31>\"\u001b[0;36m, line \u001b[0;32m1\u001b[0m\n\u001b[0;31m    chaine = 'J'aime le Python!'\u001b[0m\n\u001b[0m                   ^\u001b[0m\n\u001b[0;31mSyntaxError\u001b[0m\u001b[0;31m:\u001b[0m invalid syntax\n"
     ]
    }
   ],
   "source": [
    "chaine = 'J'aime le Python!'"
   ]
  },
  {
   "cell_type": "markdown",
   "metadata": {},
   "source": [
    "Cette chaîne de caractères ci dessus retourne une erreur car il y à un apostrophes.\n",
    "Il faut échapper les apostrophes se trouvant au cœur de la chaîne avec \"\\\", il n'apparaitra pas dans le print"
   ]
  },
  {
   "cell_type": "code",
   "execution_count": 25,
   "metadata": {},
   "outputs": [
    {
     "name": "stdout",
     "output_type": "stream",
     "text": [
      "J'aime le Python!\n"
     ]
    }
   ],
   "source": [
    "chaine = 'J\\'aime le Python!'\n",
    "print(chaine)"
   ]
  },
  {
   "cell_type": "code",
   "execution_count": 26,
   "metadata": {},
   "outputs": [
    {
     "name": "stdout",
     "output_type": "stream",
     "text": [
      "J'aime le Python!\n"
     ]
    }
   ],
   "source": [
    "# On peux aussi utiliser les quillemet pour utiliser des apostrophe dans la chaine sans problèmes\n",
    "\n",
    "chaine = \"J'aime le Python!\"\n",
    "print(chaine)"
   ]
  },
  {
   "cell_type": "markdown",
   "metadata": {},
   "source": [
    "### Utilisation des variables"
   ]
  },
  {
   "cell_type": "code",
   "execution_count": 27,
   "metadata": {
    "collapsed": true
   },
   "outputs": [],
   "source": [
    "age = 21"
   ]
  },
  {
   "cell_type": "code",
   "execution_count": 29,
   "metadata": {},
   "outputs": [
    {
     "name": "stdout",
     "output_type": "stream",
     "text": [
      "42\n"
     ]
    }
   ],
   "source": [
    "# On peut faire toutes sortes de calcules avec les variables numérique (Int ou Float)\n",
    "\n",
    "age_x2 = age * 2\n",
    "print(age_x2)"
   ]
  },
  {
   "cell_type": "code",
   "execution_count": 30,
   "metadata": {},
   "outputs": [
    {
     "name": "stdout",
     "output_type": "stream",
     "text": [
      "21\n"
     ]
    }
   ],
   "source": [
    "# La variable \"age\" ne change pas\n",
    "print(age)"
   ]
  },
  {
   "cell_type": "code",
   "execution_count": 31,
   "metadata": {},
   "outputs": [
    {
     "name": "stdout",
     "output_type": "stream",
     "text": [
      "22\n"
     ]
    }
   ],
   "source": [
    "# On peux incrémenter une variable de deux manière différentes\n",
    "\n",
    "age = age + 1\n",
    "print(age)"
   ]
  },
  {
   "cell_type": "code",
   "execution_count": 45,
   "metadata": {},
   "outputs": [
    {
     "name": "stdout",
     "output_type": "stream",
     "text": [
      "36\n"
     ]
    }
   ],
   "source": [
    "# La syntaxe ci-dessus est claire et intuitive mais assez longue, et les programmeurs, tout le monde le sait, sont des fainéants nés. On a donc trouvé plus court.\n",
    "age += 1\n",
    "print(age)"
   ]
  },
  {
   "cell_type": "code",
   "execution_count": 46,
   "metadata": {},
   "outputs": [
    {
     "name": "stdout",
     "output_type": "stream",
     "text": [
      "6411.72\n"
     ]
    }
   ],
   "source": [
    "# Combiner plusieurs types de variable est possible \n",
    "\n",
    "variable_int_float = variable_int * variable_float\n",
    "print(variable_int_float)"
   ]
  },
  {
   "cell_type": "code",
   "execution_count": 51,
   "metadata": {},
   "outputs": [
    {
     "data": {
      "text/plain": [
       "tuple"
      ]
     },
     "execution_count": 51,
     "metadata": {},
     "output_type": "execute_result"
    }
   ],
   "source": [
    "# On peux aussi combiner un string avec d'autre type de variable de cette manière:\n",
    "\n",
    "var_string = \"Mon age est:\"\n",
    "var_int = 25\n",
    "var_mix = var_string, var_int\n",
    "type(var_mix)"
   ]
  },
  {
   "cell_type": "markdown",
   "metadata": {},
   "source": [
    "https://openclassrooms.com/courses/apprenez-a-programmer-en-python/le-monde-merveilleux-des-variables#/id/r-2231224"
   ]
  },
  {
   "cell_type": "markdown",
   "metadata": {},
   "source": [
    "## If"
   ]
  },
  {
   "cell_type": "markdown",
   "metadata": {},
   "source": [
    "## Boucle"
   ]
  },
  {
   "cell_type": "markdown",
   "metadata": {},
   "source": [
    "### For"
   ]
  },
  {
   "cell_type": "markdown",
   "metadata": {},
   "source": [
    "### While"
   ]
  },
  {
   "cell_type": "markdown",
   "metadata": {},
   "source": [
    "## Fonctions"
   ]
  },
  {
   "cell_type": "markdown",
   "metadata": {},
   "source": [
    "# Modules Python"
   ]
  },
  {
   "cell_type": "markdown",
   "metadata": {},
   "source": [
    "## Pandas"
   ]
  },
  {
   "cell_type": "code",
   "execution_count": 2,
   "metadata": {
    "collapsed": true
   },
   "outputs": [],
   "source": [
    "import pandas as pd"
   ]
  },
  {
   "cell_type": "markdown",
   "metadata": {},
   "source": [
    "### Lire du CSV"
   ]
  },
  {
   "cell_type": "code",
   "execution_count": null,
   "metadata": {
    "collapsed": true
   },
   "outputs": [],
   "source": [
    "df = pd.read_csv(\"csv/\")"
   ]
  },
  {
   "cell_type": "markdown",
   "metadata": {},
   "source": [
    "### Calcule basique entre colonnes"
   ]
  },
  {
   "cell_type": "markdown",
   "metadata": {},
   "source": [
    "### Pivot"
   ]
  },
  {
   "cell_type": "markdown",
   "metadata": {},
   "source": [
    "### Export Excel"
   ]
  },
  {
   "cell_type": "markdown",
   "metadata": {},
   "source": [
    "## Machine learning"
   ]
  },
  {
   "cell_type": "markdown",
   "metadata": {},
   "source": [
    "scikit-learn "
   ]
  },
  {
   "cell_type": "markdown",
   "metadata": {},
   "source": [
    "# ANACONDA"
   ]
  }
 ],
 "metadata": {
  "kernelspec": {
   "display_name": "Python 3",
   "language": "python",
   "name": "python3"
  },
  "language_info": {
   "codemirror_mode": {
    "name": "ipython",
    "version": 3
   },
   "file_extension": ".py",
   "mimetype": "text/x-python",
   "name": "python",
   "nbconvert_exporter": "python",
   "pygments_lexer": "ipython3",
   "version": "3.5.2"
  }
 },
 "nbformat": 4,
 "nbformat_minor": 2
}
