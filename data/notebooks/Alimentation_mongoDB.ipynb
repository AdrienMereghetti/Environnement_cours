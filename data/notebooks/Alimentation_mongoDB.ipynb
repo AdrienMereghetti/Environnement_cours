{
 "cells": [
  {
   "cell_type": "code",
   "execution_count": 9,
   "metadata": {},
   "outputs": [],
   "source": [
    "import pandas as pd\n",
    "import json"
   ]
  },
  {
   "cell_type": "code",
   "execution_count": 10,
   "metadata": {},
   "outputs": [
    {
     "name": "stderr",
     "output_type": "stream",
     "text": [
      "/opt/conda/lib/python3.6/site-packages/IPython/core/interactiveshell.py:2728: DtypeWarning: Columns (4) have mixed types. Specify dtype option on import or set low_memory=False.\n",
      "  interactivity=interactivity, compiler=compiler, result=result)\n"
     ]
    }
   ],
   "source": [
    "datas = pd.read_csv(\"csv/donnees-electricite-2015.csv\", sep=\";\", encoding = \"ISO-8859-1\")"
   ]
  },
  {
   "cell_type": "code",
   "execution_count": 11,
   "metadata": {},
   "outputs": [
    {
     "data": {
      "text/html": [
       "<div>\n",
       "<table border=\"1\" class=\"dataframe\">\n",
       "  <thead>\n",
       "    <tr style=\"text-align: right;\">\n",
       "      <th></th>\n",
       "      <th>OPERATEUR</th>\n",
       "      <th>ANNEE</th>\n",
       "      <th>FILIERE</th>\n",
       "      <th>TYPE</th>\n",
       "      <th>CODE</th>\n",
       "      <th>CONSOA</th>\n",
       "      <th>PDLA</th>\n",
       "      <th>INDQUALA</th>\n",
       "      <th>CONSOI</th>\n",
       "      <th>PDLI</th>\n",
       "      <th>INDQUALI</th>\n",
       "      <th>CONSOT</th>\n",
       "      <th>PDLT</th>\n",
       "      <th>INDQUALT</th>\n",
       "      <th>CONSOR</th>\n",
       "      <th>PDLR</th>\n",
       "      <th>INDQUALR</th>\n",
       "      <th>CONSONA</th>\n",
       "      <th>PDLNA</th>\n",
       "      <th>INDQUALNA</th>\n",
       "    </tr>\n",
       "  </thead>\n",
       "  <tbody>\n",
       "    <tr>\n",
       "      <th>0</th>\n",
       "      <td>SRD</td>\n",
       "      <td>2015</td>\n",
       "      <td>E</td>\n",
       "      <td>Region</td>\n",
       "      <td>24</td>\n",
       "      <td>0,00</td>\n",
       "      <td>0</td>\n",
       "      <td>0,000000</td>\n",
       "      <td>0,00</td>\n",
       "      <td>0</td>\n",
       "      <td>0,000000</td>\n",
       "      <td>0,00</td>\n",
       "      <td>0</td>\n",
       "      <td>0,000000</td>\n",
       "      <td>70,71</td>\n",
       "      <td>14</td>\n",
       "      <td>1,000000</td>\n",
       "      <td>0,00</td>\n",
       "      <td>0</td>\n",
       "      <td>0,000000</td>\n",
       "    </tr>\n",
       "    <tr>\n",
       "      <th>1</th>\n",
       "      <td>SRD</td>\n",
       "      <td>2015</td>\n",
       "      <td>E</td>\n",
       "      <td>Region</td>\n",
       "      <td>75</td>\n",
       "      <td>0,00</td>\n",
       "      <td>0</td>\n",
       "      <td>0,000000</td>\n",
       "      <td>0,00</td>\n",
       "      <td>0</td>\n",
       "      <td>0,000000</td>\n",
       "      <td>0,00</td>\n",
       "      <td>0</td>\n",
       "      <td>0,000000</td>\n",
       "      <td>447,02</td>\n",
       "      <td>85</td>\n",
       "      <td>1,000000</td>\n",
       "      <td>0,00</td>\n",
       "      <td>0</td>\n",
       "      <td>0,000000</td>\n",
       "    </tr>\n",
       "    <tr>\n",
       "      <th>2</th>\n",
       "      <td>GEREDIS Deux-Sèvres</td>\n",
       "      <td>2015</td>\n",
       "      <td>E</td>\n",
       "      <td>Region</td>\n",
       "      <td>52</td>\n",
       "      <td>0,00</td>\n",
       "      <td>0</td>\n",
       "      <td>0,000000</td>\n",
       "      <td>0,00</td>\n",
       "      <td>0</td>\n",
       "      <td>0,000000</td>\n",
       "      <td>0,00</td>\n",
       "      <td>0</td>\n",
       "      <td>0,000000</td>\n",
       "      <td>231,74</td>\n",
       "      <td>35</td>\n",
       "      <td>1,000000</td>\n",
       "      <td>0,00</td>\n",
       "      <td>0</td>\n",
       "      <td>0,000000</td>\n",
       "    </tr>\n",
       "    <tr>\n",
       "      <th>3</th>\n",
       "      <td>GEREDIS Deux-Sèvres</td>\n",
       "      <td>2015</td>\n",
       "      <td>E</td>\n",
       "      <td>Region</td>\n",
       "      <td>75</td>\n",
       "      <td>0,00</td>\n",
       "      <td>0</td>\n",
       "      <td>0,000000</td>\n",
       "      <td>0,00</td>\n",
       "      <td>0</td>\n",
       "      <td>0,000000</td>\n",
       "      <td>0,00</td>\n",
       "      <td>0</td>\n",
       "      <td>0,000000</td>\n",
       "      <td>391,22</td>\n",
       "      <td>61</td>\n",
       "      <td>1,000000</td>\n",
       "      <td>0,00</td>\n",
       "      <td>0</td>\n",
       "      <td>0,000000</td>\n",
       "    </tr>\n",
       "    <tr>\n",
       "      <th>4</th>\n",
       "      <td>SICAE dEure-et-Loir et des Yvelines</td>\n",
       "      <td>2015</td>\n",
       "      <td>E</td>\n",
       "      <td>Region</td>\n",
       "      <td>11</td>\n",
       "      <td>0,00</td>\n",
       "      <td>0</td>\n",
       "      <td>0,000000</td>\n",
       "      <td>0,00</td>\n",
       "      <td>0</td>\n",
       "      <td>0,000000</td>\n",
       "      <td>0,00</td>\n",
       "      <td>0</td>\n",
       "      <td>0,000000</td>\n",
       "      <td>640,00</td>\n",
       "      <td>79</td>\n",
       "      <td>1,000000</td>\n",
       "      <td>0,00</td>\n",
       "      <td>0</td>\n",
       "      <td>0,000000</td>\n",
       "    </tr>\n",
       "  </tbody>\n",
       "</table>\n",
       "</div>"
      ],
      "text/plain": [
       "                              OPERATEUR  ANNEE FILIERE    TYPE CODE CONSOA  \\\n",
       "0                                   SRD   2015       E  Region   24   0,00   \n",
       "1                                   SRD   2015       E  Region   75   0,00   \n",
       "2                   GEREDIS Deux-Sèvres   2015       E  Region   52   0,00   \n",
       "3                   GEREDIS Deux-Sèvres   2015       E  Region   75   0,00   \n",
       "4  SICAE dEure-et-Loir et des Yvelines   2015       E  Region   11   0,00   \n",
       "\n",
       "   PDLA  INDQUALA CONSOI  PDLI  INDQUALI CONSOT  PDLT  INDQUALT  CONSOR  PDLR  \\\n",
       "0     0  0,000000   0,00     0  0,000000   0,00     0  0,000000   70,71    14   \n",
       "1     0  0,000000   0,00     0  0,000000   0,00     0  0,000000  447,02    85   \n",
       "2     0  0,000000   0,00     0  0,000000   0,00     0  0,000000  231,74    35   \n",
       "3     0  0,000000   0,00     0  0,000000   0,00     0  0,000000  391,22    61   \n",
       "4     0  0,000000   0,00     0  0,000000   0,00     0  0,000000  640,00    79   \n",
       "\n",
       "   INDQUALR CONSONA  PDLNA INDQUALNA  \n",
       "0  1,000000    0,00      0  0,000000  \n",
       "1  1,000000    0,00      0  0,000000  \n",
       "2  1,000000    0,00      0  0,000000  \n",
       "3  1,000000    0,00      0  0,000000  \n",
       "4  1,000000    0,00      0  0,000000  "
      ]
     },
     "execution_count": 11,
     "metadata": {},
     "output_type": "execute_result"
    }
   ],
   "source": [
    "datas.head()"
   ]
  },
  {
   "cell_type": "code",
   "execution_count": 12,
   "metadata": {},
   "outputs": [],
   "source": [
    "from pymongo import MongoClient\n",
    "\n",
    "client = MongoClient('mongo')\n",
    "db = client.elecdb\n",
    "coll = db.donnee_elec"
   ]
  },
  {
   "cell_type": "code",
   "execution_count": 13,
   "metadata": {},
   "outputs": [],
   "source": [
    "records = json.loads(datas.T.to_json()).values()"
   ]
  },
  {
   "cell_type": "code",
   "execution_count": 14,
   "metadata": {},
   "outputs": [
    {
     "ename": "TypeError",
     "evalue": "delete_many() missing 1 required positional argument: 'filter'",
     "output_type": "error",
     "traceback": [
      "\u001b[0;31m---------------------------------------------------------------------------\u001b[0m",
      "\u001b[0;31mTypeError\u001b[0m                                 Traceback (most recent call last)",
      "\u001b[0;32m<ipython-input-14-1336cd29171b>\u001b[0m in \u001b[0;36m<module>\u001b[0;34m()\u001b[0m\n\u001b[0;32m----> 1\u001b[0;31m \u001b[0mcoll\u001b[0m\u001b[0;34m.\u001b[0m\u001b[0mdelete_many\u001b[0m\u001b[0;34m(\u001b[0m\u001b[0;34m)\u001b[0m\u001b[0;34m\u001b[0m\u001b[0m\n\u001b[0m",
      "\u001b[0;31mTypeError\u001b[0m: delete_many() missing 1 required positional argument: 'filter'"
     ]
    }
   ],
   "source": [
    "coll.delete_many({})"
   ]
  },
  {
   "cell_type": "code",
   "execution_count": null,
   "metadata": {},
   "outputs": [],
   "source": [
    "coll.insert_many(records)"
   ]
  },
  {
   "cell_type": "code",
   "execution_count": 15,
   "metadata": {},
   "outputs": [],
   "source": [
    "#connect to our cluster\n",
    "from elasticsearch import Elasticsearch\n",
    "es = Elasticsearch([{'host': '91.121.110.110', 'port': 9200}])"
   ]
  },
  {
   "cell_type": "code",
   "execution_count": 26,
   "metadata": {},
   "outputs": [],
   "source": [
    "for i, record in enumerate(records):\n",
    "    es.index(index='elec', doc_type='data elec', id=i, body=json.dumps(record))"
   ]
  },
  {
   "cell_type": "code",
   "execution_count": null,
   "metadata": {},
   "outputs": [],
   "source": []
  }
 ],
 "metadata": {
  "kernelspec": {
   "display_name": "Python 3",
   "language": "python",
   "name": "python3"
  },
  "language_info": {
   "codemirror_mode": {
    "name": "ipython",
    "version": 3
   },
   "file_extension": ".py",
   "mimetype": "text/x-python",
   "name": "python",
   "nbconvert_exporter": "python",
   "pygments_lexer": "ipython3",
   "version": "3.6.2"
  }
 },
 "nbformat": 4,
 "nbformat_minor": 2
}
