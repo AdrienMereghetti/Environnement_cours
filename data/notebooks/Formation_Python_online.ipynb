{
 "cells": [
  {
   "cell_type": "markdown",
   "metadata": {},
   "source": [
    "# Formation Python"
   ]
  },
  {
   "cell_type": "markdown",
   "metadata": {},
   "source": [
    "* [Présentation des outils](#Présentation-des-outils)\n",
    "    * [Git/Github](#Git/Github)\n",
    "    * [Jupiter Notebook](#Jupiter-Notebook)\n",
    "    * [Python](#Python)\n",
    "    * [Modules](#Modules)\n",
    "        * [Module Pandas](#Module-Pandas)\n",
    "        * [Module Machine Learning](#Module-Machine-Learning)\n",
    "* [Github/Git](#Github/Git)\n",
    "    * [Télécharger un projet en ZIP](#Télécharger-un-projet-en-ZIP)\n",
    "    * [Créer un repository](#Créer-un-repository)\n",
    "    * [Push](#Push)\n",
    "    * [Pull](#Pull)\n",
    "* [Jupyter](#Jupyter)\n",
    "    * [Markdown](#Markdown)\n",
    "    * [Commandes UNIX](#Commandes-UNIX)\n",
    "    * [Export PDF](#Export-PDF)\n",
    "    * [Export .py](#Export-.py)\n",
    "* [Python basic](#Python-basic)\n",
    "    * [Print](#Print)\n",
    "    * [Variables](#Variables)\n",
    "    * [If](#If)\n",
    "    * [Boucle](#Boucle)\n",
    "      * [For](#For)\n",
    "      * [While](#While)\n",
    "    * [Fonctions](#Fonctions)\n",
    "* [Modules Python](#Modules-Python)\n",
    "    * [Pandas](#Pandas)\n",
    "      * [Lire du CSV](#Lire-du-CSV)\n",
    "      * [Calcule basique entre colonnes](#Calcule-basique-entre-colonnes)\n",
    "      * [Pivot](#Pivot)\n",
    "      * [Export Excel](#Export-Excel)\n",
    "    * [Machine learning](#Machine-learning)\n"
   ]
  },
  {
   "cell_type": "markdown",
   "metadata": {},
   "source": [
    "# Présentation des outils"
   ]
  },
  {
   "cell_type": "markdown",
   "metadata": {},
   "source": [
    "## Git/Github"
   ]
  },
  {
   "cell_type": "markdown",
   "metadata": {},
   "source": [
    "En 2016, il s’agit du logiciel de gestion de versions le plus populaire qui est utilisé par plus de douze millions de personnes\n",
    "\n",
    "Commandes principales:\n",
    "\n",
    "* git init : crée un nouveau dépôt\n",
    "* git clone : clone un dépôt distant\n",
    "* git add : ajoute de nouveaux objets blobs dans la base des objets pour chaque fichier modifié depuis le dernier commit. Les objets précédents restent inchangés\n",
    "* git commit : intègre la somme de contrôle SHA-1 d'un objet tree et les sommes de contrôle des objets commits parents pour créer un nouvel objet commit\n",
    "* git branch : crée une nouvelle branche de développement\n",
    "* git merge : fusionne plusieurs branches de développement"
   ]
  },
  {
   "cell_type": "markdown",
   "metadata": {},
   "source": [
    "## Jupiter Notebook"
   ]
  },
  {
   "cell_type": "markdown",
   "metadata": {},
   "source": [
    "Jupyter est une application web utilisée pour programmer dans plus de 40 langages de programmation, dont Julia, Python, R, Ruby ou encore Scala1. Jupyter est une évolution du projet IPython. Jupyter permet de réaliser des notebooks, c'est-à-dire des programmes contenant à la fois du texte en markdown et du code en Julia, Python, R... Ces notebooks sont utilisés en data science pour explorer et analyser des données."
   ]
  },
  {
   "cell_type": "markdown",
   "metadata": {},
   "source": [
    "## Python"
   ]
  },
  {
   "cell_type": "markdown",
   "metadata": {},
   "source": [
    "Python est un langage de programmation objet, il est similaire à Perl, Ruby, Scheme, Smalltalk et Tcl.\n",
    "\n",
    "Le langage Python est placé sous une licence libre et fonctionne sur la plupart des plates-formes informatiques, des supercalculateurs aux ordinateurs centraux4, de Windows à Unix avec notamment GNU/Linux en passant par macOS, ou encore Android, iOS, et aussi avec Java ou encore .NET. Il est conçu pour optimiser la productivité des programmeurs en offrant des outils de haut niveau (plus proche de l'humain que de la machine) et une syntaxe simple à utiliser.\n",
    "\n",
    "Il est également apprécié par certains pédagogues qui y trouvent un langage où la syntaxe, clairement séparée des mécanismes de bas niveau, permet une initiation aisée aux concepts de base de la programmation."
   ]
  },
  {
   "cell_type": "markdown",
   "metadata": {},
   "source": [
    "## Modules"
   ]
  },
  {
   "cell_type": "markdown",
   "metadata": {},
   "source": [
    "### Module Pandas"
   ]
  },
  {
   "cell_type": "markdown",
   "metadata": {},
   "source": [
    "Pandas apporte à Python la possibilité de manipuler de grands volumes de données structurées de manière simple et intuitive. Elle propose en particulier des structures de données et des opérations de manipulation de tableaux numériques et de séries temporelles.\n",
    "\n",
    "Les principales structures de données sont les séries (pour stocker des données selon une dimension - grandeur en fonction d'un index), les DataFrames (pour stocker des données selon 2 dimensions - lignes et colonnes), les Panels (pour représenter des données selon 3 dimensions, les Panels4D ou les DataFrames avec des index hiérarchiques aussi nommés MultiIndex (pour représenter des données selon plus de 3 dimensions - hypercube)"
   ]
  },
  {
   "cell_type": "markdown",
   "metadata": {},
   "source": [
    "### Module Machine Learning"
   ]
  },
  {
   "cell_type": "markdown",
   "metadata": {},
   "source": [
    "# Github/Git"
   ]
  },
  {
   "cell_type": "markdown",
   "metadata": {},
   "source": [
    "## Récupérer un projet a partir de GitHub"
   ]
  },
  {
   "cell_type": "markdown",
   "metadata": {},
   "source": [
    "### Télécharger un projet en ZIP"
   ]
  },
  {
   "cell_type": "markdown",
   "metadata": {},
   "source": [
    "Trouvez un projet intéréssant sur GitHub par exemple:\n",
    "\n",
    "https://github.com/AdrienMereghetti/Environnement_cours\n",
    "\n",
    "* cliquez sur \"Clone or Download\"\n",
    "* puis sur \"Download ZIP\"\n",
    "![DL Zip](https://raw.githubusercontent.com/AdrienMereghetti/Environnement_cours/development/data/notebooks/images/git_zip/zip.png)\n",
    "\n",
    "* Déziper le fichier téléchargé\n",
    "![DL](https://raw.githubusercontent.com/AdrienMereghetti/Environnement_cours/development/data/notebooks/images/git_zip/download_file.png)\n",
    "\n",
    "* Le projet GitHub ce trouve maintenant sur votre poste \n",
    "![File](https://raw.githubusercontent.com/AdrienMereghetti/Environnement_cours/development/data/notebooks/images/git_zip/into_file.png)"
   ]
  },
  {
   "cell_type": "markdown",
   "metadata": {},
   "source": [
    "### Cloner un projet"
   ]
  },
  {
   "cell_type": "markdown",
   "metadata": {},
   "source": [
    "#### Sur Linux/Mac"
   ]
  },
  {
   "cell_type": "markdown",
   "metadata": {},
   "source": [
    "* Ouvrez un terminal\n",
    "![1](https://raw.githubusercontent.com/AdrienMereghetti/Environnement_cours/development/data/notebooks/images/git_clone/1.png)\n",
    "* placez-vous dans le repertoire dans lequel vous voulez récupéré le projet:\n",
    "```\n",
    "cd ~/dev\n",
    "```\n",
    "![2](https://raw.githubusercontent.com/AdrienMereghetti/Environnement_cours/development/data/notebooks/images/git_clone/2.png)\n",
    "* Créez le repertoire du projet\n",
    "```\n",
    "mkdir environnement_cours\n",
    "```\n",
    "![3](https://raw.githubusercontent.com/AdrienMereghetti/Environnement_cours/development/data/notebooks/images/git_clone/3.png)\n",
    "* Allez sur GitHub puis copier le lien https de clonnage\n",
    "![4](https://raw.githubusercontent.com/AdrienMereghetti/Environnement_cours/development/data/notebooks/images/git_clone/4.png)\n",
    "* Puis tapez dans votre terminal:\n",
    "```\n",
    "git clone https://github.com/AdrienMereghetti/Environnement_cours.git environnement_cours\n",
    "```\n",
    "![5](https://raw.githubusercontent.com/AdrienMereghetti/Environnement_cours/development/data/notebooks/images/git_clone/5.png)\n",
    "* Le projet GitHub ce trouve maintenant sur votre poste\n",
    "![6](https://raw.githubusercontent.com/AdrienMereghetti/Environnement_cours/development/data/notebooks/images/git_clone/6.png)"
   ]
  },
  {
   "cell_type": "markdown",
   "metadata": {},
   "source": [
    "#### Sur Windows"
   ]
  },
  {
   "cell_type": "markdown",
   "metadata": {},
   "source": [
    "##### Installation de Git"
   ]
  },
  {
   "cell_type": "markdown",
   "metadata": {},
   "source": [
    "![1](https://raw.githubusercontent.com/AdrienMereghetti/Environnement_cours/development/data/notebooks/images/git_clone_windows/1.png)"
   ]
  },
  {
   "cell_type": "markdown",
   "metadata": {},
   "source": [
    "![2](https://raw.githubusercontent.com/AdrienMereghetti/Environnement_cours/development/data/notebooks/images/git_clone_windows/2.png)"
   ]
  },
  {
   "cell_type": "markdown",
   "metadata": {},
   "source": [
    "![3](https://raw.githubusercontent.com/AdrienMereghetti/Environnement_cours/development/data/notebooks/images/git_clone_windows/3.png)"
   ]
  },
  {
   "cell_type": "markdown",
   "metadata": {},
   "source": [
    "![4](https://raw.githubusercontent.com/AdrienMereghetti/Environnement_cours/development/data/notebooks/images/git_clone_windows/4.png)"
   ]
  },
  {
   "cell_type": "markdown",
   "metadata": {},
   "source": [
    "![5](https://raw.githubusercontent.com/AdrienMereghetti/Environnement_cours/development/data/notebooks/images/git_clone_windows/5.png)"
   ]
  },
  {
   "cell_type": "markdown",
   "metadata": {},
   "source": [
    "![6](https://raw.githubusercontent.com/AdrienMereghetti/Environnement_cours/development/data/notebooks/images/git_clone_windows/6.png)"
   ]
  },
  {
   "cell_type": "markdown",
   "metadata": {},
   "source": [
    "![7](https://raw.githubusercontent.com/AdrienMereghetti/Environnement_cours/development/data/notebooks/images/git_clone_windows/7.png)"
   ]
  },
  {
   "cell_type": "markdown",
   "metadata": {},
   "source": [
    "![8](https://raw.githubusercontent.com/AdrienMereghetti/Environnement_cours/development/data/notebooks/images/git_clone_windows/8.png)"
   ]
  },
  {
   "cell_type": "markdown",
   "metadata": {},
   "source": [
    "![9](https://raw.githubusercontent.com/AdrienMereghetti/Environnement_cours/development/data/notebooks/images/git_clone_windows/9.png)"
   ]
  },
  {
   "cell_type": "markdown",
   "metadata": {},
   "source": [
    "![10](https://raw.githubusercontent.com/AdrienMereghetti/Environnement_cours/development/data/notebooks/images/git_clone_windows/10.png)"
   ]
  },
  {
   "cell_type": "markdown",
   "metadata": {},
   "source": [
    "![11](https://raw.githubusercontent.com/AdrienMereghetti/Environnement_cours/development/data/notebooks/images/git_clone_windows/11.png)"
   ]
  },
  {
   "cell_type": "markdown",
   "metadata": {},
   "source": [
    "![12](https://raw.githubusercontent.com/AdrienMereghetti/Environnement_cours/development/data/notebooks/images/git_clone_windows/12.png)"
   ]
  },
  {
   "cell_type": "markdown",
   "metadata": {},
   "source": [
    "##### Lancement et utilisation de Git"
   ]
  },
  {
   "cell_type": "markdown",
   "metadata": {},
   "source": [
    "* Ouvrez le terminal \"Git Bash\""
   ]
  },
  {
   "cell_type": "markdown",
   "metadata": {},
   "source": [
    "![13](https://raw.githubusercontent.com/AdrienMereghetti/Environnement_cours/development/data/notebooks/images/git_clone_windows/13.png)"
   ]
  },
  {
   "cell_type": "markdown",
   "metadata": {},
   "source": [
    "![14](https://raw.githubusercontent.com/AdrienMereghetti/Environnement_cours/development/data/notebooks/images/git_clone_windows/14.png)"
   ]
  },
  {
   "cell_type": "markdown",
   "metadata": {},
   "source": [
    "* placez-vous dans le repertoire dans lequel vous voulez récupéré le projet:\n",
    "```\n",
    "cd Documents/\n",
    "```"
   ]
  },
  {
   "cell_type": "markdown",
   "metadata": {},
   "source": [
    "![15](https://raw.githubusercontent.com/AdrienMereghetti/Environnement_cours/development/data/notebooks/images/git_clone_windows/15.png)"
   ]
  },
  {
   "cell_type": "markdown",
   "metadata": {},
   "source": [
    "* Créez le repertoire du projet\n",
    "```\n",
    "mkdir environnement_cours\n",
    "```"
   ]
  },
  {
   "cell_type": "markdown",
   "metadata": {},
   "source": [
    "![16](https://raw.githubusercontent.com/AdrienMereghetti/Environnement_cours/development/data/notebooks/images/git_clone_windows/16.png)"
   ]
  },
  {
   "cell_type": "markdown",
   "metadata": {},
   "source": [
    "* Allez sur GitHub puis copier le lien https de clonnage"
   ]
  },
  {
   "cell_type": "markdown",
   "metadata": {},
   "source": [
    "![4](https://raw.githubusercontent.com/AdrienMereghetti/Environnement_cours/development/data/notebooks/images/git_clone/4.png)"
   ]
  },
  {
   "cell_type": "markdown",
   "metadata": {},
   "source": [
    "* Puis tapez dans votre terminal:\n",
    "```\n",
    "git clone https://github.com/AdrienMereghetti/Environnement_cours.git environnement_cours\n",
    "```"
   ]
  },
  {
   "cell_type": "markdown",
   "metadata": {},
   "source": [
    "![17](https://raw.githubusercontent.com/AdrienMereghetti/Environnement_cours/development/data/notebooks/images/git_clone_windows/17.png)"
   ]
  },
  {
   "cell_type": "markdown",
   "metadata": {},
   "source": [
    "* Le projet GitHub ce trouve maintenant sur votre poste"
   ]
  },
  {
   "cell_type": "markdown",
   "metadata": {},
   "source": [
    "## Créer un repository"
   ]
  },
  {
   "cell_type": "code",
   "execution_count": 1,
   "metadata": {},
   "outputs": [
    {
     "name": "stdout",
     "output_type": "stream",
     "text": [
      "![1](https://raw.githubusercontent.com/AdrienMereghetti/Environnement_cours/development/data/notebooks/images/new_repo/1.png)\n",
      "![2](https://raw.githubusercontent.com/AdrienMereghetti/Environnement_cours/development/data/notebooks/images/new_repo/2.png)\n",
      "![3](https://raw.githubusercontent.com/AdrienMereghetti/Environnement_cours/development/data/notebooks/images/new_repo/3.png)\n",
      "![4](https://raw.githubusercontent.com/AdrienMereghetti/Environnement_cours/development/data/notebooks/images/new_repo/4.png)\n",
      "![5](https://raw.githubusercontent.com/AdrienMereghetti/Environnement_cours/development/data/notebooks/images/new_repo/5.png)\n",
      "![6](https://raw.githubusercontent.com/AdrienMereghetti/Environnement_cours/development/data/notebooks/images/new_repo/6.png)\n",
      "![7](https://raw.githubusercontent.com/AdrienMereghetti/Environnement_cours/development/data/notebooks/images/new_repo/7.png)\n",
      "![8](https://raw.githubusercontent.com/AdrienMereghetti/Environnement_cours/development/data/notebooks/images/new_repo/8.png)\n"
     ]
    }
   ],
   "source": [
    "for i in range(1,8+1):\n",
    "    print(\"![%s](https://raw.githubusercontent.com/AdrienMereghetti/Environnement_cours/development/data/notebooks/images/new_repo/%s.png)\"%(i,i))"
   ]
  },
  {
   "cell_type": "markdown",
   "metadata": {},
   "source": [
    "* Crééez un compte sur GitHub\n",
    "* Loggez-vous\n",
    "* Cliquez sur le +\n",
    "* Puis \"New repository\"\n",
    "\n",
    "![1](https://raw.githubusercontent.com/AdrienMereghetti/Environnement_cours/development/data/notebooks/images/new_repo/1.png)"
   ]
  },
  {
   "cell_type": "markdown",
   "metadata": {},
   "source": [
    "![2](https://raw.githubusercontent.com/AdrienMereghetti/Environnement_cours/development/data/notebooks/images/new_repo/2.png)"
   ]
  },
  {
   "cell_type": "markdown",
   "metadata": {},
   "source": [
    "![3](https://raw.githubusercontent.com/AdrienMereghetti/Environnement_cours/development/data/notebooks/images/new_repo/3.png)"
   ]
  },
  {
   "cell_type": "markdown",
   "metadata": {},
   "source": [
    "![4](https://raw.githubusercontent.com/AdrienMereghetti/Environnement_cours/development/data/notebooks/images/new_repo/4.png)"
   ]
  },
  {
   "cell_type": "markdown",
   "metadata": {},
   "source": [
    "![5](https://raw.githubusercontent.com/AdrienMereghetti/Environnement_cours/development/data/notebooks/images/new_repo/5.png)"
   ]
  },
  {
   "cell_type": "markdown",
   "metadata": {},
   "source": [
    "![6](https://raw.githubusercontent.com/AdrienMereghetti/Environnement_cours/development/data/notebooks/images/new_repo/6.png)"
   ]
  },
  {
   "cell_type": "markdown",
   "metadata": {},
   "source": [
    "![7](https://raw.githubusercontent.com/AdrienMereghetti/Environnement_cours/development/data/notebooks/images/new_repo/7.png)"
   ]
  },
  {
   "cell_type": "markdown",
   "metadata": {},
   "source": [
    "![8](https://raw.githubusercontent.com/AdrienMereghetti/Environnement_cours/development/data/notebooks/images/new_repo/8.png)"
   ]
  },
  {
   "cell_type": "markdown",
   "metadata": {},
   "source": [
    "## Push"
   ]
  },
  {
   "cell_type": "markdown",
   "metadata": {},
   "source": [
    "## Pull"
   ]
  },
  {
   "cell_type": "markdown",
   "metadata": {},
   "source": [
    "# Jupyter"
   ]
  },
  {
   "cell_type": "markdown",
   "metadata": {},
   "source": [
    "## Markdown\n",
    "\n",
    "Dans Jupyter on as Deux principaux type de bloc:\n",
    "* les bloc Markdown comme celui-ci utilisé principalement pour documenter un Notebook\n",
    "* les bloc de code\n",
    "\n",
    "Ci-contre un lien vers les principales syntaxes du Markdown\n",
    "https://github.com/adam-p/markdown-here/wiki/Markdown-Cheatsheet"
   ]
  },
  {
   "cell_type": "markdown",
   "metadata": {},
   "source": [
    "## Commandes UNIX\n",
    "\n",
    "Dans un bloc de type \"code\" dans Jupyter, nous pouvons executer des commandes unix en mettant \"!\" devant celle-ci"
   ]
  },
  {
   "cell_type": "code",
   "execution_count": 2,
   "metadata": {},
   "outputs": [
    {
     "name": "stdout",
     "output_type": "stream",
     "text": [
      "total 160K\r\n",
      "4.0K drwxrwxr-x   5 jovyan  1000 4.0K Sep 27 15:47 .\r\n",
      "4.0K drwxr-xr-x 102 root   root  4.0K Sep 27 15:27 ..\r\n",
      " 28K -rw-rw-r--   1 jovyan  1000  25K Sep 14 13:06 API Twitter.ipynb\r\n",
      "4.0K drwxrwxr-x   2 jovyan  1000 4.0K Sep 26 16:03 csv\r\n",
      "108K -rw-r--r--   1 jovyan users 107K Sep 27 15:47 Formation_Python.ipynb\r\n",
      "4.0K -rw-rw-r--   1 jovyan  1000   19 May  2 07:59 .gitignore\r\n",
      "4.0K drwxrwxr-x   8 jovyan  1000 4.0K Sep 27 15:42 images\r\n",
      "4.0K drwxr-xr-x   2 jovyan users 4.0K Sep 14 13:30 .ipynb_checkpoints\r\n"
     ]
    }
   ],
   "source": [
    "!ls -lsah"
   ]
  },
  {
   "cell_type": "markdown",
   "metadata": {},
   "source": [
    "Si une library Python est manquante, nous pouvons aussi l'installer via une ligne de commande linux:\n",
    "```\n",
    "    !pip install NomDuModuleManquant\n",
    "```"
   ]
  },
  {
   "cell_type": "code",
   "execution_count": 3,
   "metadata": {},
   "outputs": [
    {
     "name": "stdout",
     "output_type": "stream",
     "text": [
      "Requirement already satisfied: pymongo in /opt/conda/lib/python3.5/site-packages\r\n"
     ]
    }
   ],
   "source": [
    "!pip install pymongo"
   ]
  },
  {
   "cell_type": "markdown",
   "metadata": {},
   "source": [
    "## Export PDF\n",
    "\n",
    "Il est possible d'exporter sous un format PDF "
   ]
  },
  {
   "cell_type": "markdown",
   "metadata": {},
   "source": [
    "![1](https://raw.githubusercontent.com/AdrienMereghetti/Environnement_cours/development/data/notebooks/images/Jupyter/1.png)"
   ]
  },
  {
   "cell_type": "markdown",
   "metadata": {},
   "source": [
    "![2](https://raw.githubusercontent.com/AdrienMereghetti/Environnement_cours/development/data/notebooks/images/Jupyter/2.png)"
   ]
  },
  {
   "cell_type": "markdown",
   "metadata": {},
   "source": [
    "## Export .py\n",
    "\n",
    "Tout un notebook est exportable et directement utilisable en .py (script python pure)"
   ]
  },
  {
   "cell_type": "markdown",
   "metadata": {},
   "source": [
    "![3](https://raw.githubusercontent.com/AdrienMereghetti/Environnement_cours/development/data/notebooks/images/Jupyter/3.png)"
   ]
  },
  {
   "cell_type": "markdown",
   "metadata": {},
   "source": [
    "# Python basic"
   ]
  },
  {
   "cell_type": "markdown",
   "metadata": {},
   "source": [
    "## Commentaire"
   ]
  },
  {
   "cell_type": "code",
   "execution_count": 4,
   "metadata": {
    "collapsed": true
   },
   "outputs": [],
   "source": [
    "# Il suffit de mettre \"#\" au début d'une ligne pour signifier à python que c'est un commentaire"
   ]
  },
  {
   "cell_type": "markdown",
   "metadata": {},
   "source": [
    "## Print"
   ]
  },
  {
   "cell_type": "code",
   "execution_count": 5,
   "metadata": {},
   "outputs": [
    {
     "name": "stdout",
     "output_type": "stream",
     "text": [
      "Hello World\n"
     ]
    }
   ],
   "source": [
    "print(\"Hello World\")"
   ]
  },
  {
   "cell_type": "markdown",
   "metadata": {},
   "source": [
    "## Variables\n",
    "\n",
    "Pour déclarer une variable:\n",
    "\n",
    "```python\n",
    "nom_de_variable = valeur\n",
    "```\n"
   ]
  },
  {
   "cell_type": "code",
   "execution_count": 6,
   "metadata": {},
   "outputs": [
    {
     "name": "stdout",
     "output_type": "stream",
     "text": [
      "42\n"
     ]
    }
   ],
   "source": [
    "ma_variable = 42\n",
    "print(ma_variable) "
   ]
  },
  {
   "cell_type": "markdown",
   "metadata": {},
   "source": [
    "On peut nommer une variable comme on veux a l'exception de quelques variable **reservées** Python 3:\n",
    "\n",
    "![8](https://raw.githubusercontent.com/AdrienMereghetti/Environnement_cours/development/data/notebooks/images/Python/1.png)"
   ]
  },
  {
   "cell_type": "markdown",
   "metadata": {},
   "source": [
    "Il existe différents type de variables en python\n",
    "\n",
    "Il n'y a pas besoin d'indiquer en Python de quel type est cette variable, il la reconnait seul.\n",
    "\n",
    "On peut connaitre le type d'un variable via la fonction Python\n",
    "\n",
    "```Python\n",
    "type(ma_variable)\n",
    "```"
   ]
  },
  {
   "cell_type": "markdown",
   "metadata": {},
   "source": [
    "### Les nombres entiers\n",
    "\n",
    "Le type entier se nomme **int** en Python (qui correspond à l'anglais « integer », c'est-à-dire entier). La forme d'un entier est un nombre sans virgule."
   ]
  },
  {
   "cell_type": "code",
   "execution_count": 7,
   "metadata": {},
   "outputs": [
    {
     "data": {
      "text/plain": [
       "int"
      ]
     },
     "execution_count": 7,
     "metadata": {},
     "output_type": "execute_result"
    }
   ],
   "source": [
    "variable_int = 42\n",
    "type(variable_int)"
   ]
  },
  {
   "cell_type": "markdown",
   "metadata": {},
   "source": [
    "### Les nombres flottants\n",
    "Les flottants sont les nombres à virgule. Ils se nomment **float** en Python (ce qui signifie « flottant » en anglais). \n",
    "(Python n'étant pas un language Français les nombres à virgules sont écrits avec des \"**.**\" )\n",
    "\n",
    "```Python\n",
    "12.5\n",
    "```"
   ]
  },
  {
   "cell_type": "code",
   "execution_count": 8,
   "metadata": {},
   "outputs": [
    {
     "data": {
      "text/plain": [
       "float"
      ]
     },
     "execution_count": 8,
     "metadata": {},
     "output_type": "execute_result"
    }
   ],
   "source": [
    "variable_float = 152.66\n",
    "type(variable_float)"
   ]
  },
  {
   "cell_type": "markdown",
   "metadata": {},
   "source": [
    "### Les chaînes de caractères\n",
    "Ce type de donnée permet de stocker une série de lettres comme par exemple une phrase. Ils se nomment **str** en Python (qui correspond à l'anglais « string »)\n",
    "\n",
    "entre guillemets \n",
    "```Python\n",
    "\"ceci est une chaîne de caractères\"\n",
    "```\n",
    "entre apostrophes\n",
    "```Python\n",
    "'ceci est une chaîne de caractères'\n",
    "```\n",
    "entre triples guillemets\n",
    "```Python\n",
    "\"\"\"ceci est une chaîne de caractères\"\"\"\n",
    "\n",
    "\"\"\"\n",
    "ceci est une chaîne de caractères\n",
    "que l'on peux aussi écrire sur \n",
    "plusieurs lignes\n",
    "\"\"\"\n",
    "\n",
    "```\n"
   ]
  },
  {
   "cell_type": "code",
   "execution_count": 9,
   "metadata": {},
   "outputs": [
    {
     "name": "stdout",
     "output_type": "stream",
     "text": [
      "Cette chaîne de caractères\n"
     ]
    }
   ],
   "source": [
    "print('Cette chaîne de caractères')"
   ]
  },
  {
   "cell_type": "code",
   "execution_count": 11,
   "metadata": {},
   "outputs": [
    {
     "ename": "SyntaxError",
     "evalue": "invalid syntax (<ipython-input-11-281db01e4a31>, line 1)",
     "output_type": "error",
     "traceback": [
      "\u001b[0;36m  File \u001b[0;32m\"<ipython-input-11-281db01e4a31>\"\u001b[0;36m, line \u001b[0;32m1\u001b[0m\n\u001b[0;31m    chaine = 'J'aime le Python!'\u001b[0m\n\u001b[0m                   ^\u001b[0m\n\u001b[0;31mSyntaxError\u001b[0m\u001b[0;31m:\u001b[0m invalid syntax\n"
     ]
    }
   ],
   "source": [
    "chaine = 'J'aime le Python!'"
   ]
  },
  {
   "cell_type": "markdown",
   "metadata": {},
   "source": [
    "Cette chaîne de caractères ci dessus retourne une erreur car il y à un apostrophes.\n",
    "Il faut échapper les apostrophes se trouvant au cœur de la chaîne avec \"\\\", il n'apparaitra pas dans le print"
   ]
  },
  {
   "cell_type": "code",
   "execution_count": 12,
   "metadata": {},
   "outputs": [
    {
     "name": "stdout",
     "output_type": "stream",
     "text": [
      "J'aime le Python!\n"
     ]
    }
   ],
   "source": [
    "chaine = 'J\\'aime le Python!'\n",
    "print(chaine)"
   ]
  },
  {
   "cell_type": "code",
   "execution_count": 13,
   "metadata": {},
   "outputs": [
    {
     "name": "stdout",
     "output_type": "stream",
     "text": [
      "J'aime le Python!\n"
     ]
    }
   ],
   "source": [
    "# On peux aussi utiliser les quillemet pour utiliser des apostrophe dans la chaine sans problèmes\n",
    "\n",
    "chaine = \"J'aime le Python!\"\n",
    "print(chaine)"
   ]
  },
  {
   "cell_type": "markdown",
   "metadata": {},
   "source": [
    "### Utilisation des variables"
   ]
  },
  {
   "cell_type": "code",
   "execution_count": 14,
   "metadata": {
    "collapsed": true
   },
   "outputs": [],
   "source": [
    "age = 21"
   ]
  },
  {
   "cell_type": "code",
   "execution_count": 15,
   "metadata": {},
   "outputs": [
    {
     "name": "stdout",
     "output_type": "stream",
     "text": [
      "42\n"
     ]
    }
   ],
   "source": [
    "# On peut faire toutes sortes de calcules avec les variables numérique (Int ou Float)\n",
    "\n",
    "age_x2 = age * 2\n",
    "print(age_x2)"
   ]
  },
  {
   "cell_type": "code",
   "execution_count": 16,
   "metadata": {},
   "outputs": [
    {
     "name": "stdout",
     "output_type": "stream",
     "text": [
      "21\n"
     ]
    }
   ],
   "source": [
    "# La variable \"age\" ne change pas\n",
    "print(age)"
   ]
  },
  {
   "cell_type": "code",
   "execution_count": 17,
   "metadata": {},
   "outputs": [
    {
     "name": "stdout",
     "output_type": "stream",
     "text": [
      "22\n"
     ]
    }
   ],
   "source": [
    "# On peux incrémenter une variable de deux manière différentes\n",
    "\n",
    "age = age + 1\n",
    "print(age)"
   ]
  },
  {
   "cell_type": "code",
   "execution_count": 18,
   "metadata": {},
   "outputs": [
    {
     "name": "stdout",
     "output_type": "stream",
     "text": [
      "23\n"
     ]
    }
   ],
   "source": [
    "# La syntaxe ci-dessus est claire et intuitive mais assez longue, et les programmeurs, tout le monde le sait, sont des fainéants nés. On a donc trouvé plus court.\n",
    "age += 1\n",
    "print(age)"
   ]
  },
  {
   "cell_type": "code",
   "execution_count": 19,
   "metadata": {},
   "outputs": [
    {
     "name": "stdout",
     "output_type": "stream",
     "text": [
      "6411.72\n"
     ]
    }
   ],
   "source": [
    "# Combiner plusieurs types de variable est possible \n",
    "\n",
    "variable_int_float = variable_int * variable_float\n",
    "print(variable_int_float)"
   ]
  },
  {
   "cell_type": "code",
   "execution_count": 20,
   "metadata": {},
   "outputs": [
    {
     "name": "stdout",
     "output_type": "stream",
     "text": [
      "Mon age est: 25 ans, dans deux ans j'en aurai : 27\n"
     ]
    }
   ],
   "source": [
    "# On peux aussi combiner un string avec d'autre type de variable de cette manière:\n",
    "\n",
    "var_string = \"Mon age est:\"\n",
    "var_int = 25\n",
    "var_mix = \"%s %i ans, dans deux ans j'en aurai : %i\" % (var_string, var_int, var_int+2)\n",
    "print(var_mix)"
   ]
  },
  {
   "cell_type": "markdown",
   "metadata": {},
   "source": [
    "* **%s** signifie que l'on va insérer un **String**\n",
    "* **%i** signifie que l'on va insérer un **Integer**\n",
    "* **%f** signifie que l'on va insérer un **Float**\n",
    "\n",
    "Ils sont mis entre () dans l'ordre de notre string"
   ]
  },
  {
   "cell_type": "markdown",
   "metadata": {},
   "source": [
    "## If"
   ]
  },
  {
   "cell_type": "code",
   "execution_count": 21,
   "metadata": {},
   "outputs": [
    {
     "name": "stdout",
     "output_type": "stream",
     "text": [
      "La variable \"annee\" est bien 2017\n"
     ]
    }
   ],
   "source": [
    "annee = 2017\n",
    "\n",
    "# Si annee est égal à 2017, alors on execute ce qui se trouve dans le \"if\"\n",
    "if annee == 2017:\n",
    "    print('La variable \"annee\" est bien %i'%annee)\n",
    "# Sinon on execute ce qui se trouve dans le \"else\"\n",
    "else:\n",
    "    print(\"annee est incorecte, elle devrait etre 2017 mais elle est égal à %i\"%annee)"
   ]
  },
  {
   "cell_type": "code",
   "execution_count": 22,
   "metadata": {},
   "outputs": [
    {
     "name": "stdout",
     "output_type": "stream",
     "text": [
      "annee est incorecte, elle devrait etre 2017 mais elle est égal à 2042\n"
     ]
    }
   ],
   "source": [
    "annee = 2042\n",
    "\n",
    "# Si annee est égal à 2017, alors on execute ce qui se trouve dans le \"if\"\n",
    "if annee == 2017:\n",
    "    print('La variable \"annee\" est bien %i'%annee)\n",
    "# Sinon on execute ce qui se trouve dans le \"else\"\n",
    "else:\n",
    "    print(\"annee est incorecte, elle devrait etre 2017 mais elle est égal à %i\"%annee)"
   ]
  },
  {
   "cell_type": "markdown",
   "metadata": {},
   "source": [
    "## Boucle"
   ]
  },
  {
   "cell_type": "markdown",
   "metadata": {},
   "source": [
    "### For\n",
    "\n",
    "Lorsque l’on souhaite répéter un nombre donné de fois la même instruction ou le même bloc d’instructions, la commande **for** est la plus appropriée.\n",
    "\n",
    "Admettons que l’on veuille afficher 666 fois la phrase \"Metal music rocks !\". Voici ce que l’on peut faire."
   ]
  },
  {
   "cell_type": "code",
   "execution_count": 23,
   "metadata": {},
   "outputs": [
    {
     "name": "stdout",
     "output_type": "stream",
     "text": [
      "Metal music rocks !\n",
      "Metal music rocks !\n",
      "Metal music rocks !\n",
      "Metal music rocks !\n",
      "Metal music rocks !\n",
      "Metal music rocks !\n",
      "Metal music rocks !\n",
      "Metal music rocks !\n",
      "Metal music rocks !\n",
      "Metal music rocks !\n",
      "Metal music rocks !\n",
      "Metal music rocks !\n",
      "Metal music rocks !\n",
      "Metal music rocks !\n",
      "Metal music rocks !\n",
      "Metal music rocks !\n",
      "Metal music rocks !\n",
      "Metal music rocks !\n",
      "Metal music rocks !\n",
      "Metal music rocks !\n",
      "Metal music rocks !\n",
      "Metal music rocks !\n",
      "Metal music rocks !\n",
      "Metal music rocks !\n",
      "Metal music rocks !\n",
      "Metal music rocks !\n",
      "Metal music rocks !\n",
      "Metal music rocks !\n",
      "Metal music rocks !\n",
      "Metal music rocks !\n",
      "Metal music rocks !\n",
      "Metal music rocks !\n",
      "Metal music rocks !\n",
      "Metal music rocks !\n",
      "Metal music rocks !\n",
      "Metal music rocks !\n",
      "Metal music rocks !\n",
      "Metal music rocks !\n",
      "Metal music rocks !\n",
      "Metal music rocks !\n",
      "Metal music rocks !\n",
      "Metal music rocks !\n",
      "Metal music rocks !\n",
      "Metal music rocks !\n",
      "Metal music rocks !\n",
      "Metal music rocks !\n",
      "Metal music rocks !\n",
      "Metal music rocks !\n",
      "Metal music rocks !\n",
      "Metal music rocks !\n",
      "Metal music rocks !\n",
      "Metal music rocks !\n",
      "Metal music rocks !\n",
      "Metal music rocks !\n",
      "Metal music rocks !\n",
      "Metal music rocks !\n",
      "Metal music rocks !\n",
      "Metal music rocks !\n",
      "Metal music rocks !\n",
      "Metal music rocks !\n",
      "Metal music rocks !\n",
      "Metal music rocks !\n",
      "Metal music rocks !\n",
      "Metal music rocks !\n",
      "Metal music rocks !\n",
      "Metal music rocks !\n",
      "Metal music rocks !\n",
      "Metal music rocks !\n",
      "Metal music rocks !\n",
      "Metal music rocks !\n",
      "Metal music rocks !\n",
      "Metal music rocks !\n",
      "Metal music rocks !\n",
      "Metal music rocks !\n",
      "Metal music rocks !\n",
      "Metal music rocks !\n",
      "Metal music rocks !\n",
      "Metal music rocks !\n",
      "Metal music rocks !\n",
      "Metal music rocks !\n",
      "Metal music rocks !\n",
      "Metal music rocks !\n",
      "Metal music rocks !\n",
      "Metal music rocks !\n",
      "Metal music rocks !\n",
      "Metal music rocks !\n",
      "Metal music rocks !\n",
      "Metal music rocks !\n",
      "Metal music rocks !\n",
      "Metal music rocks !\n",
      "Metal music rocks !\n",
      "Metal music rocks !\n",
      "Metal music rocks !\n",
      "Metal music rocks !\n",
      "Metal music rocks !\n",
      "Metal music rocks !\n",
      "Metal music rocks !\n",
      "Metal music rocks !\n",
      "Metal music rocks !\n",
      "Metal music rocks !\n",
      "Metal music rocks !\n",
      "Metal music rocks !\n",
      "Metal music rocks !\n",
      "Metal music rocks !\n",
      "Metal music rocks !\n",
      "Metal music rocks !\n",
      "Metal music rocks !\n",
      "Metal music rocks !\n",
      "Metal music rocks !\n",
      "Metal music rocks !\n",
      "Metal music rocks !\n",
      "Metal music rocks !\n",
      "Metal music rocks !\n",
      "Metal music rocks !\n",
      "Metal music rocks !\n",
      "Metal music rocks !\n",
      "Metal music rocks !\n",
      "Metal music rocks !\n",
      "Metal music rocks !\n",
      "Metal music rocks !\n",
      "Metal music rocks !\n",
      "Metal music rocks !\n",
      "Metal music rocks !\n",
      "Metal music rocks !\n",
      "Metal music rocks !\n",
      "Metal music rocks !\n",
      "Metal music rocks !\n",
      "Metal music rocks !\n",
      "Metal music rocks !\n",
      "Metal music rocks !\n",
      "Metal music rocks !\n",
      "Metal music rocks !\n",
      "Metal music rocks !\n",
      "Metal music rocks !\n",
      "Metal music rocks !\n",
      "Metal music rocks !\n",
      "Metal music rocks !\n",
      "Metal music rocks !\n",
      "Metal music rocks !\n",
      "Metal music rocks !\n",
      "Metal music rocks !\n",
      "Metal music rocks !\n",
      "Metal music rocks !\n",
      "Metal music rocks !\n",
      "Metal music rocks !\n",
      "Metal music rocks !\n",
      "Metal music rocks !\n",
      "Metal music rocks !\n",
      "Metal music rocks !\n",
      "Metal music rocks !\n",
      "Metal music rocks !\n",
      "Metal music rocks !\n",
      "Metal music rocks !\n",
      "Metal music rocks !\n",
      "Metal music rocks !\n",
      "Metal music rocks !\n",
      "Metal music rocks !\n",
      "Metal music rocks !\n",
      "Metal music rocks !\n",
      "Metal music rocks !\n",
      "Metal music rocks !\n",
      "Metal music rocks !\n",
      "Metal music rocks !\n",
      "Metal music rocks !\n",
      "Metal music rocks !\n",
      "Metal music rocks !\n",
      "Metal music rocks !\n",
      "Metal music rocks !\n",
      "Metal music rocks !\n",
      "Metal music rocks !\n",
      "Metal music rocks !\n",
      "Metal music rocks !\n",
      "Metal music rocks !\n",
      "Metal music rocks !\n",
      "Metal music rocks !\n",
      "Metal music rocks !\n",
      "Metal music rocks !\n",
      "Metal music rocks !\n",
      "Metal music rocks !\n",
      "Metal music rocks !\n",
      "Metal music rocks !\n",
      "Metal music rocks !\n",
      "Metal music rocks !\n",
      "Metal music rocks !\n",
      "Metal music rocks !\n",
      "Metal music rocks !\n",
      "Metal music rocks !\n",
      "Metal music rocks !\n",
      "Metal music rocks !\n",
      "Metal music rocks !\n",
      "Metal music rocks !\n",
      "Metal music rocks !\n",
      "Metal music rocks !\n",
      "Metal music rocks !\n",
      "Metal music rocks !\n",
      "Metal music rocks !\n",
      "Metal music rocks !\n",
      "Metal music rocks !\n",
      "Metal music rocks !\n",
      "Metal music rocks !\n",
      "Metal music rocks !\n",
      "Metal music rocks !\n",
      "Metal music rocks !\n",
      "Metal music rocks !\n",
      "Metal music rocks !\n",
      "Metal music rocks !\n",
      "Metal music rocks !\n",
      "Metal music rocks !\n",
      "Metal music rocks !\n",
      "Metal music rocks !\n",
      "Metal music rocks !\n",
      "Metal music rocks !\n",
      "Metal music rocks !\n",
      "Metal music rocks !\n",
      "Metal music rocks !\n",
      "Metal music rocks !\n",
      "Metal music rocks !\n",
      "Metal music rocks !\n",
      "Metal music rocks !\n",
      "Metal music rocks !\n",
      "Metal music rocks !\n",
      "Metal music rocks !\n",
      "Metal music rocks !\n",
      "Metal music rocks !\n",
      "Metal music rocks !\n",
      "Metal music rocks !\n",
      "Metal music rocks !\n",
      "Metal music rocks !\n",
      "Metal music rocks !\n",
      "Metal music rocks !\n",
      "Metal music rocks !\n",
      "Metal music rocks !\n",
      "Metal music rocks !\n",
      "Metal music rocks !\n",
      "Metal music rocks !\n",
      "Metal music rocks !\n",
      "Metal music rocks !\n",
      "Metal music rocks !\n",
      "Metal music rocks !\n",
      "Metal music rocks !\n",
      "Metal music rocks !\n",
      "Metal music rocks !\n",
      "Metal music rocks !\n",
      "Metal music rocks !\n",
      "Metal music rocks !\n",
      "Metal music rocks !\n",
      "Metal music rocks !\n",
      "Metal music rocks !\n",
      "Metal music rocks !\n",
      "Metal music rocks !\n",
      "Metal music rocks !\n",
      "Metal music rocks !\n",
      "Metal music rocks !\n",
      "Metal music rocks !\n",
      "Metal music rocks !\n",
      "Metal music rocks !\n",
      "Metal music rocks !\n",
      "Metal music rocks !\n",
      "Metal music rocks !\n",
      "Metal music rocks !\n",
      "Metal music rocks !\n",
      "Metal music rocks !\n",
      "Metal music rocks !\n",
      "Metal music rocks !\n",
      "Metal music rocks !\n",
      "Metal music rocks !\n",
      "Metal music rocks !\n",
      "Metal music rocks !\n",
      "Metal music rocks !\n",
      "Metal music rocks !\n",
      "Metal music rocks !\n",
      "Metal music rocks !\n",
      "Metal music rocks !\n",
      "Metal music rocks !\n",
      "Metal music rocks !\n",
      "Metal music rocks !\n",
      "Metal music rocks !\n",
      "Metal music rocks !\n",
      "Metal music rocks !\n",
      "Metal music rocks !\n",
      "Metal music rocks !\n",
      "Metal music rocks !\n",
      "Metal music rocks !\n",
      "Metal music rocks !\n",
      "Metal music rocks !\n",
      "Metal music rocks !\n",
      "Metal music rocks !\n",
      "Metal music rocks !\n",
      "Metal music rocks !\n",
      "Metal music rocks !\n",
      "Metal music rocks !\n",
      "Metal music rocks !\n",
      "Metal music rocks !\n",
      "Metal music rocks !\n",
      "Metal music rocks !\n",
      "Metal music rocks !\n",
      "Metal music rocks !\n",
      "Metal music rocks !\n",
      "Metal music rocks !\n",
      "Metal music rocks !\n",
      "Metal music rocks !\n",
      "Metal music rocks !\n",
      "Metal music rocks !\n",
      "Metal music rocks !\n",
      "Metal music rocks !\n",
      "Metal music rocks !\n",
      "Metal music rocks !\n",
      "Metal music rocks !\n",
      "Metal music rocks !\n",
      "Metal music rocks !\n",
      "Metal music rocks !\n",
      "Metal music rocks !\n",
      "Metal music rocks !\n",
      "Metal music rocks !\n",
      "Metal music rocks !\n",
      "Metal music rocks !\n",
      "Metal music rocks !\n",
      "Metal music rocks !\n",
      "Metal music rocks !\n",
      "Metal music rocks !\n",
      "Metal music rocks !\n",
      "Metal music rocks !\n",
      "Metal music rocks !\n",
      "Metal music rocks !\n",
      "Metal music rocks !\n",
      "Metal music rocks !\n",
      "Metal music rocks !\n",
      "Metal music rocks !\n",
      "Metal music rocks !\n",
      "Metal music rocks !\n",
      "Metal music rocks !\n",
      "Metal music rocks !\n",
      "Metal music rocks !\n",
      "Metal music rocks !\n",
      "Metal music rocks !\n",
      "Metal music rocks !\n",
      "Metal music rocks !\n",
      "Metal music rocks !\n",
      "Metal music rocks !\n",
      "Metal music rocks !\n",
      "Metal music rocks !\n",
      "Metal music rocks !\n",
      "Metal music rocks !\n",
      "Metal music rocks !\n",
      "Metal music rocks !\n",
      "Metal music rocks !\n",
      "Metal music rocks !\n",
      "Metal music rocks !\n",
      "Metal music rocks !\n",
      "Metal music rocks !\n",
      "Metal music rocks !\n",
      "Metal music rocks !\n",
      "Metal music rocks !\n",
      "Metal music rocks !\n",
      "Metal music rocks !\n",
      "Metal music rocks !\n",
      "Metal music rocks !\n",
      "Metal music rocks !\n",
      "Metal music rocks !\n",
      "Metal music rocks !\n",
      "Metal music rocks !\n",
      "Metal music rocks !\n",
      "Metal music rocks !\n",
      "Metal music rocks !\n",
      "Metal music rocks !\n",
      "Metal music rocks !\n",
      "Metal music rocks !\n",
      "Metal music rocks !\n",
      "Metal music rocks !\n",
      "Metal music rocks !\n",
      "Metal music rocks !\n",
      "Metal music rocks !\n",
      "Metal music rocks !\n",
      "Metal music rocks !\n",
      "Metal music rocks !\n",
      "Metal music rocks !\n",
      "Metal music rocks !\n",
      "Metal music rocks !\n",
      "Metal music rocks !\n",
      "Metal music rocks !\n",
      "Metal music rocks !\n",
      "Metal music rocks !\n",
      "Metal music rocks !\n",
      "Metal music rocks !\n",
      "Metal music rocks !\n",
      "Metal music rocks !\n",
      "Metal music rocks !\n",
      "Metal music rocks !\n",
      "Metal music rocks !\n",
      "Metal music rocks !\n",
      "Metal music rocks !\n",
      "Metal music rocks !\n",
      "Metal music rocks !\n",
      "Metal music rocks !\n",
      "Metal music rocks !\n",
      "Metal music rocks !\n",
      "Metal music rocks !\n",
      "Metal music rocks !\n",
      "Metal music rocks !\n",
      "Metal music rocks !\n",
      "Metal music rocks !\n",
      "Metal music rocks !\n",
      "Metal music rocks !\n",
      "Metal music rocks !\n",
      "Metal music rocks !\n",
      "Metal music rocks !\n",
      "Metal music rocks !\n",
      "Metal music rocks !\n",
      "Metal music rocks !\n",
      "Metal music rocks !\n",
      "Metal music rocks !\n",
      "Metal music rocks !\n",
      "Metal music rocks !\n",
      "Metal music rocks !\n",
      "Metal music rocks !\n",
      "Metal music rocks !\n",
      "Metal music rocks !\n",
      "Metal music rocks !\n",
      "Metal music rocks !\n",
      "Metal music rocks !\n",
      "Metal music rocks !\n",
      "Metal music rocks !\n",
      "Metal music rocks !\n"
     ]
    },
    {
     "name": "stdout",
     "output_type": "stream",
     "text": [
      "Metal music rocks !\n",
      "Metal music rocks !\n",
      "Metal music rocks !\n",
      "Metal music rocks !\n",
      "Metal music rocks !\n",
      "Metal music rocks !\n",
      "Metal music rocks !\n",
      "Metal music rocks !\n",
      "Metal music rocks !\n",
      "Metal music rocks !\n",
      "Metal music rocks !\n",
      "Metal music rocks !\n",
      "Metal music rocks !\n",
      "Metal music rocks !\n",
      "Metal music rocks !\n",
      "Metal music rocks !\n",
      "Metal music rocks !\n",
      "Metal music rocks !\n",
      "Metal music rocks !\n",
      "Metal music rocks !\n",
      "Metal music rocks !\n",
      "Metal music rocks !\n",
      "Metal music rocks !\n",
      "Metal music rocks !\n",
      "Metal music rocks !\n",
      "Metal music rocks !\n",
      "Metal music rocks !\n",
      "Metal music rocks !\n",
      "Metal music rocks !\n",
      "Metal music rocks !\n",
      "Metal music rocks !\n",
      "Metal music rocks !\n",
      "Metal music rocks !\n",
      "Metal music rocks !\n",
      "Metal music rocks !\n",
      "Metal music rocks !\n",
      "Metal music rocks !\n",
      "Metal music rocks !\n",
      "Metal music rocks !\n",
      "Metal music rocks !\n",
      "Metal music rocks !\n",
      "Metal music rocks !\n",
      "Metal music rocks !\n",
      "Metal music rocks !\n",
      "Metal music rocks !\n",
      "Metal music rocks !\n",
      "Metal music rocks !\n",
      "Metal music rocks !\n",
      "Metal music rocks !\n",
      "Metal music rocks !\n",
      "Metal music rocks !\n",
      "Metal music rocks !\n",
      "Metal music rocks !\n",
      "Metal music rocks !\n",
      "Metal music rocks !\n",
      "Metal music rocks !\n",
      "Metal music rocks !\n",
      "Metal music rocks !\n",
      "Metal music rocks !\n",
      "Metal music rocks !\n",
      "Metal music rocks !\n",
      "Metal music rocks !\n",
      "Metal music rocks !\n",
      "Metal music rocks !\n",
      "Metal music rocks !\n",
      "Metal music rocks !\n",
      "Metal music rocks !\n",
      "Metal music rocks !\n",
      "Metal music rocks !\n",
      "Metal music rocks !\n",
      "Metal music rocks !\n",
      "Metal music rocks !\n",
      "Metal music rocks !\n",
      "Metal music rocks !\n",
      "Metal music rocks !\n",
      "Metal music rocks !\n",
      "Metal music rocks !\n",
      "Metal music rocks !\n",
      "Metal music rocks !\n",
      "Metal music rocks !\n",
      "Metal music rocks !\n",
      "Metal music rocks !\n",
      "Metal music rocks !\n",
      "Metal music rocks !\n",
      "Metal music rocks !\n",
      "Metal music rocks !\n",
      "Metal music rocks !\n",
      "Metal music rocks !\n",
      "Metal music rocks !\n",
      "Metal music rocks !\n",
      "Metal music rocks !\n",
      "Metal music rocks !\n",
      "Metal music rocks !\n",
      "Metal music rocks !\n",
      "Metal music rocks !\n",
      "Metal music rocks !\n",
      "Metal music rocks !\n",
      "Metal music rocks !\n",
      "Metal music rocks !\n",
      "Metal music rocks !\n",
      "Metal music rocks !\n",
      "Metal music rocks !\n",
      "Metal music rocks !\n",
      "Metal music rocks !\n",
      "Metal music rocks !\n",
      "Metal music rocks !\n",
      "Metal music rocks !\n",
      "Metal music rocks !\n",
      "Metal music rocks !\n",
      "Metal music rocks !\n",
      "Metal music rocks !\n",
      "Metal music rocks !\n",
      "Metal music rocks !\n",
      "Metal music rocks !\n",
      "Metal music rocks !\n",
      "Metal music rocks !\n",
      "Metal music rocks !\n",
      "Metal music rocks !\n",
      "Metal music rocks !\n",
      "Metal music rocks !\n",
      "Metal music rocks !\n",
      "Metal music rocks !\n",
      "Metal music rocks !\n",
      "Metal music rocks !\n",
      "Metal music rocks !\n",
      "Metal music rocks !\n",
      "Metal music rocks !\n",
      "Metal music rocks !\n",
      "Metal music rocks !\n",
      "Metal music rocks !\n",
      "Metal music rocks !\n",
      "Metal music rocks !\n",
      "Metal music rocks !\n",
      "Metal music rocks !\n",
      "Metal music rocks !\n",
      "Metal music rocks !\n",
      "Metal music rocks !\n",
      "Metal music rocks !\n",
      "Metal music rocks !\n",
      "Metal music rocks !\n",
      "Metal music rocks !\n",
      "Metal music rocks !\n",
      "Metal music rocks !\n",
      "Metal music rocks !\n",
      "Metal music rocks !\n",
      "Metal music rocks !\n",
      "Metal music rocks !\n",
      "Metal music rocks !\n",
      "Metal music rocks !\n",
      "Metal music rocks !\n",
      "Metal music rocks !\n",
      "Metal music rocks !\n",
      "Metal music rocks !\n",
      "Metal music rocks !\n",
      "Metal music rocks !\n",
      "Metal music rocks !\n",
      "Metal music rocks !\n",
      "Metal music rocks !\n",
      "Metal music rocks !\n",
      "Metal music rocks !\n",
      "Metal music rocks !\n",
      "Metal music rocks !\n",
      "Metal music rocks !\n",
      "Metal music rocks !\n",
      "Metal music rocks !\n",
      "Metal music rocks !\n",
      "Metal music rocks !\n",
      "Metal music rocks !\n",
      "Metal music rocks !\n",
      "Metal music rocks !\n",
      "Metal music rocks !\n",
      "Metal music rocks !\n",
      "Metal music rocks !\n",
      "Metal music rocks !\n",
      "Metal music rocks !\n",
      "Metal music rocks !\n",
      "Metal music rocks !\n",
      "Metal music rocks !\n",
      "Metal music rocks !\n",
      "Metal music rocks !\n",
      "Metal music rocks !\n",
      "Metal music rocks !\n",
      "Metal music rocks !\n",
      "Metal music rocks !\n",
      "Metal music rocks !\n",
      "Metal music rocks !\n",
      "Metal music rocks !\n",
      "Metal music rocks !\n",
      "Metal music rocks !\n",
      "Metal music rocks !\n",
      "Metal music rocks !\n",
      "Metal music rocks !\n",
      "Metal music rocks !\n",
      "Metal music rocks !\n",
      "Metal music rocks !\n",
      "Metal music rocks !\n",
      "Metal music rocks !\n",
      "Metal music rocks !\n",
      "Metal music rocks !\n",
      "Metal music rocks !\n",
      "Metal music rocks !\n",
      "Metal music rocks !\n",
      "Metal music rocks !\n",
      "Metal music rocks !\n",
      "Metal music rocks !\n",
      "Metal music rocks !\n",
      "Metal music rocks !\n",
      "Metal music rocks !\n",
      "Metal music rocks !\n",
      "Metal music rocks !\n",
      "Metal music rocks !\n",
      "Metal music rocks !\n",
      "Metal music rocks !\n",
      "Metal music rocks !\n",
      "Metal music rocks !\n",
      "Metal music rocks !\n",
      "Metal music rocks !\n",
      "Metal music rocks !\n",
      "Metal music rocks !\n",
      "Metal music rocks !\n",
      "Metal music rocks !\n",
      "Metal music rocks !\n",
      "Metal music rocks !\n",
      "Metal music rocks !\n",
      "Metal music rocks !\n",
      "Metal music rocks !\n",
      "Metal music rocks !\n",
      "Metal music rocks !\n",
      "Metal music rocks !\n",
      "Metal music rocks !\n",
      "Metal music rocks !\n",
      "Metal music rocks !\n",
      "Metal music rocks !\n",
      "Metal music rocks !\n",
      "Metal music rocks !\n",
      "Metal music rocks !\n",
      "Metal music rocks !\n",
      "Metal music rocks !\n",
      "Metal music rocks !\n",
      "Metal music rocks !\n",
      "Metal music rocks !\n",
      "Metal music rocks !\n",
      "Metal music rocks !\n"
     ]
    }
   ],
   "source": [
    "for i in range(666):   # pour i allant de 0 à 665\n",
    "    print(\"Metal music rocks !\")"
   ]
  },
  {
   "cell_type": "code",
   "execution_count": 24,
   "metadata": {},
   "outputs": [
    {
     "name": "stdout",
     "output_type": "stream",
     "text": [
      "1\n",
      "4\n",
      "9\n",
      "16\n",
      "25\n",
      "36\n",
      "49\n",
      "64\n",
      "81\n"
     ]
    }
   ],
   "source": [
    "for i in range(1, 10):   # pour i allant de 1 à 9 \n",
    "    print(i**2)\n",
    "    \n",
    "# i**2 signifie i au carré \n",
    "# i**3 signifie i au cube\n",
    "# ...\n",
    "# i**n signigne i exposant n"
   ]
  },
  {
   "cell_type": "markdown",
   "metadata": {},
   "source": [
    "### While\n",
    "\n",
    "Le principe de la boucle while est d’exécuter un bloc d’instructions tant que (while in english) une condition donnée est vraie. "
   ]
  },
  {
   "cell_type": "code",
   "execution_count": 25,
   "metadata": {},
   "outputs": [
    {
     "name": "stdout",
     "output_type": "stream",
     "text": [
      "1\n",
      "2\n",
      "3\n",
      "4\n",
      "5\n",
      "6\n",
      "7\n",
      "8\n",
      "9\n",
      "10\n",
      "Fini !\n"
     ]
    }
   ],
   "source": [
    "i = 1\n",
    "# Tant que i est inférieur ou égal à 10 on execute les instructions contenue dans le \"while\"\n",
    "while i <= 10:\n",
    "    print(i)\n",
    "    # On incrémente i \n",
    "    i += 1\n",
    "    \n",
    "print('Fini !')"
   ]
  },
  {
   "cell_type": "markdown",
   "metadata": {},
   "source": [
    "## Fonctions\n",
    "\n",
    "Une fonction (ou function) est une suite d'instructions que l'on peut appeler avec un nom.\n",
    "\n",
    "Les variable utilisées à l'interrieur d'un fonction n'existe que dans cette fonction."
   ]
  },
  {
   "cell_type": "code",
   "execution_count": 26,
   "metadata": {},
   "outputs": [
    {
     "data": {
      "text/plain": [
       "42"
      ]
     },
     "execution_count": 26,
     "metadata": {},
     "output_type": "execute_result"
    }
   ],
   "source": [
    "# def signifie que l'on déclare une fonction Python\n",
    "def donne_moi_LA_reponse():\n",
    "    # Le return contient ce que va retourner la fonction, ici on ne return qu'un int\n",
    "    return 42;\n",
    "\n",
    "donne_moi_LA_reponse()"
   ]
  },
  {
   "cell_type": "code",
   "execution_count": 27,
   "metadata": {},
   "outputs": [
    {
     "data": {
      "text/plain": [
       "42"
      ]
     },
     "execution_count": 27,
     "metadata": {},
     "output_type": "execute_result"
    }
   ],
   "source": [
    "def donne_moi_LA_reponse2():\n",
    "    a = 21\n",
    "    b = 1\n",
    "    b += 1\n",
    "    a = a * b\n",
    "    return a\n",
    "\n",
    "donne_moi_LA_reponse2()"
   ]
  },
  {
   "cell_type": "markdown",
   "metadata": {},
   "source": [
    "On peut aussi definir un argument à une fonction"
   ]
  },
  {
   "cell_type": "code",
   "execution_count": 28,
   "metadata": {},
   "outputs": [
    {
     "name": "stdout",
     "output_type": "stream",
     "text": [
      "1 * 5 = 5\n",
      "2 * 5 = 10\n",
      "3 * 5 = 15\n",
      "4 * 5 = 20\n",
      "5 * 5 = 25\n",
      "6 * 5 = 30\n",
      "7 * 5 = 35\n",
      "8 * 5 = 40\n",
      "9 * 5 = 45\n",
      "10 * 5 = 50\n",
      "1 * 9 = 9\n",
      "2 * 9 = 18\n",
      "3 * 9 = 27\n",
      "4 * 9 = 36\n",
      "5 * 9 = 45\n",
      "6 * 9 = 54\n",
      "7 * 9 = 63\n",
      "8 * 9 = 72\n",
      "9 * 9 = 81\n",
      "10 * 9 = 90\n",
      "1 * 11 = 11\n",
      "2 * 11 = 22\n",
      "3 * 11 = 33\n",
      "4 * 11 = 44\n",
      "5 * 11 = 55\n",
      "6 * 11 = 66\n",
      "7 * 11 = 77\n",
      "8 * 11 = 88\n",
      "9 * 11 = 99\n",
      "10 * 11 = 110\n"
     ]
    }
   ],
   "source": [
    "def table(nb): # nb est un argument obligatoire.\n",
    "    i = 0\n",
    "    while i < 10: # Tant que i est strictement inférieure à 10,\n",
    "        # le nb utilisé ici est celui que l'on a défini en argument\n",
    "        print(i + 1, \"*\", nb, \"=\", (i + 1) * nb)\n",
    "        i += 1 # On incrémente i de 1 à chaque tour de boucle.\n",
    "        \n",
    "table(5)\n",
    "table(9)\n",
    "table(11)"
   ]
  },
  {
   "cell_type": "markdown",
   "metadata": {},
   "source": [
    "# Modules Python"
   ]
  },
  {
   "cell_type": "markdown",
   "metadata": {},
   "source": [
    "## Pandas"
   ]
  },
  {
   "cell_type": "code",
   "execution_count": 29,
   "metadata": {
    "collapsed": true
   },
   "outputs": [],
   "source": [
    "# Pandas étant un module, il nous faut l'importer\n",
    "import pandas"
   ]
  },
  {
   "cell_type": "markdown",
   "metadata": {},
   "source": [
    "### Lire du CSV"
   ]
  },
  {
   "cell_type": "code",
   "execution_count": 30,
   "metadata": {
    "collapsed": true
   },
   "outputs": [],
   "source": [
    "# df1 = pandas.read_csv(\"csv/movies.csv\")\n",
    "# df2 = pandas.read_csv(\"csv/ratings.csv\")\n",
    "# df3 = pandas.read_csv(\"csv/tags.csv\")\n",
    "\n",
    "# df4 = df1.merge(df2, on=\"movieId\")\n",
    "# df4 = df4.merge(df3, on=[\"movieId\", \"userId\"])\n",
    "# df4=df4.drop([\"timestamp_y\", \"timestamp_x\", \"userId\", \"tag\"], 1).drop_duplicates()\n",
    "# df4.to_csv(\"csv/movies_ratings.csv\", index=False)\n",
    "\n",
    "# df = pandas.read_csv(\"csv/movies_ratings.csv\")\n",
    "\n",
    "# #On affiche les n première ligne de notre dataframe\n",
    "# df = df.groupby([\"movieId\", \"title\", \"genres\"])[\"rating\"].mean().reset_index()\n",
    "# df1 = df[[\"movieId\", \"genres\"]].copy()\n",
    "\n",
    "# df.columns\n",
    "\n",
    "# df1=pandas.concat([pandas.Series(row['movieId'], row['genres'].split('|'))              \n",
    "#                     for _, row in df1.iterrows()]).reset_index().rename(columns={'index': 'genre', 0: 'movieId'})\n",
    "\n",
    "# df = df.merge(df1, on=\"movieId\").drop(\"genres\", 1)\n",
    "# df.to_csv(\"csv/movies_ratings.csv\", index=False)"
   ]
  },
  {
   "cell_type": "code",
   "execution_count": 31,
   "metadata": {
    "collapsed": true
   },
   "outputs": [],
   "source": [
    "df = pandas.read_csv(\"csv/movies_ratings.csv\")"
   ]
  },
  {
   "cell_type": "code",
   "execution_count": 32,
   "metadata": {},
   "outputs": [
    {
     "data": {
      "text/html": [
       "<div>\n",
       "<table border=\"1\" class=\"dataframe\">\n",
       "  <thead>\n",
       "    <tr style=\"text-align: right;\">\n",
       "      <th></th>\n",
       "      <th>movieId</th>\n",
       "      <th>title</th>\n",
       "      <th>rating</th>\n",
       "      <th>genre</th>\n",
       "    </tr>\n",
       "  </thead>\n",
       "  <tbody>\n",
       "    <tr>\n",
       "      <th>0</th>\n",
       "      <td>1</td>\n",
       "      <td>Toy Story (1995)</td>\n",
       "      <td>5.00</td>\n",
       "      <td>Adventure</td>\n",
       "    </tr>\n",
       "    <tr>\n",
       "      <th>1</th>\n",
       "      <td>1</td>\n",
       "      <td>Toy Story (1995)</td>\n",
       "      <td>5.00</td>\n",
       "      <td>Animation</td>\n",
       "    </tr>\n",
       "    <tr>\n",
       "      <th>2</th>\n",
       "      <td>1</td>\n",
       "      <td>Toy Story (1995)</td>\n",
       "      <td>5.00</td>\n",
       "      <td>Children</td>\n",
       "    </tr>\n",
       "    <tr>\n",
       "      <th>3</th>\n",
       "      <td>1</td>\n",
       "      <td>Toy Story (1995)</td>\n",
       "      <td>5.00</td>\n",
       "      <td>Comedy</td>\n",
       "    </tr>\n",
       "    <tr>\n",
       "      <th>4</th>\n",
       "      <td>1</td>\n",
       "      <td>Toy Story (1995)</td>\n",
       "      <td>5.00</td>\n",
       "      <td>Fantasy</td>\n",
       "    </tr>\n",
       "    <tr>\n",
       "      <th>5</th>\n",
       "      <td>5</td>\n",
       "      <td>Father of the Bride Part II (1995)</td>\n",
       "      <td>4.50</td>\n",
       "      <td>Comedy</td>\n",
       "    </tr>\n",
       "    <tr>\n",
       "      <th>6</th>\n",
       "      <td>47</td>\n",
       "      <td>Seven (a.k.a. Se7en) (1995)</td>\n",
       "      <td>2.75</td>\n",
       "      <td>Mystery</td>\n",
       "    </tr>\n",
       "    <tr>\n",
       "      <th>7</th>\n",
       "      <td>47</td>\n",
       "      <td>Seven (a.k.a. Se7en) (1995)</td>\n",
       "      <td>2.75</td>\n",
       "      <td>Thriller</td>\n",
       "    </tr>\n",
       "    <tr>\n",
       "      <th>8</th>\n",
       "      <td>104</td>\n",
       "      <td>Happy Gilmore (1996)</td>\n",
       "      <td>2.00</td>\n",
       "      <td>Comedy</td>\n",
       "    </tr>\n",
       "    <tr>\n",
       "      <th>9</th>\n",
       "      <td>111</td>\n",
       "      <td>Taxi Driver (1976)</td>\n",
       "      <td>5.00</td>\n",
       "      <td>Crime</td>\n",
       "    </tr>\n",
       "  </tbody>\n",
       "</table>\n",
       "</div>"
      ],
      "text/plain": [
       "   movieId                               title  rating      genre\n",
       "0        1                    Toy Story (1995)    5.00  Adventure\n",
       "1        1                    Toy Story (1995)    5.00  Animation\n",
       "2        1                    Toy Story (1995)    5.00   Children\n",
       "3        1                    Toy Story (1995)    5.00     Comedy\n",
       "4        1                    Toy Story (1995)    5.00    Fantasy\n",
       "5        5  Father of the Bride Part II (1995)    4.50     Comedy\n",
       "6       47         Seven (a.k.a. Se7en) (1995)    2.75    Mystery\n",
       "7       47         Seven (a.k.a. Se7en) (1995)    2.75   Thriller\n",
       "8      104                Happy Gilmore (1996)    2.00     Comedy\n",
       "9      111                  Taxi Driver (1976)    5.00      Crime"
      ]
     },
     "execution_count": 32,
     "metadata": {},
     "output_type": "execute_result"
    }
   ],
   "source": [
    "#On affiche les 10 première ligne de notre dataframe df\n",
    "\n",
    "df.head(10)"
   ]
  },
  {
   "cell_type": "markdown",
   "metadata": {},
   "source": [
    "Si on veut trier sur la colonne \"genre\""
   ]
  },
  {
   "cell_type": "code",
   "execution_count": 33,
   "metadata": {
    "scrolled": true
   },
   "outputs": [
    {
     "data": {
      "text/html": [
       "<div>\n",
       "<table border=\"1\" class=\"dataframe\">\n",
       "  <thead>\n",
       "    <tr style=\"text-align: right;\">\n",
       "      <th></th>\n",
       "      <th>movieId</th>\n",
       "      <th>title</th>\n",
       "      <th>rating</th>\n",
       "      <th>genre</th>\n",
       "    </tr>\n",
       "  </thead>\n",
       "  <tbody>\n",
       "    <tr>\n",
       "      <th>3</th>\n",
       "      <td>1</td>\n",
       "      <td>Toy Story (1995)</td>\n",
       "      <td>5.00</td>\n",
       "      <td>Comedy</td>\n",
       "    </tr>\n",
       "    <tr>\n",
       "      <th>5</th>\n",
       "      <td>5</td>\n",
       "      <td>Father of the Bride Part II (1995)</td>\n",
       "      <td>4.50</td>\n",
       "      <td>Comedy</td>\n",
       "    </tr>\n",
       "    <tr>\n",
       "      <th>8</th>\n",
       "      <td>104</td>\n",
       "      <td>Happy Gilmore (1996)</td>\n",
       "      <td>2.00</td>\n",
       "      <td>Comedy</td>\n",
       "    </tr>\n",
       "    <tr>\n",
       "      <th>15</th>\n",
       "      <td>186</td>\n",
       "      <td>Nine Months (1995)</td>\n",
       "      <td>2.50</td>\n",
       "      <td>Comedy</td>\n",
       "    </tr>\n",
       "    <tr>\n",
       "      <th>20</th>\n",
       "      <td>236</td>\n",
       "      <td>French Kiss (1995)</td>\n",
       "      <td>3.00</td>\n",
       "      <td>Comedy</td>\n",
       "    </tr>\n",
       "    <tr>\n",
       "      <th>32</th>\n",
       "      <td>296</td>\n",
       "      <td>Pulp Fiction (1994)</td>\n",
       "      <td>4.50</td>\n",
       "      <td>Comedy</td>\n",
       "    </tr>\n",
       "    <tr>\n",
       "      <th>39</th>\n",
       "      <td>339</td>\n",
       "      <td>While You Were Sleeping (1995)</td>\n",
       "      <td>2.50</td>\n",
       "      <td>Comedy</td>\n",
       "    </tr>\n",
       "    <tr>\n",
       "      <th>44</th>\n",
       "      <td>357</td>\n",
       "      <td>Four Weddings and a Funeral (1994)</td>\n",
       "      <td>2.00</td>\n",
       "      <td>Comedy</td>\n",
       "    </tr>\n",
       "    <tr>\n",
       "      <th>49</th>\n",
       "      <td>520</td>\n",
       "      <td>Robin Hood: Men in Tights (1993)</td>\n",
       "      <td>3.00</td>\n",
       "      <td>Comedy</td>\n",
       "    </tr>\n",
       "    <tr>\n",
       "      <th>54</th>\n",
       "      <td>587</td>\n",
       "      <td>Ghost (1990)</td>\n",
       "      <td>4.00</td>\n",
       "      <td>Comedy</td>\n",
       "    </tr>\n",
       "    <tr>\n",
       "      <th>59</th>\n",
       "      <td>608</td>\n",
       "      <td>Fargo (1996)</td>\n",
       "      <td>3.25</td>\n",
       "      <td>Comedy</td>\n",
       "    </tr>\n",
       "    <tr>\n",
       "      <th>76</th>\n",
       "      <td>745</td>\n",
       "      <td>Wallace &amp; Gromit: A Close Shave (1995)</td>\n",
       "      <td>4.50</td>\n",
       "      <td>Comedy</td>\n",
       "    </tr>\n",
       "    <tr>\n",
       "      <th>77</th>\n",
       "      <td>778</td>\n",
       "      <td>Trainspotting (1996)</td>\n",
       "      <td>5.00</td>\n",
       "      <td>Comedy</td>\n",
       "    </tr>\n",
       "    <tr>\n",
       "      <th>87</th>\n",
       "      <td>1028</td>\n",
       "      <td>Mary Poppins (1964)</td>\n",
       "      <td>5.00</td>\n",
       "      <td>Comedy</td>\n",
       "    </tr>\n",
       "    <tr>\n",
       "      <th>96</th>\n",
       "      <td>1079</td>\n",
       "      <td>Fish Called Wanda, A (1988)</td>\n",
       "      <td>4.50</td>\n",
       "      <td>Comedy</td>\n",
       "    </tr>\n",
       "    <tr>\n",
       "      <th>98</th>\n",
       "      <td>1080</td>\n",
       "      <td>Monty Python's Life of Brian (1979)</td>\n",
       "      <td>5.00</td>\n",
       "      <td>Comedy</td>\n",
       "    </tr>\n",
       "    <tr>\n",
       "      <th>122</th>\n",
       "      <td>1256</td>\n",
       "      <td>Duck Soup (1933)</td>\n",
       "      <td>5.00</td>\n",
       "      <td>Comedy</td>\n",
       "    </tr>\n",
       "    <tr>\n",
       "      <th>128</th>\n",
       "      <td>1265</td>\n",
       "      <td>Groundhog Day (1993)</td>\n",
       "      <td>5.00</td>\n",
       "      <td>Comedy</td>\n",
       "    </tr>\n",
       "    <tr>\n",
       "      <th>139</th>\n",
       "      <td>1376</td>\n",
       "      <td>Star Trek IV: The Voyage Home (1986)</td>\n",
       "      <td>1.00</td>\n",
       "      <td>Comedy</td>\n",
       "    </tr>\n",
       "    <tr>\n",
       "      <th>143</th>\n",
       "      <td>1517</td>\n",
       "      <td>Austin Powers: International Man of Mystery (1...</td>\n",
       "      <td>2.00</td>\n",
       "      <td>Comedy</td>\n",
       "    </tr>\n",
       "    <tr>\n",
       "      <th>145</th>\n",
       "      <td>1639</td>\n",
       "      <td>Chasing Amy (1997)</td>\n",
       "      <td>5.00</td>\n",
       "      <td>Comedy</td>\n",
       "    </tr>\n",
       "    <tr>\n",
       "      <th>153</th>\n",
       "      <td>1732</td>\n",
       "      <td>Big Lebowski, The (1998)</td>\n",
       "      <td>4.00</td>\n",
       "      <td>Comedy</td>\n",
       "    </tr>\n",
       "    <tr>\n",
       "      <th>163</th>\n",
       "      <td>2004</td>\n",
       "      <td>Gremlins 2: The New Batch (1990)</td>\n",
       "      <td>0.50</td>\n",
       "      <td>Comedy</td>\n",
       "    </tr>\n",
       "    <tr>\n",
       "      <th>166</th>\n",
       "      <td>2012</td>\n",
       "      <td>Back to the Future Part III (1990)</td>\n",
       "      <td>3.00</td>\n",
       "      <td>Comedy</td>\n",
       "    </tr>\n",
       "    <tr>\n",
       "      <th>173</th>\n",
       "      <td>2082</td>\n",
       "      <td>Mighty Ducks, The (1992)</td>\n",
       "      <td>5.00</td>\n",
       "      <td>Comedy</td>\n",
       "    </tr>\n",
       "    <tr>\n",
       "      <th>177</th>\n",
       "      <td>2174</td>\n",
       "      <td>Beetlejuice (1988)</td>\n",
       "      <td>3.50</td>\n",
       "      <td>Comedy</td>\n",
       "    </tr>\n",
       "    <tr>\n",
       "      <th>183</th>\n",
       "      <td>2359</td>\n",
       "      <td>Waking Ned Devine (a.k.a. Waking Ned) (1998)</td>\n",
       "      <td>3.50</td>\n",
       "      <td>Comedy</td>\n",
       "    </tr>\n",
       "    <tr>\n",
       "      <th>184</th>\n",
       "      <td>2361</td>\n",
       "      <td>Pink Flamingos (1972)</td>\n",
       "      <td>4.00</td>\n",
       "      <td>Comedy</td>\n",
       "    </tr>\n",
       "    <tr>\n",
       "      <th>185</th>\n",
       "      <td>2369</td>\n",
       "      <td>Desperately Seeking Susan (1985)</td>\n",
       "      <td>3.00</td>\n",
       "      <td>Comedy</td>\n",
       "    </tr>\n",
       "    <tr>\n",
       "      <th>188</th>\n",
       "      <td>2396</td>\n",
       "      <td>Shakespeare in Love (1998)</td>\n",
       "      <td>5.00</td>\n",
       "      <td>Comedy</td>\n",
       "    </tr>\n",
       "    <tr>\n",
       "      <th>...</th>\n",
       "      <td>...</td>\n",
       "      <td>...</td>\n",
       "      <td>...</td>\n",
       "      <td>...</td>\n",
       "    </tr>\n",
       "    <tr>\n",
       "      <th>780</th>\n",
       "      <td>66934</td>\n",
       "      <td>Dr. Horrible's Sing-Along Blog (2008)</td>\n",
       "      <td>4.00</td>\n",
       "      <td>Comedy</td>\n",
       "    </tr>\n",
       "    <tr>\n",
       "      <th>784</th>\n",
       "      <td>67087</td>\n",
       "      <td>I Love You, Man (2009)</td>\n",
       "      <td>4.00</td>\n",
       "      <td>Comedy</td>\n",
       "    </tr>\n",
       "    <tr>\n",
       "      <th>791</th>\n",
       "      <td>67997</td>\n",
       "      <td>In the Loop (2009)</td>\n",
       "      <td>5.00</td>\n",
       "      <td>Comedy</td>\n",
       "    </tr>\n",
       "    <tr>\n",
       "      <th>821</th>\n",
       "      <td>70293</td>\n",
       "      <td>Julie &amp; Julia (2009)</td>\n",
       "      <td>4.00</td>\n",
       "      <td>Comedy</td>\n",
       "    </tr>\n",
       "    <tr>\n",
       "      <th>829</th>\n",
       "      <td>71464</td>\n",
       "      <td>Serious Man, A (2009)</td>\n",
       "      <td>3.50</td>\n",
       "      <td>Comedy</td>\n",
       "    </tr>\n",
       "    <tr>\n",
       "      <th>839</th>\n",
       "      <td>72226</td>\n",
       "      <td>Fantastic Mr. Fox (2009)</td>\n",
       "      <td>4.00</td>\n",
       "      <td>Comedy</td>\n",
       "    </tr>\n",
       "    <tr>\n",
       "      <th>856</th>\n",
       "      <td>76251</td>\n",
       "      <td>Kick-Ass (2010)</td>\n",
       "      <td>4.00</td>\n",
       "      <td>Comedy</td>\n",
       "    </tr>\n",
       "    <tr>\n",
       "      <th>857</th>\n",
       "      <td>77455</td>\n",
       "      <td>Exit Through the Gift Shop (2010)</td>\n",
       "      <td>5.00</td>\n",
       "      <td>Comedy</td>\n",
       "    </tr>\n",
       "    <tr>\n",
       "      <th>861</th>\n",
       "      <td>78209</td>\n",
       "      <td>Get Him to the Greek (2010)</td>\n",
       "      <td>2.00</td>\n",
       "      <td>Comedy</td>\n",
       "    </tr>\n",
       "    <tr>\n",
       "      <th>867</th>\n",
       "      <td>78499</td>\n",
       "      <td>Toy Story 3 (2010)</td>\n",
       "      <td>4.75</td>\n",
       "      <td>Comedy</td>\n",
       "    </tr>\n",
       "    <tr>\n",
       "      <th>881</th>\n",
       "      <td>79242</td>\n",
       "      <td>Kids Are All Right, The (2010)</td>\n",
       "      <td>4.50</td>\n",
       "      <td>Comedy</td>\n",
       "    </tr>\n",
       "    <tr>\n",
       "      <th>905</th>\n",
       "      <td>86833</td>\n",
       "      <td>Bridesmaids (2011)</td>\n",
       "      <td>4.00</td>\n",
       "      <td>Comedy</td>\n",
       "    </tr>\n",
       "    <tr>\n",
       "      <th>917</th>\n",
       "      <td>88235</td>\n",
       "      <td>Guard, The (2011)</td>\n",
       "      <td>4.00</td>\n",
       "      <td>Comedy</td>\n",
       "    </tr>\n",
       "    <tr>\n",
       "      <th>935</th>\n",
       "      <td>91077</td>\n",
       "      <td>Descendants, The (2011)</td>\n",
       "      <td>4.50</td>\n",
       "      <td>Comedy</td>\n",
       "    </tr>\n",
       "    <tr>\n",
       "      <th>940</th>\n",
       "      <td>94777</td>\n",
       "      <td>Men in Black III (M.III.B.) (M.I.B.³) (2012)</td>\n",
       "      <td>4.50</td>\n",
       "      <td>Comedy</td>\n",
       "    </tr>\n",
       "    <tr>\n",
       "      <th>945</th>\n",
       "      <td>94959</td>\n",
       "      <td>Moonrise Kingdom (2012)</td>\n",
       "      <td>3.50</td>\n",
       "      <td>Comedy</td>\n",
       "    </tr>\n",
       "    <tr>\n",
       "      <th>948</th>\n",
       "      <td>95135</td>\n",
       "      <td>Your Sister's Sister (2011)</td>\n",
       "      <td>4.50</td>\n",
       "      <td>Comedy</td>\n",
       "    </tr>\n",
       "    <tr>\n",
       "      <th>954</th>\n",
       "      <td>96588</td>\n",
       "      <td>Pitch Perfect (2012)</td>\n",
       "      <td>4.00</td>\n",
       "      <td>Comedy</td>\n",
       "    </tr>\n",
       "    <tr>\n",
       "      <th>966</th>\n",
       "      <td>97921</td>\n",
       "      <td>Silver Linings Playbook (2012)</td>\n",
       "      <td>4.00</td>\n",
       "      <td>Comedy</td>\n",
       "    </tr>\n",
       "    <tr>\n",
       "      <th>993</th>\n",
       "      <td>103372</td>\n",
       "      <td>Heat, The (2013)</td>\n",
       "      <td>4.00</td>\n",
       "      <td>Comedy</td>\n",
       "    </tr>\n",
       "    <tr>\n",
       "      <th>1017</th>\n",
       "      <td>106696</td>\n",
       "      <td>Frozen (2013)</td>\n",
       "      <td>4.50</td>\n",
       "      <td>Comedy</td>\n",
       "    </tr>\n",
       "    <tr>\n",
       "      <th>1025</th>\n",
       "      <td>106918</td>\n",
       "      <td>Secret Life of Walter Mitty, The (2013)</td>\n",
       "      <td>5.00</td>\n",
       "      <td>Comedy</td>\n",
       "    </tr>\n",
       "    <tr>\n",
       "      <th>1030</th>\n",
       "      <td>107141</td>\n",
       "      <td>Saving Mr. Banks (2013)</td>\n",
       "      <td>4.50</td>\n",
       "      <td>Comedy</td>\n",
       "    </tr>\n",
       "    <tr>\n",
       "      <th>1036</th>\n",
       "      <td>109374</td>\n",
       "      <td>Grand Budapest Hotel, The (2014)</td>\n",
       "      <td>4.75</td>\n",
       "      <td>Comedy</td>\n",
       "    </tr>\n",
       "    <tr>\n",
       "      <th>1041</th>\n",
       "      <td>111622</td>\n",
       "      <td>Begin Again (2013)</td>\n",
       "      <td>4.00</td>\n",
       "      <td>Comedy</td>\n",
       "    </tr>\n",
       "    <tr>\n",
       "      <th>1043</th>\n",
       "      <td>111624</td>\n",
       "      <td>Kelly &amp; Cal (2014)</td>\n",
       "      <td>3.50</td>\n",
       "      <td>Comedy</td>\n",
       "    </tr>\n",
       "    <tr>\n",
       "      <th>1047</th>\n",
       "      <td>112183</td>\n",
       "      <td>Birdman: Or (The Unexpected Virtue of Ignoranc...</td>\n",
       "      <td>5.00</td>\n",
       "      <td>Comedy</td>\n",
       "    </tr>\n",
       "    <tr>\n",
       "      <th>1064</th>\n",
       "      <td>115617</td>\n",
       "      <td>Big Hero 6 (2014)</td>\n",
       "      <td>4.50</td>\n",
       "      <td>Comedy</td>\n",
       "    </tr>\n",
       "    <tr>\n",
       "      <th>1076</th>\n",
       "      <td>118997</td>\n",
       "      <td>Into the Woods (2014)</td>\n",
       "      <td>4.50</td>\n",
       "      <td>Comedy</td>\n",
       "    </tr>\n",
       "    <tr>\n",
       "      <th>1102</th>\n",
       "      <td>134853</td>\n",
       "      <td>Inside Out (2015)</td>\n",
       "      <td>4.50</td>\n",
       "      <td>Comedy</td>\n",
       "    </tr>\n",
       "  </tbody>\n",
       "</table>\n",
       "<p>136 rows × 4 columns</p>\n",
       "</div>"
      ],
      "text/plain": [
       "      movieId                                              title  rating  \\\n",
       "3           1                                   Toy Story (1995)    5.00   \n",
       "5           5                 Father of the Bride Part II (1995)    4.50   \n",
       "8         104                               Happy Gilmore (1996)    2.00   \n",
       "15        186                                 Nine Months (1995)    2.50   \n",
       "20        236                                 French Kiss (1995)    3.00   \n",
       "32        296                                Pulp Fiction (1994)    4.50   \n",
       "39        339                     While You Were Sleeping (1995)    2.50   \n",
       "44        357                 Four Weddings and a Funeral (1994)    2.00   \n",
       "49        520                   Robin Hood: Men in Tights (1993)    3.00   \n",
       "54        587                                       Ghost (1990)    4.00   \n",
       "59        608                                       Fargo (1996)    3.25   \n",
       "76        745             Wallace & Gromit: A Close Shave (1995)    4.50   \n",
       "77        778                               Trainspotting (1996)    5.00   \n",
       "87       1028                                Mary Poppins (1964)    5.00   \n",
       "96       1079                        Fish Called Wanda, A (1988)    4.50   \n",
       "98       1080                Monty Python's Life of Brian (1979)    5.00   \n",
       "122      1256                                   Duck Soup (1933)    5.00   \n",
       "128      1265                               Groundhog Day (1993)    5.00   \n",
       "139      1376               Star Trek IV: The Voyage Home (1986)    1.00   \n",
       "143      1517  Austin Powers: International Man of Mystery (1...    2.00   \n",
       "145      1639                                 Chasing Amy (1997)    5.00   \n",
       "153      1732                           Big Lebowski, The (1998)    4.00   \n",
       "163      2004                   Gremlins 2: The New Batch (1990)    0.50   \n",
       "166      2012                 Back to the Future Part III (1990)    3.00   \n",
       "173      2082                           Mighty Ducks, The (1992)    5.00   \n",
       "177      2174                                 Beetlejuice (1988)    3.50   \n",
       "183      2359       Waking Ned Devine (a.k.a. Waking Ned) (1998)    3.50   \n",
       "184      2361                              Pink Flamingos (1972)    4.00   \n",
       "185      2369                   Desperately Seeking Susan (1985)    3.00   \n",
       "188      2396                         Shakespeare in Love (1998)    5.00   \n",
       "...       ...                                                ...     ...   \n",
       "780     66934              Dr. Horrible's Sing-Along Blog (2008)    4.00   \n",
       "784     67087                             I Love You, Man (2009)    4.00   \n",
       "791     67997                                 In the Loop (2009)    5.00   \n",
       "821     70293                               Julie & Julia (2009)    4.00   \n",
       "829     71464                              Serious Man, A (2009)    3.50   \n",
       "839     72226                           Fantastic Mr. Fox (2009)    4.00   \n",
       "856     76251                                    Kick-Ass (2010)    4.00   \n",
       "857     77455                  Exit Through the Gift Shop (2010)    5.00   \n",
       "861     78209                        Get Him to the Greek (2010)    2.00   \n",
       "867     78499                                 Toy Story 3 (2010)    4.75   \n",
       "881     79242                     Kids Are All Right, The (2010)    4.50   \n",
       "905     86833                                 Bridesmaids (2011)    4.00   \n",
       "917     88235                                  Guard, The (2011)    4.00   \n",
       "935     91077                            Descendants, The (2011)    4.50   \n",
       "940     94777       Men in Black III (M.III.B.) (M.I.B.³) (2012)    4.50   \n",
       "945     94959                            Moonrise Kingdom (2012)    3.50   \n",
       "948     95135                        Your Sister's Sister (2011)    4.50   \n",
       "954     96588                               Pitch Perfect (2012)    4.00   \n",
       "966     97921                     Silver Linings Playbook (2012)    4.00   \n",
       "993    103372                                   Heat, The (2013)    4.00   \n",
       "1017   106696                                      Frozen (2013)    4.50   \n",
       "1025   106918            Secret Life of Walter Mitty, The (2013)    5.00   \n",
       "1030   107141                            Saving Mr. Banks (2013)    4.50   \n",
       "1036   109374                   Grand Budapest Hotel, The (2014)    4.75   \n",
       "1041   111622                                 Begin Again (2013)    4.00   \n",
       "1043   111624                                 Kelly & Cal (2014)    3.50   \n",
       "1047   112183  Birdman: Or (The Unexpected Virtue of Ignoranc...    5.00   \n",
       "1064   115617                                  Big Hero 6 (2014)    4.50   \n",
       "1076   118997                              Into the Woods (2014)    4.50   \n",
       "1102   134853                                  Inside Out (2015)    4.50   \n",
       "\n",
       "       genre  \n",
       "3     Comedy  \n",
       "5     Comedy  \n",
       "8     Comedy  \n",
       "15    Comedy  \n",
       "20    Comedy  \n",
       "32    Comedy  \n",
       "39    Comedy  \n",
       "44    Comedy  \n",
       "49    Comedy  \n",
       "54    Comedy  \n",
       "59    Comedy  \n",
       "76    Comedy  \n",
       "77    Comedy  \n",
       "87    Comedy  \n",
       "96    Comedy  \n",
       "98    Comedy  \n",
       "122   Comedy  \n",
       "128   Comedy  \n",
       "139   Comedy  \n",
       "143   Comedy  \n",
       "145   Comedy  \n",
       "153   Comedy  \n",
       "163   Comedy  \n",
       "166   Comedy  \n",
       "173   Comedy  \n",
       "177   Comedy  \n",
       "183   Comedy  \n",
       "184   Comedy  \n",
       "185   Comedy  \n",
       "188   Comedy  \n",
       "...      ...  \n",
       "780   Comedy  \n",
       "784   Comedy  \n",
       "791   Comedy  \n",
       "821   Comedy  \n",
       "829   Comedy  \n",
       "839   Comedy  \n",
       "856   Comedy  \n",
       "857   Comedy  \n",
       "861   Comedy  \n",
       "867   Comedy  \n",
       "881   Comedy  \n",
       "905   Comedy  \n",
       "917   Comedy  \n",
       "935   Comedy  \n",
       "940   Comedy  \n",
       "945   Comedy  \n",
       "948   Comedy  \n",
       "954   Comedy  \n",
       "966   Comedy  \n",
       "993   Comedy  \n",
       "1017  Comedy  \n",
       "1025  Comedy  \n",
       "1030  Comedy  \n",
       "1036  Comedy  \n",
       "1041  Comedy  \n",
       "1043  Comedy  \n",
       "1047  Comedy  \n",
       "1064  Comedy  \n",
       "1076  Comedy  \n",
       "1102  Comedy  \n",
       "\n",
       "[136 rows x 4 columns]"
      ]
     },
     "execution_count": 33,
     "metadata": {},
     "output_type": "execute_result"
    }
   ],
   "source": [
    "df.loc[df.genre == \"Comedy\"]"
   ]
  },
  {
   "cell_type": "markdown",
   "metadata": {},
   "source": [
    "On veut afficher tout les films ayant une note supérieur ou égal à 4"
   ]
  },
  {
   "cell_type": "code",
   "execution_count": 34,
   "metadata": {
    "scrolled": true
   },
   "outputs": [
    {
     "data": {
      "text/html": [
       "<div>\n",
       "<table border=\"1\" class=\"dataframe\">\n",
       "  <thead>\n",
       "    <tr style=\"text-align: right;\">\n",
       "      <th></th>\n",
       "      <th>movieId</th>\n",
       "      <th>title</th>\n",
       "      <th>rating</th>\n",
       "      <th>genre</th>\n",
       "    </tr>\n",
       "  </thead>\n",
       "  <tbody>\n",
       "    <tr>\n",
       "      <th>0</th>\n",
       "      <td>1</td>\n",
       "      <td>Toy Story (1995)</td>\n",
       "      <td>5.00</td>\n",
       "      <td>Adventure</td>\n",
       "    </tr>\n",
       "    <tr>\n",
       "      <th>1</th>\n",
       "      <td>1</td>\n",
       "      <td>Toy Story (1995)</td>\n",
       "      <td>5.00</td>\n",
       "      <td>Animation</td>\n",
       "    </tr>\n",
       "    <tr>\n",
       "      <th>2</th>\n",
       "      <td>1</td>\n",
       "      <td>Toy Story (1995)</td>\n",
       "      <td>5.00</td>\n",
       "      <td>Children</td>\n",
       "    </tr>\n",
       "    <tr>\n",
       "      <th>3</th>\n",
       "      <td>1</td>\n",
       "      <td>Toy Story (1995)</td>\n",
       "      <td>5.00</td>\n",
       "      <td>Comedy</td>\n",
       "    </tr>\n",
       "    <tr>\n",
       "      <th>4</th>\n",
       "      <td>1</td>\n",
       "      <td>Toy Story (1995)</td>\n",
       "      <td>5.00</td>\n",
       "      <td>Fantasy</td>\n",
       "    </tr>\n",
       "    <tr>\n",
       "      <th>5</th>\n",
       "      <td>5</td>\n",
       "      <td>Father of the Bride Part II (1995)</td>\n",
       "      <td>4.50</td>\n",
       "      <td>Comedy</td>\n",
       "    </tr>\n",
       "    <tr>\n",
       "      <th>9</th>\n",
       "      <td>111</td>\n",
       "      <td>Taxi Driver (1976)</td>\n",
       "      <td>5.00</td>\n",
       "      <td>Crime</td>\n",
       "    </tr>\n",
       "    <tr>\n",
       "      <th>10</th>\n",
       "      <td>111</td>\n",
       "      <td>Taxi Driver (1976)</td>\n",
       "      <td>5.00</td>\n",
       "      <td>Drama</td>\n",
       "    </tr>\n",
       "    <tr>\n",
       "      <th>11</th>\n",
       "      <td>111</td>\n",
       "      <td>Taxi Driver (1976)</td>\n",
       "      <td>5.00</td>\n",
       "      <td>Thriller</td>\n",
       "    </tr>\n",
       "    <tr>\n",
       "      <th>17</th>\n",
       "      <td>215</td>\n",
       "      <td>Before Sunrise (1995)</td>\n",
       "      <td>5.00</td>\n",
       "      <td>Drama</td>\n",
       "    </tr>\n",
       "    <tr>\n",
       "      <th>18</th>\n",
       "      <td>215</td>\n",
       "      <td>Before Sunrise (1995)</td>\n",
       "      <td>5.00</td>\n",
       "      <td>Romance</td>\n",
       "    </tr>\n",
       "    <tr>\n",
       "      <th>22</th>\n",
       "      <td>246</td>\n",
       "      <td>Hoop Dreams (1994)</td>\n",
       "      <td>4.00</td>\n",
       "      <td>Documentary</td>\n",
       "    </tr>\n",
       "    <tr>\n",
       "      <th>23</th>\n",
       "      <td>247</td>\n",
       "      <td>Heavenly Creatures (1994)</td>\n",
       "      <td>5.00</td>\n",
       "      <td>Crime</td>\n",
       "    </tr>\n",
       "    <tr>\n",
       "      <th>24</th>\n",
       "      <td>247</td>\n",
       "      <td>Heavenly Creatures (1994)</td>\n",
       "      <td>5.00</td>\n",
       "      <td>Drama</td>\n",
       "    </tr>\n",
       "    <tr>\n",
       "      <th>25</th>\n",
       "      <td>260</td>\n",
       "      <td>Star Wars: Episode IV - A New Hope (1977)</td>\n",
       "      <td>4.50</td>\n",
       "      <td>Action</td>\n",
       "    </tr>\n",
       "    <tr>\n",
       "      <th>26</th>\n",
       "      <td>260</td>\n",
       "      <td>Star Wars: Episode IV - A New Hope (1977)</td>\n",
       "      <td>4.50</td>\n",
       "      <td>Adventure</td>\n",
       "    </tr>\n",
       "    <tr>\n",
       "      <th>27</th>\n",
       "      <td>260</td>\n",
       "      <td>Star Wars: Episode IV - A New Hope (1977)</td>\n",
       "      <td>4.50</td>\n",
       "      <td>Sci-Fi</td>\n",
       "    </tr>\n",
       "    <tr>\n",
       "      <th>32</th>\n",
       "      <td>296</td>\n",
       "      <td>Pulp Fiction (1994)</td>\n",
       "      <td>4.50</td>\n",
       "      <td>Comedy</td>\n",
       "    </tr>\n",
       "    <tr>\n",
       "      <th>33</th>\n",
       "      <td>296</td>\n",
       "      <td>Pulp Fiction (1994)</td>\n",
       "      <td>4.50</td>\n",
       "      <td>Crime</td>\n",
       "    </tr>\n",
       "    <tr>\n",
       "      <th>34</th>\n",
       "      <td>296</td>\n",
       "      <td>Pulp Fiction (1994)</td>\n",
       "      <td>4.50</td>\n",
       "      <td>Drama</td>\n",
       "    </tr>\n",
       "    <tr>\n",
       "      <th>35</th>\n",
       "      <td>296</td>\n",
       "      <td>Pulp Fiction (1994)</td>\n",
       "      <td>4.50</td>\n",
       "      <td>Thriller</td>\n",
       "    </tr>\n",
       "    <tr>\n",
       "      <th>36</th>\n",
       "      <td>318</td>\n",
       "      <td>Shawshank Redemption, The (1994)</td>\n",
       "      <td>4.75</td>\n",
       "      <td>Crime</td>\n",
       "    </tr>\n",
       "    <tr>\n",
       "      <th>37</th>\n",
       "      <td>318</td>\n",
       "      <td>Shawshank Redemption, The (1994)</td>\n",
       "      <td>4.75</td>\n",
       "      <td>Drama</td>\n",
       "    </tr>\n",
       "    <tr>\n",
       "      <th>38</th>\n",
       "      <td>337</td>\n",
       "      <td>What's Eating Gilbert Grape (1993)</td>\n",
       "      <td>5.00</td>\n",
       "      <td>Drama</td>\n",
       "    </tr>\n",
       "    <tr>\n",
       "      <th>50</th>\n",
       "      <td>529</td>\n",
       "      <td>Searching for Bobby Fischer (1993)</td>\n",
       "      <td>4.00</td>\n",
       "      <td>Drama</td>\n",
       "    </tr>\n",
       "    <tr>\n",
       "      <th>54</th>\n",
       "      <td>587</td>\n",
       "      <td>Ghost (1990)</td>\n",
       "      <td>4.00</td>\n",
       "      <td>Comedy</td>\n",
       "    </tr>\n",
       "    <tr>\n",
       "      <th>55</th>\n",
       "      <td>587</td>\n",
       "      <td>Ghost (1990)</td>\n",
       "      <td>4.00</td>\n",
       "      <td>Drama</td>\n",
       "    </tr>\n",
       "    <tr>\n",
       "      <th>56</th>\n",
       "      <td>587</td>\n",
       "      <td>Ghost (1990)</td>\n",
       "      <td>4.00</td>\n",
       "      <td>Fantasy</td>\n",
       "    </tr>\n",
       "    <tr>\n",
       "      <th>57</th>\n",
       "      <td>587</td>\n",
       "      <td>Ghost (1990)</td>\n",
       "      <td>4.00</td>\n",
       "      <td>Romance</td>\n",
       "    </tr>\n",
       "    <tr>\n",
       "      <th>58</th>\n",
       "      <td>587</td>\n",
       "      <td>Ghost (1990)</td>\n",
       "      <td>4.00</td>\n",
       "      <td>Thriller</td>\n",
       "    </tr>\n",
       "    <tr>\n",
       "      <th>...</th>\n",
       "      <td>...</td>\n",
       "      <td>...</td>\n",
       "      <td>...</td>\n",
       "      <td>...</td>\n",
       "    </tr>\n",
       "    <tr>\n",
       "      <th>1082</th>\n",
       "      <td>122886</td>\n",
       "      <td>Star Wars: Episode VII - The Force Awakens (2015)</td>\n",
       "      <td>4.50</td>\n",
       "      <td>Fantasy</td>\n",
       "    </tr>\n",
       "    <tr>\n",
       "      <th>1083</th>\n",
       "      <td>122886</td>\n",
       "      <td>Star Wars: Episode VII - The Force Awakens (2015)</td>\n",
       "      <td>4.50</td>\n",
       "      <td>Sci-Fi</td>\n",
       "    </tr>\n",
       "    <tr>\n",
       "      <th>1084</th>\n",
       "      <td>122886</td>\n",
       "      <td>Star Wars: Episode VII - The Force Awakens (2015)</td>\n",
       "      <td>4.50</td>\n",
       "      <td>IMAX</td>\n",
       "    </tr>\n",
       "    <tr>\n",
       "      <th>1085</th>\n",
       "      <td>127114</td>\n",
       "      <td>The End of the Tour (2015)</td>\n",
       "      <td>4.00</td>\n",
       "      <td>Drama</td>\n",
       "    </tr>\n",
       "    <tr>\n",
       "      <th>1086</th>\n",
       "      <td>128360</td>\n",
       "      <td>The Hateful Eight (2015)</td>\n",
       "      <td>4.50</td>\n",
       "      <td>Western</td>\n",
       "    </tr>\n",
       "    <tr>\n",
       "      <th>1087</th>\n",
       "      <td>128606</td>\n",
       "      <td>45 Years (2015)</td>\n",
       "      <td>4.50</td>\n",
       "      <td>Drama</td>\n",
       "    </tr>\n",
       "    <tr>\n",
       "      <th>1094</th>\n",
       "      <td>133645</td>\n",
       "      <td>Carol (2015)</td>\n",
       "      <td>4.00</td>\n",
       "      <td>Drama</td>\n",
       "    </tr>\n",
       "    <tr>\n",
       "      <th>1095</th>\n",
       "      <td>133645</td>\n",
       "      <td>Carol (2015)</td>\n",
       "      <td>4.00</td>\n",
       "      <td>Romance</td>\n",
       "    </tr>\n",
       "    <tr>\n",
       "      <th>1096</th>\n",
       "      <td>134130</td>\n",
       "      <td>The Martian (2015)</td>\n",
       "      <td>4.50</td>\n",
       "      <td>Adventure</td>\n",
       "    </tr>\n",
       "    <tr>\n",
       "      <th>1097</th>\n",
       "      <td>134130</td>\n",
       "      <td>The Martian (2015)</td>\n",
       "      <td>4.50</td>\n",
       "      <td>Drama</td>\n",
       "    </tr>\n",
       "    <tr>\n",
       "      <th>1098</th>\n",
       "      <td>134130</td>\n",
       "      <td>The Martian (2015)</td>\n",
       "      <td>4.50</td>\n",
       "      <td>Sci-Fi</td>\n",
       "    </tr>\n",
       "    <tr>\n",
       "      <th>1099</th>\n",
       "      <td>134853</td>\n",
       "      <td>Inside Out (2015)</td>\n",
       "      <td>4.50</td>\n",
       "      <td>Adventure</td>\n",
       "    </tr>\n",
       "    <tr>\n",
       "      <th>1100</th>\n",
       "      <td>134853</td>\n",
       "      <td>Inside Out (2015)</td>\n",
       "      <td>4.50</td>\n",
       "      <td>Animation</td>\n",
       "    </tr>\n",
       "    <tr>\n",
       "      <th>1101</th>\n",
       "      <td>134853</td>\n",
       "      <td>Inside Out (2015)</td>\n",
       "      <td>4.50</td>\n",
       "      <td>Children</td>\n",
       "    </tr>\n",
       "    <tr>\n",
       "      <th>1102</th>\n",
       "      <td>134853</td>\n",
       "      <td>Inside Out (2015)</td>\n",
       "      <td>4.50</td>\n",
       "      <td>Comedy</td>\n",
       "    </tr>\n",
       "    <tr>\n",
       "      <th>1103</th>\n",
       "      <td>134853</td>\n",
       "      <td>Inside Out (2015)</td>\n",
       "      <td>4.50</td>\n",
       "      <td>Drama</td>\n",
       "    </tr>\n",
       "    <tr>\n",
       "      <th>1104</th>\n",
       "      <td>134853</td>\n",
       "      <td>Inside Out (2015)</td>\n",
       "      <td>4.50</td>\n",
       "      <td>Fantasy</td>\n",
       "    </tr>\n",
       "    <tr>\n",
       "      <th>1105</th>\n",
       "      <td>134881</td>\n",
       "      <td>Love &amp; Mercy (2014)</td>\n",
       "      <td>4.00</td>\n",
       "      <td>Drama</td>\n",
       "    </tr>\n",
       "    <tr>\n",
       "      <th>1106</th>\n",
       "      <td>135518</td>\n",
       "      <td>Self/less (2015)</td>\n",
       "      <td>4.00</td>\n",
       "      <td>Action</td>\n",
       "    </tr>\n",
       "    <tr>\n",
       "      <th>1107</th>\n",
       "      <td>135518</td>\n",
       "      <td>Self/less (2015)</td>\n",
       "      <td>4.00</td>\n",
       "      <td>Mystery</td>\n",
       "    </tr>\n",
       "    <tr>\n",
       "      <th>1108</th>\n",
       "      <td>135518</td>\n",
       "      <td>Self/less (2015)</td>\n",
       "      <td>4.00</td>\n",
       "      <td>Sci-Fi</td>\n",
       "    </tr>\n",
       "    <tr>\n",
       "      <th>1109</th>\n",
       "      <td>135518</td>\n",
       "      <td>Self/less (2015)</td>\n",
       "      <td>4.00</td>\n",
       "      <td>Thriller</td>\n",
       "    </tr>\n",
       "    <tr>\n",
       "      <th>1110</th>\n",
       "      <td>137337</td>\n",
       "      <td>Amy (2015)</td>\n",
       "      <td>4.00</td>\n",
       "      <td>Documentary</td>\n",
       "    </tr>\n",
       "    <tr>\n",
       "      <th>1113</th>\n",
       "      <td>140174</td>\n",
       "      <td>Room (2015)</td>\n",
       "      <td>4.00</td>\n",
       "      <td>Drama</td>\n",
       "    </tr>\n",
       "    <tr>\n",
       "      <th>1114</th>\n",
       "      <td>141749</td>\n",
       "      <td>The Danish Girl (2015)</td>\n",
       "      <td>4.00</td>\n",
       "      <td>Drama</td>\n",
       "    </tr>\n",
       "    <tr>\n",
       "      <th>1115</th>\n",
       "      <td>142488</td>\n",
       "      <td>Spotlight (2015)</td>\n",
       "      <td>4.00</td>\n",
       "      <td>Thriller</td>\n",
       "    </tr>\n",
       "    <tr>\n",
       "      <th>1119</th>\n",
       "      <td>146656</td>\n",
       "      <td>Creed (2015)</td>\n",
       "      <td>4.00</td>\n",
       "      <td>Drama</td>\n",
       "    </tr>\n",
       "    <tr>\n",
       "      <th>1120</th>\n",
       "      <td>148626</td>\n",
       "      <td>Big Short, The (2015)</td>\n",
       "      <td>4.50</td>\n",
       "      <td>Drama</td>\n",
       "    </tr>\n",
       "    <tr>\n",
       "      <th>1121</th>\n",
       "      <td>156387</td>\n",
       "      <td>Sing Street (2016)</td>\n",
       "      <td>4.00</td>\n",
       "      <td>Drama</td>\n",
       "    </tr>\n",
       "    <tr>\n",
       "      <th>1122</th>\n",
       "      <td>163949</td>\n",
       "      <td>The Beatles: Eight Days a Week - The Touring Y...</td>\n",
       "      <td>5.00</td>\n",
       "      <td>Documentary</td>\n",
       "    </tr>\n",
       "  </tbody>\n",
       "</table>\n",
       "<p>777 rows × 4 columns</p>\n",
       "</div>"
      ],
      "text/plain": [
       "      movieId                                              title  rating  \\\n",
       "0           1                                   Toy Story (1995)    5.00   \n",
       "1           1                                   Toy Story (1995)    5.00   \n",
       "2           1                                   Toy Story (1995)    5.00   \n",
       "3           1                                   Toy Story (1995)    5.00   \n",
       "4           1                                   Toy Story (1995)    5.00   \n",
       "5           5                 Father of the Bride Part II (1995)    4.50   \n",
       "9         111                                 Taxi Driver (1976)    5.00   \n",
       "10        111                                 Taxi Driver (1976)    5.00   \n",
       "11        111                                 Taxi Driver (1976)    5.00   \n",
       "17        215                              Before Sunrise (1995)    5.00   \n",
       "18        215                              Before Sunrise (1995)    5.00   \n",
       "22        246                                 Hoop Dreams (1994)    4.00   \n",
       "23        247                          Heavenly Creatures (1994)    5.00   \n",
       "24        247                          Heavenly Creatures (1994)    5.00   \n",
       "25        260          Star Wars: Episode IV - A New Hope (1977)    4.50   \n",
       "26        260          Star Wars: Episode IV - A New Hope (1977)    4.50   \n",
       "27        260          Star Wars: Episode IV - A New Hope (1977)    4.50   \n",
       "32        296                                Pulp Fiction (1994)    4.50   \n",
       "33        296                                Pulp Fiction (1994)    4.50   \n",
       "34        296                                Pulp Fiction (1994)    4.50   \n",
       "35        296                                Pulp Fiction (1994)    4.50   \n",
       "36        318                   Shawshank Redemption, The (1994)    4.75   \n",
       "37        318                   Shawshank Redemption, The (1994)    4.75   \n",
       "38        337                 What's Eating Gilbert Grape (1993)    5.00   \n",
       "50        529                 Searching for Bobby Fischer (1993)    4.00   \n",
       "54        587                                       Ghost (1990)    4.00   \n",
       "55        587                                       Ghost (1990)    4.00   \n",
       "56        587                                       Ghost (1990)    4.00   \n",
       "57        587                                       Ghost (1990)    4.00   \n",
       "58        587                                       Ghost (1990)    4.00   \n",
       "...       ...                                                ...     ...   \n",
       "1082   122886  Star Wars: Episode VII - The Force Awakens (2015)    4.50   \n",
       "1083   122886  Star Wars: Episode VII - The Force Awakens (2015)    4.50   \n",
       "1084   122886  Star Wars: Episode VII - The Force Awakens (2015)    4.50   \n",
       "1085   127114                         The End of the Tour (2015)    4.00   \n",
       "1086   128360                           The Hateful Eight (2015)    4.50   \n",
       "1087   128606                                    45 Years (2015)    4.50   \n",
       "1094   133645                                       Carol (2015)    4.00   \n",
       "1095   133645                                       Carol (2015)    4.00   \n",
       "1096   134130                                 The Martian (2015)    4.50   \n",
       "1097   134130                                 The Martian (2015)    4.50   \n",
       "1098   134130                                 The Martian (2015)    4.50   \n",
       "1099   134853                                  Inside Out (2015)    4.50   \n",
       "1100   134853                                  Inside Out (2015)    4.50   \n",
       "1101   134853                                  Inside Out (2015)    4.50   \n",
       "1102   134853                                  Inside Out (2015)    4.50   \n",
       "1103   134853                                  Inside Out (2015)    4.50   \n",
       "1104   134853                                  Inside Out (2015)    4.50   \n",
       "1105   134881                                Love & Mercy (2014)    4.00   \n",
       "1106   135518                                   Self/less (2015)    4.00   \n",
       "1107   135518                                   Self/less (2015)    4.00   \n",
       "1108   135518                                   Self/less (2015)    4.00   \n",
       "1109   135518                                   Self/less (2015)    4.00   \n",
       "1110   137337                                         Amy (2015)    4.00   \n",
       "1113   140174                                        Room (2015)    4.00   \n",
       "1114   141749                             The Danish Girl (2015)    4.00   \n",
       "1115   142488                                   Spotlight (2015)    4.00   \n",
       "1119   146656                                       Creed (2015)    4.00   \n",
       "1120   148626                              Big Short, The (2015)    4.50   \n",
       "1121   156387                                 Sing Street (2016)    4.00   \n",
       "1122   163949  The Beatles: Eight Days a Week - The Touring Y...    5.00   \n",
       "\n",
       "            genre  \n",
       "0       Adventure  \n",
       "1       Animation  \n",
       "2        Children  \n",
       "3          Comedy  \n",
       "4         Fantasy  \n",
       "5          Comedy  \n",
       "9           Crime  \n",
       "10          Drama  \n",
       "11       Thriller  \n",
       "17          Drama  \n",
       "18        Romance  \n",
       "22    Documentary  \n",
       "23          Crime  \n",
       "24          Drama  \n",
       "25         Action  \n",
       "26      Adventure  \n",
       "27         Sci-Fi  \n",
       "32         Comedy  \n",
       "33          Crime  \n",
       "34          Drama  \n",
       "35       Thriller  \n",
       "36          Crime  \n",
       "37          Drama  \n",
       "38          Drama  \n",
       "50          Drama  \n",
       "54         Comedy  \n",
       "55          Drama  \n",
       "56        Fantasy  \n",
       "57        Romance  \n",
       "58       Thriller  \n",
       "...           ...  \n",
       "1082      Fantasy  \n",
       "1083       Sci-Fi  \n",
       "1084         IMAX  \n",
       "1085        Drama  \n",
       "1086      Western  \n",
       "1087        Drama  \n",
       "1094        Drama  \n",
       "1095      Romance  \n",
       "1096    Adventure  \n",
       "1097        Drama  \n",
       "1098       Sci-Fi  \n",
       "1099    Adventure  \n",
       "1100    Animation  \n",
       "1101     Children  \n",
       "1102       Comedy  \n",
       "1103        Drama  \n",
       "1104      Fantasy  \n",
       "1105        Drama  \n",
       "1106       Action  \n",
       "1107      Mystery  \n",
       "1108       Sci-Fi  \n",
       "1109     Thriller  \n",
       "1110  Documentary  \n",
       "1113        Drama  \n",
       "1114        Drama  \n",
       "1115     Thriller  \n",
       "1119        Drama  \n",
       "1120        Drama  \n",
       "1121        Drama  \n",
       "1122  Documentary  \n",
       "\n",
       "[777 rows x 4 columns]"
      ]
     },
     "execution_count": 34,
     "metadata": {},
     "output_type": "execute_result"
    }
   ],
   "source": [
    "df_bons_films = df.loc[df.rating >= 4]\n",
    "df_bons_films"
   ]
  },
  {
   "cell_type": "markdown",
   "metadata": {},
   "source": [
    "### Export Excel"
   ]
  },
  {
   "cell_type": "code",
   "execution_count": 35,
   "metadata": {
    "collapsed": true
   },
   "outputs": [],
   "source": [
    "# On exporte notre selection de film ayant obtenu une note supérieur ou égal à 4 sous un format Excel\n",
    "\n",
    "df_bons_films.to_excel(\"csv/best_films.xlsx\")"
   ]
  },
  {
   "cell_type": "markdown",
   "metadata": {},
   "source": [
    "![2](https://raw.githubusercontent.com/AdrienMereghetti/Environnement_cours/development/data/notebooks/images/Python/2.png)"
   ]
  },
  {
   "cell_type": "markdown",
   "metadata": {},
   "source": [
    "### Calcule basique entre colonnes"
   ]
  },
  {
   "cell_type": "code",
   "execution_count": 36,
   "metadata": {},
   "outputs": [
    {
     "data": {
      "text/html": [
       "<div>\n",
       "<table border=\"1\" class=\"dataframe\">\n",
       "  <thead>\n",
       "    <tr style=\"text-align: right;\">\n",
       "      <th></th>\n",
       "      <th>a</th>\n",
       "      <th>b</th>\n",
       "    </tr>\n",
       "  </thead>\n",
       "  <tbody>\n",
       "    <tr>\n",
       "      <th>0</th>\n",
       "      <td>1</td>\n",
       "      <td>10</td>\n",
       "    </tr>\n",
       "    <tr>\n",
       "      <th>1</th>\n",
       "      <td>2</td>\n",
       "      <td>20</td>\n",
       "    </tr>\n",
       "    <tr>\n",
       "      <th>2</th>\n",
       "      <td>3</td>\n",
       "      <td>30</td>\n",
       "    </tr>\n",
       "    <tr>\n",
       "      <th>3</th>\n",
       "      <td>4</td>\n",
       "      <td>40</td>\n",
       "    </tr>\n",
       "    <tr>\n",
       "      <th>4</th>\n",
       "      <td>5</td>\n",
       "      <td>50</td>\n",
       "    </tr>\n",
       "    <tr>\n",
       "      <th>5</th>\n",
       "      <td>6</td>\n",
       "      <td>60</td>\n",
       "    </tr>\n",
       "    <tr>\n",
       "      <th>6</th>\n",
       "      <td>7</td>\n",
       "      <td>70</td>\n",
       "    </tr>\n",
       "    <tr>\n",
       "      <th>7</th>\n",
       "      <td>8</td>\n",
       "      <td>80</td>\n",
       "    </tr>\n",
       "    <tr>\n",
       "      <th>8</th>\n",
       "      <td>9</td>\n",
       "      <td>90</td>\n",
       "    </tr>\n",
       "    <tr>\n",
       "      <th>9</th>\n",
       "      <td>10</td>\n",
       "      <td>100</td>\n",
       "    </tr>\n",
       "  </tbody>\n",
       "</table>\n",
       "</div>"
      ],
      "text/plain": [
       "    a    b\n",
       "0   1   10\n",
       "1   2   20\n",
       "2   3   30\n",
       "3   4   40\n",
       "4   5   50\n",
       "5   6   60\n",
       "6   7   70\n",
       "7   8   80\n",
       "8   9   90\n",
       "9  10  100"
      ]
     },
     "execution_count": 36,
     "metadata": {},
     "output_type": "execute_result"
    }
   ],
   "source": [
    "# Creation d'un DataFrame simple pour l'exemple\n",
    "df_a = pandas.DataFrame({\n",
    "    \"a\": [1,2,3,4,5,6,7,8,9,10],\n",
    "    \"b\": [10,20,30,40,50,60,70,80,90,100]\n",
    "})\n",
    "\n",
    "df_a"
   ]
  },
  {
   "cell_type": "code",
   "execution_count": 37,
   "metadata": {},
   "outputs": [
    {
     "data": {
      "text/html": [
       "<div>\n",
       "<table border=\"1\" class=\"dataframe\">\n",
       "  <thead>\n",
       "    <tr style=\"text-align: right;\">\n",
       "      <th></th>\n",
       "      <th>a</th>\n",
       "      <th>b</th>\n",
       "      <th>c</th>\n",
       "    </tr>\n",
       "  </thead>\n",
       "  <tbody>\n",
       "    <tr>\n",
       "      <th>0</th>\n",
       "      <td>1</td>\n",
       "      <td>10</td>\n",
       "      <td>10</td>\n",
       "    </tr>\n",
       "    <tr>\n",
       "      <th>1</th>\n",
       "      <td>2</td>\n",
       "      <td>20</td>\n",
       "      <td>40</td>\n",
       "    </tr>\n",
       "    <tr>\n",
       "      <th>2</th>\n",
       "      <td>3</td>\n",
       "      <td>30</td>\n",
       "      <td>90</td>\n",
       "    </tr>\n",
       "    <tr>\n",
       "      <th>3</th>\n",
       "      <td>4</td>\n",
       "      <td>40</td>\n",
       "      <td>160</td>\n",
       "    </tr>\n",
       "    <tr>\n",
       "      <th>4</th>\n",
       "      <td>5</td>\n",
       "      <td>50</td>\n",
       "      <td>250</td>\n",
       "    </tr>\n",
       "    <tr>\n",
       "      <th>5</th>\n",
       "      <td>6</td>\n",
       "      <td>60</td>\n",
       "      <td>360</td>\n",
       "    </tr>\n",
       "    <tr>\n",
       "      <th>6</th>\n",
       "      <td>7</td>\n",
       "      <td>70</td>\n",
       "      <td>490</td>\n",
       "    </tr>\n",
       "    <tr>\n",
       "      <th>7</th>\n",
       "      <td>8</td>\n",
       "      <td>80</td>\n",
       "      <td>640</td>\n",
       "    </tr>\n",
       "    <tr>\n",
       "      <th>8</th>\n",
       "      <td>9</td>\n",
       "      <td>90</td>\n",
       "      <td>810</td>\n",
       "    </tr>\n",
       "    <tr>\n",
       "      <th>9</th>\n",
       "      <td>10</td>\n",
       "      <td>100</td>\n",
       "      <td>1000</td>\n",
       "    </tr>\n",
       "  </tbody>\n",
       "</table>\n",
       "</div>"
      ],
      "text/plain": [
       "    a    b     c\n",
       "0   1   10    10\n",
       "1   2   20    40\n",
       "2   3   30    90\n",
       "3   4   40   160\n",
       "4   5   50   250\n",
       "5   6   60   360\n",
       "6   7   70   490\n",
       "7   8   80   640\n",
       "8   9   90   810\n",
       "9  10  100  1000"
      ]
     },
     "execution_count": 37,
     "metadata": {},
     "output_type": "execute_result"
    }
   ],
   "source": [
    "# La colonne c sera égal à la colonne a * b\n",
    "df_a[\"c\"] = df_a[\"a\"] * df_a[\"b\"]\n",
    "df_a"
   ]
  },
  {
   "cell_type": "markdown",
   "metadata": {},
   "source": [
    "## Machine learning"
   ]
  },
  {
   "cell_type": "markdown",
   "metadata": {},
   "source": [
    "## Module scikit-learn "
   ]
  },
  {
   "cell_type": "markdown",
   "metadata": {},
   "source": [
    "#### Chargement de la base Iris\n",
    "\n",
    "![Iris](https://makina-corpus.com/blog/metier/2017/imlp/iris)\n",
    "\n",
    "Cette base contient des Iris qu'un botaniste, Ronald Fisher, a classés en 1936 à l'aide d'une clef d'identification des plantes (type de pétales, sépale, type des feuilles, forme des feuilles, ...).\n",
    "Puis, pour chaque fleur classée il a mesuré les longueurs et largeurs des sépales et pétales."
   ]
  },
  {
   "cell_type": "code",
   "execution_count": 1,
   "metadata": {},
   "outputs": [],
   "source": [
    "from sklearn import datasets\n",
    "iris = datasets.load_iris()"
   ]
  },
  {
   "cell_type": "code",
   "execution_count": 4,
   "metadata": {},
   "outputs": [
    {
     "data": {
      "text/plain": [
       "['sepal length (cm)',\n",
       " 'sepal width (cm)',\n",
       " 'petal length (cm)',\n",
       " 'petal width (cm)']"
      ]
     },
     "execution_count": 4,
     "metadata": {},
     "output_type": "execute_result"
    }
   ],
   "source": [
    "# Les noms des paramètres de nos donénes/enregistrements\n",
    "iris.feature_names"
   ]
  },
  {
   "cell_type": "code",
   "execution_count": 3,
   "metadata": {},
   "outputs": [
    {
     "data": {
      "text/plain": [
       "array([[ 5.1,  3.5,  1.4,  0.2],\n",
       "       [ 4.9,  3. ,  1.4,  0.2],\n",
       "       [ 4.7,  3.2,  1.3,  0.2],\n",
       "       [ 4.6,  3.1,  1.5,  0.2],\n",
       "       [ 5. ,  3.6,  1.4,  0.2]])"
      ]
     },
     "execution_count": 3,
     "metadata": {},
     "output_type": "execute_result"
    }
   ],
   "source": [
    "# Affichage des 5 premières lignes\n",
    "iris.data[:5]"
   ]
  },
  {
   "cell_type": "code",
   "execution_count": 5,
   "metadata": {},
   "outputs": [
    {
     "data": {
      "text/plain": [
       "array(['setosa', 'versicolor', 'virginica'], \n",
       "      dtype='<U10')"
      ]
     },
     "execution_count": 5,
     "metadata": {},
     "output_type": "execute_result"
    }
   ],
   "source": [
    "# La liste des espèces connues, nos labels de classification, est contenue dans l'attribut target_names\n",
    "iris.target_names"
   ]
  },
  {
   "cell_type": "code",
   "execution_count": 6,
   "metadata": {},
   "outputs": [
    {
     "data": {
      "text/plain": [
       "array([0, 0, 0, 0, 0, 0, 0, 0, 0, 0, 0, 0, 0, 0, 0, 0, 0, 0, 0, 0, 0, 0, 0,\n",
       "       0, 0, 0, 0, 0, 0, 0, 0, 0, 0, 0, 0, 0, 0, 0, 0, 0, 0, 0, 0, 0, 0, 0,\n",
       "       0, 0, 0, 0, 1, 1, 1, 1, 1, 1, 1, 1, 1, 1, 1, 1, 1, 1, 1, 1, 1, 1, 1,\n",
       "       1, 1, 1, 1, 1, 1, 1, 1, 1, 1, 1, 1, 1, 1, 1, 1, 1, 1, 1, 1, 1, 1, 1,\n",
       "       1, 1, 1, 1, 1, 1, 1, 1, 2, 2, 2, 2, 2, 2, 2, 2, 2, 2, 2, 2, 2, 2, 2,\n",
       "       2, 2, 2, 2, 2, 2, 2, 2, 2, 2, 2, 2, 2, 2, 2, 2, 2, 2, 2, 2, 2, 2, 2,\n",
       "       2, 2, 2, 2, 2, 2, 2, 2, 2, 2, 2, 2])"
      ]
     },
     "execution_count": 6,
     "metadata": {},
     "output_type": "execute_result"
    }
   ],
   "source": [
    "# Création d'une variable target pour un accès plus facile à cet attribut:\n",
    "target = iris.target # Les labels associés à chaque enregistrement\n",
    "target "
   ]
  },
  {
   "cell_type": "code",
   "execution_count": null,
   "metadata": {
    "collapsed": true
   },
   "outputs": [],
   "source": [
    "# Les targets sont un tableau indiquant le numéro de l'espèce de chaque enregistrement:"
   ]
  },
  {
   "cell_type": "code",
   "execution_count": 7,
   "metadata": {},
   "outputs": [
    {
     "name": "stdout",
     "output_type": "stream",
     "text": [
      "classe : 0, nb exemplaires: 50\n",
      "classe : 1, nb exemplaires: 50\n",
      "classe : 2, nb exemplaires: 50\n"
     ]
    }
   ],
   "source": [
    "for i in [0,1,2]:\n",
    "    print(\"classe : %s, nb exemplaires: %s\" % (i, len(target[ target == i]) ) )"
   ]
  },
  {
   "cell_type": "markdown",
   "metadata": {},
   "source": [
    "En résumé, l'échantillon de fleurs propose plusieurs informations:\n",
    "\n",
    "* Les noms des données disponibles : feature_names\n",
    "\n",
    "* Les mesures réalisées sur l'échantillon de fleurs connues et déjà classées : data\n",
    "\n",
    "* Il s'agit de nos informations, des paramètres de nos vecteurs pour chaque fleur\n",
    "\n",
    "* Le nom de chaque espèce : target_names\n",
    "\n",
    "* Le classement de chaque enregistrement data dans son espèce: target\n",
    "\n",
    "Il s'agit de la classe de chaque fleur/vecteur"
   ]
  },
  {
   "cell_type": "code",
   "execution_count": 8,
   "metadata": {},
   "outputs": [
    {
     "name": "stdout",
     "output_type": "stream",
     "text": [
      "Iris Plants Database\n",
      "====================\n",
      "\n",
      "Notes\n",
      "-----\n",
      "Data Set Characteristics:\n",
      "    :Number of Instances: 150 (50 in each of three classes)\n",
      "    :Number of Attributes: 4 numeric, predictive attributes and the class\n",
      "    :Attribute Information:\n",
      "        - sepal length in cm\n",
      "        - sepal width in cm\n",
      "        - petal length in cm\n",
      "        - petal width in cm\n",
      "        - class:\n",
      "                - Iris-Setosa\n",
      "                - Iris-Versicolour\n",
      "                - Iris-Virginica\n",
      "    :Summary Statistics:\n",
      "\n",
      "    ============== ==== ==== ======= ===== ====================\n",
      "                    Min  Max   Mean    SD   Class Correlation\n",
      "    ============== ==== ==== ======= ===== ====================\n",
      "    sepal length:   4.3  7.9   5.84   0.83    0.7826\n",
      "    sepal width:    2.0  4.4   3.05   0.43   -0.4194\n",
      "    petal length:   1.0  6.9   3.76   1.76    0.9490  (high!)\n",
      "    petal width:    0.1  2.5   1.20  0.76     0.9565  (high!)\n",
      "    ============== ==== ==== ======= ===== ====================\n",
      "\n",
      "    :Missing Attribute Values: None\n",
      "    :Class Distribution: 33.3% for each of 3 classes.\n",
      "    :Creator: R.A. Fisher\n",
      "    :Donor: Michael Marshall (MARSHALL%PLU@io.arc.nasa.gov)\n",
      "    :Date: July, 1988\n",
      "\n",
      "This is a copy of UCI ML iris datasets.\n",
      "http://archive.ics.uci.edu/ml/datasets/Iris\n",
      "\n",
      "The famous Iris database, first used by Sir R.A Fisher\n",
      "\n",
      "This is perhaps the best known database to be found in the\n",
      "pattern recognition literature.  Fisher's paper is a classic in the field and\n",
      "is referenced frequently to this day.  (See Duda & Hart, for example.)  The\n",
      "data set contains 3 classes of 50 instances each, where each class refers to a\n",
      "type of iris plant.  One class is linearly separable from the other 2; the\n",
      "latter are NOT linearly separable from each other.\n",
      "\n",
      "References\n",
      "----------\n",
      "   - Fisher,R.A. \"The use of multiple measurements in taxonomic problems\"\n",
      "     Annual Eugenics, 7, Part II, 179-188 (1936); also in \"Contributions to\n",
      "     Mathematical Statistics\" (John Wiley, NY, 1950).\n",
      "   - Duda,R.O., & Hart,P.E. (1973) Pattern Classification and Scene Analysis.\n",
      "     (Q327.D83) John Wiley & Sons.  ISBN 0-471-22361-1.  See page 218.\n",
      "   - Dasarathy, B.V. (1980) \"Nosing Around the Neighborhood: A New System\n",
      "     Structure and Classification Rule for Recognition in Partially Exposed\n",
      "     Environments\".  IEEE Transactions on Pattern Analysis and Machine\n",
      "     Intelligence, Vol. PAMI-2, No. 1, 67-71.\n",
      "   - Gates, G.W. (1972) \"The Reduced Nearest Neighbor Rule\".  IEEE Transactions\n",
      "     on Information Theory, May 1972, 431-433.\n",
      "   - See also: 1988 MLC Proceedings, 54-64.  Cheeseman et al\"s AUTOCLASS II\n",
      "     conceptual clustering system finds 3 classes in the data.\n",
      "   - Many, many more ...\n",
      "\n"
     ]
    }
   ],
   "source": [
    "print(iris.DESCR)"
   ]
  },
  {
   "cell_type": "code",
   "execution_count": null,
   "metadata": {
    "collapsed": true
   },
   "outputs": [],
   "source": [
    "data = iris.data # Pour un accès plus rapide"
   ]
  },
  {
   "cell_type": "markdown",
   "metadata": {},
   "source": [
    "Tableau numpy de 2 dimensions de 150 enregistrements de 4 valeurs"
   ]
  },
  {
   "cell_type": "code",
   "execution_count": 10,
   "metadata": {},
   "outputs": [
    {
     "data": {
      "text/plain": [
       "(numpy.ndarray, 2, (150, 4))"
      ]
     },
     "execution_count": 10,
     "metadata": {},
     "output_type": "execute_result"
    }
   ],
   "source": [
    "type(data), data.ndim, data.shape"
   ]
  },
  {
   "cell_type": "markdown",
   "metadata": {},
   "source": [
    "# ANACONDA"
   ]
  }
 ],
 "metadata": {
  "kernelspec": {
   "display_name": "Python 3",
   "language": "python",
   "name": "python3"
  },
  "language_info": {
   "codemirror_mode": {
    "name": "ipython",
    "version": 3
   },
   "file_extension": ".py",
   "mimetype": "text/x-python",
   "name": "python",
   "nbconvert_exporter": "python",
   "pygments_lexer": "ipython3",
   "version": "3.5.2"
  }
 },
 "nbformat": 4,
 "nbformat_minor": 2
}
