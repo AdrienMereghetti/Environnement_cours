{
 "cells": [
  {
   "cell_type": "markdown",
   "metadata": {},
   "source": [
    "# Formation Python"
   ]
  },
  {
   "cell_type": "markdown",
   "metadata": {},
   "source": [
    "* [Présentation des outils](#Présentation-des-outils)\n",
    "    * [Git/Github](#Git/Github)\n",
    "    * [Jupiter Notebook](#Jupiter-Notebook)\n",
    "    * [Python](#Python)\n",
    "    * [Modules](#Modules)\n",
    "        * [Module Pandas](#Module-Pandas)\n",
    "        * [Module Machine Learning](#Module-Machine-Learning)\n",
    "* [Github/Git](#Github/Git)\n",
    "    * [Télécharger un projet en ZIP](#Télécharger-un-projet-en-ZIP)\n",
    "    * [Créer un repository](#Créer-un-repository)\n",
    "    * [Push](#Push)\n",
    "    * [Pull](#Pull)\n",
    "* [Jupyter](#Jupyter)\n",
    "    * [Markdown](#Markdown)\n",
    "    * [Commandes UNIX](#Commandes-UNIX)\n",
    "    * [Export PDF](#Export-PDF)\n",
    "    * [Export .py](#Export-.py)\n",
    "* [Python basic](#Python-basic)\n",
    "    * [Print](#Print)\n",
    "    * [Variables](#Variables)\n",
    "    * [If](#If)\n",
    "    * [Boucle](#Boucle)\n",
    "      * [For](#For)\n",
    "      * [While](#While)\n",
    "    * [Fonctions](#Fonctions)\n",
    "* [Modules Python](#Modules-Python)\n",
    "    * [Pandas](#Pandas)\n",
    "      * [Lire du CSV](#Lire-du-CSV)\n",
    "      * [Calcule basique entre colonnes](#Calcule-basique-entre-colonnes)\n",
    "      * [Pivot](#Pivot)\n",
    "      * [Export Excel](#Export-Excel)\n",
    "    * [Machine learning](#Machine-learning)\n"
   ]
  },
  {
   "cell_type": "markdown",
   "metadata": {},
   "source": [
    "# Présentation des outils"
   ]
  },
  {
   "cell_type": "markdown",
   "metadata": {},
   "source": [
    "## Git/Github"
   ]
  },
  {
   "cell_type": "markdown",
   "metadata": {},
   "source": [
    "En 2016, il s’agit du logiciel de gestion de versions le plus populaire qui est utilisé par plus de douze millions de personnes\n",
    "\n",
    "Commandes principales:\n",
    "\n",
    "* git init : crée un nouveau dépôt\n",
    "* git clone : clone un dépôt distant\n",
    "* git add : ajoute de nouveaux objets blobs dans la base des objets pour chaque fichier modifié depuis le dernier commit. Les objets précédents restent inchangés\n",
    "* git commit : intègre la somme de contrôle SHA-1 d'un objet tree et les sommes de contrôle des objets commits parents pour créer un nouvel objet commit\n",
    "* git branch : crée une nouvelle branche de développement\n",
    "* git merge : fusionne plusieurs branches de développement"
   ]
  },
  {
   "cell_type": "markdown",
   "metadata": {},
   "source": [
    "## Jupiter Notebook"
   ]
  },
  {
   "cell_type": "markdown",
   "metadata": {},
   "source": [
    "Jupyter est une application web utilisée pour programmer dans plus de 40 langages de programmation, dont Julia, Python, R, Ruby ou encore Scala1. Jupyter est une évolution du projet IPython. Jupyter permet de réaliser des notebooks, c'est-à-dire des programmes contenant à la fois du texte en markdown et du code en Julia, Python, R... Ces notebooks sont utilisés en data science pour explorer et analyser des données."
   ]
  },
  {
   "cell_type": "markdown",
   "metadata": {},
   "source": [
    "## Python"
   ]
  },
  {
   "cell_type": "markdown",
   "metadata": {},
   "source": [
    "Python est un langage de programmation objet, il est similaire à Perl, Ruby, Scheme, Smalltalk et Tcl.\n",
    "\n",
    "Le langage Python est placé sous une licence libre et fonctionne sur la plupart des plates-formes informatiques, des supercalculateurs aux ordinateurs centraux4, de Windows à Unix avec notamment GNU/Linux en passant par macOS, ou encore Android, iOS, et aussi avec Java ou encore .NET. Il est conçu pour optimiser la productivité des programmeurs en offrant des outils de haut niveau (plus proche de l'humain que de la machine) et une syntaxe simple à utiliser.\n",
    "\n",
    "Il est également apprécié par certains pédagogues qui y trouvent un langage où la syntaxe, clairement séparée des mécanismes de bas niveau, permet une initiation aisée aux concepts de base de la programmation."
   ]
  },
  {
   "cell_type": "markdown",
   "metadata": {},
   "source": [
    "## Modules"
   ]
  },
  {
   "cell_type": "markdown",
   "metadata": {},
   "source": [
    "### Module Pandas"
   ]
  },
  {
   "cell_type": "markdown",
   "metadata": {},
   "source": [
    "Pandas apporte à Python la possibilité de manipuler de grands volumes de données structurées de manière simple et intuitive. Elle propose en particulier des structures de données et des opérations de manipulation de tableaux numériques et de séries temporelles.\n",
    "\n",
    "Les principales structures de données sont les séries (pour stocker des données selon une dimension - grandeur en fonction d'un index), les DataFrames (pour stocker des données selon 2 dimensions - lignes et colonnes), les Panels (pour représenter des données selon 3 dimensions, les Panels4D ou les DataFrames avec des index hiérarchiques aussi nommés MultiIndex (pour représenter des données selon plus de 3 dimensions - hypercube)"
   ]
  },
  {
   "cell_type": "markdown",
   "metadata": {},
   "source": [
    "### Module Machine Learning"
   ]
  },
  {
   "cell_type": "markdown",
   "metadata": {},
   "source": [
    "# Github/Git"
   ]
  },
  {
   "cell_type": "markdown",
   "metadata": {},
   "source": [
    "## Récupérer un projet a partir de GitHub"
   ]
  },
  {
   "cell_type": "markdown",
   "metadata": {},
   "source": [
    "### Télécharger un projet en ZIP"
   ]
  },
  {
   "cell_type": "markdown",
   "metadata": {},
   "source": [
    "Trouvez un projet intéréssant sur GitHub par exemple:\n",
    "\n",
    "https://github.com/AdrienMereghetti/Environnement_cours\n",
    "\n",
    "* cliquez sur \"Clone or Download\"\n",
    "* puis sur \"Download ZIP\"\n",
    "![DL Zip](https://raw.githubusercontent.com/AdrienMereghetti/Environnement_cours/development/data/notebooks/images/git_zip/zip.png)\n",
    "\n",
    "* Déziper le fichier téléchargé\n",
    "![DL](https://raw.githubusercontent.com/AdrienMereghetti/Environnement_cours/development/data/notebooks/images/git_zip/download_file.png)\n",
    "\n",
    "* Le projet GitHub ce trouve maintenant sur votre poste \n",
    "![File](https://raw.githubusercontent.com/AdrienMereghetti/Environnement_cours/development/data/notebooks/images/git_zip/into_file.png)"
   ]
  },
  {
   "cell_type": "markdown",
   "metadata": {},
   "source": [
    "### Cloner un projet"
   ]
  },
  {
   "cell_type": "markdown",
   "metadata": {},
   "source": [
    "#### Sur Linux/Mac"
   ]
  },
  {
   "cell_type": "markdown",
   "metadata": {},
   "source": [
    "* Ouvrez un terminal\n",
    "![1](https://raw.githubusercontent.com/AdrienMereghetti/Environnement_cours/development/data/notebooks/images/git_clone/1.png)\n",
    "* placez-vous dans le repertoire dans lequel vous voulez récupéré le projet:\n",
    "```\n",
    "cd ~/dev\n",
    "```\n",
    "![2](https://raw.githubusercontent.com/AdrienMereghetti/Environnement_cours/development/data/notebooks/images/git_clone/2.png)\n",
    "* Créez le repertoire du projet\n",
    "```\n",
    "mkdir environnement_cours\n",
    "```\n",
    "![3](https://raw.githubusercontent.com/AdrienMereghetti/Environnement_cours/development/data/notebooks/images/git_clone/3.png)\n",
    "* Allez sur GitHub puis copier le lien https de clonnage\n",
    "![4](https://raw.githubusercontent.com/AdrienMereghetti/Environnement_cours/development/data/notebooks/images/git_clone/4.png)\n",
    "* Puis tapez dans votre terminal:\n",
    "```\n",
    "git clone https://github.com/AdrienMereghetti/Environnement_cours.git environnement_cours\n",
    "```\n",
    "![5](https://raw.githubusercontent.com/AdrienMereghetti/Environnement_cours/development/data/notebooks/images/git_clone/5.png)\n",
    "* Le projet GitHub ce trouve maintenant sur votre poste\n",
    "![6](https://raw.githubusercontent.com/AdrienMereghetti/Environnement_cours/development/data/notebooks/images/git_clone/6.png)"
   ]
  },
  {
   "cell_type": "markdown",
   "metadata": {},
   "source": [
    "#### Sur Windows"
   ]
  },
  {
   "cell_type": "markdown",
   "metadata": {},
   "source": [
    "##### Installation de Git"
   ]
  },
  {
   "cell_type": "markdown",
   "metadata": {},
   "source": [
    "![1](https://raw.githubusercontent.com/AdrienMereghetti/Environnement_cours/development/data/notebooks/images/git_clone_windows/1.png)"
   ]
  },
  {
   "cell_type": "markdown",
   "metadata": {},
   "source": [
    "![2](https://raw.githubusercontent.com/AdrienMereghetti/Environnement_cours/development/data/notebooks/images/git_clone_windows/2.png)"
   ]
  },
  {
   "cell_type": "markdown",
   "metadata": {},
   "source": [
    "![3](https://raw.githubusercontent.com/AdrienMereghetti/Environnement_cours/development/data/notebooks/images/git_clone_windows/3.png)"
   ]
  },
  {
   "cell_type": "markdown",
   "metadata": {},
   "source": [
    "![4](https://raw.githubusercontent.com/AdrienMereghetti/Environnement_cours/development/data/notebooks/images/git_clone_windows/4.png)"
   ]
  },
  {
   "cell_type": "markdown",
   "metadata": {},
   "source": [
    "![5](https://raw.githubusercontent.com/AdrienMereghetti/Environnement_cours/development/data/notebooks/images/git_clone_windows/5.png)"
   ]
  },
  {
   "cell_type": "markdown",
   "metadata": {},
   "source": [
    "![6](https://raw.githubusercontent.com/AdrienMereghetti/Environnement_cours/development/data/notebooks/images/git_clone_windows/6.png)"
   ]
  },
  {
   "cell_type": "markdown",
   "metadata": {},
   "source": [
    "![7](https://raw.githubusercontent.com/AdrienMereghetti/Environnement_cours/development/data/notebooks/images/git_clone_windows/7.png)"
   ]
  },
  {
   "cell_type": "markdown",
   "metadata": {},
   "source": [
    "![8](https://raw.githubusercontent.com/AdrienMereghetti/Environnement_cours/development/data/notebooks/images/git_clone_windows/8.png)"
   ]
  },
  {
   "cell_type": "markdown",
   "metadata": {},
   "source": [
    "![9](https://raw.githubusercontent.com/AdrienMereghetti/Environnement_cours/development/data/notebooks/images/git_clone_windows/9.png)"
   ]
  },
  {
   "cell_type": "markdown",
   "metadata": {},
   "source": [
    "![10](https://raw.githubusercontent.com/AdrienMereghetti/Environnement_cours/development/data/notebooks/images/git_clone_windows/10.png)"
   ]
  },
  {
   "cell_type": "markdown",
   "metadata": {},
   "source": [
    "![11](https://raw.githubusercontent.com/AdrienMereghetti/Environnement_cours/development/data/notebooks/images/git_clone_windows/11.png)"
   ]
  },
  {
   "cell_type": "markdown",
   "metadata": {},
   "source": [
    "![12](https://raw.githubusercontent.com/AdrienMereghetti/Environnement_cours/development/data/notebooks/images/git_clone_windows/12.png)"
   ]
  },
  {
   "cell_type": "markdown",
   "metadata": {},
   "source": [
    "##### Lancement et utilisation de Git"
   ]
  },
  {
   "cell_type": "markdown",
   "metadata": {},
   "source": [
    "* Ouvrez le terminal \"Git Bash\""
   ]
  },
  {
   "cell_type": "markdown",
   "metadata": {},
   "source": [
    "![13](https://raw.githubusercontent.com/AdrienMereghetti/Environnement_cours/development/data/notebooks/images/git_clone_windows/13.png)"
   ]
  },
  {
   "cell_type": "markdown",
   "metadata": {},
   "source": [
    "![14](https://raw.githubusercontent.com/AdrienMereghetti/Environnement_cours/development/data/notebooks/images/git_clone_windows/14.png)"
   ]
  },
  {
   "cell_type": "markdown",
   "metadata": {},
   "source": [
    "* placez-vous dans le repertoire dans lequel vous voulez récupéré le projet:\n",
    "```\n",
    "cd Documents/\n",
    "```"
   ]
  },
  {
   "cell_type": "markdown",
   "metadata": {},
   "source": [
    "![15](https://raw.githubusercontent.com/AdrienMereghetti/Environnement_cours/development/data/notebooks/images/git_clone_windows/15.png)"
   ]
  },
  {
   "cell_type": "markdown",
   "metadata": {},
   "source": [
    "* Créez le repertoire du projet\n",
    "```\n",
    "mkdir environnement_cours\n",
    "```"
   ]
  },
  {
   "cell_type": "markdown",
   "metadata": {},
   "source": [
    "![16](https://raw.githubusercontent.com/AdrienMereghetti/Environnement_cours/development/data/notebooks/images/git_clone_windows/16.png)"
   ]
  },
  {
   "cell_type": "markdown",
   "metadata": {},
   "source": [
    "* Allez sur GitHub puis copier le lien https de clonnage"
   ]
  },
  {
   "cell_type": "markdown",
   "metadata": {},
   "source": [
    "![4](https://raw.githubusercontent.com/AdrienMereghetti/Environnement_cours/development/data/notebooks/images/git_clone/4.png)"
   ]
  },
  {
   "cell_type": "markdown",
   "metadata": {},
   "source": [
    "* Puis tapez dans votre terminal:\n",
    "```\n",
    "git clone https://github.com/AdrienMereghetti/Environnement_cours.git environnement_cours\n",
    "```"
   ]
  },
  {
   "cell_type": "markdown",
   "metadata": {},
   "source": [
    "![17](https://raw.githubusercontent.com/AdrienMereghetti/Environnement_cours/development/data/notebooks/images/git_clone_windows/17.png)"
   ]
  },
  {
   "cell_type": "markdown",
   "metadata": {},
   "source": [
    "* Le projet GitHub ce trouve maintenant sur votre poste"
   ]
  },
  {
   "cell_type": "markdown",
   "metadata": {},
   "source": [
    "## Créer un repository"
   ]
  },
  {
   "cell_type": "code",
   "execution_count": 3,
   "metadata": {},
   "outputs": [
    {
     "name": "stdout",
     "output_type": "stream",
     "text": [
      "![1](https://raw.githubusercontent.com/AdrienMereghetti/Environnement_cours/development/data/notebooks/images/new_repo/1.png)\n",
      "![2](https://raw.githubusercontent.com/AdrienMereghetti/Environnement_cours/development/data/notebooks/images/new_repo/2.png)\n",
      "![3](https://raw.githubusercontent.com/AdrienMereghetti/Environnement_cours/development/data/notebooks/images/new_repo/3.png)\n",
      "![4](https://raw.githubusercontent.com/AdrienMereghetti/Environnement_cours/development/data/notebooks/images/new_repo/4.png)\n",
      "![5](https://raw.githubusercontent.com/AdrienMereghetti/Environnement_cours/development/data/notebooks/images/new_repo/5.png)\n",
      "![6](https://raw.githubusercontent.com/AdrienMereghetti/Environnement_cours/development/data/notebooks/images/new_repo/6.png)\n",
      "![7](https://raw.githubusercontent.com/AdrienMereghetti/Environnement_cours/development/data/notebooks/images/new_repo/7.png)\n",
      "![8](https://raw.githubusercontent.com/AdrienMereghetti/Environnement_cours/development/data/notebooks/images/new_repo/8.png)\n"
     ]
    }
   ],
   "source": [
    "for i in range(1,8+1):\n",
    "    print(\"![%s](https://raw.githubusercontent.com/AdrienMereghetti/Environnement_cours/development/data/notebooks/images/new_repo/%s.png)\"%(i,i))"
   ]
  },
  {
   "cell_type": "markdown",
   "metadata": {},
   "source": [
    "* Crééez un compte sur GitHub\n",
    "* Loggez-vous\n",
    "* Cliquez sur le +\n",
    "* Puis \"New repository\"\n",
    "\n",
    "![1](https://raw.githubusercontent.com/AdrienMereghetti/Environnement_cours/development/data/notebooks/images/new_repo/1.png)"
   ]
  },
  {
   "cell_type": "markdown",
   "metadata": {},
   "source": [
    "![2](https://raw.githubusercontent.com/AdrienMereghetti/Environnement_cours/development/data/notebooks/images/new_repo/2.png)"
   ]
  },
  {
   "cell_type": "markdown",
   "metadata": {},
   "source": [
    "![3](https://raw.githubusercontent.com/AdrienMereghetti/Environnement_cours/development/data/notebooks/images/new_repo/3.png)"
   ]
  },
  {
   "cell_type": "markdown",
   "metadata": {},
   "source": [
    "![4](https://raw.githubusercontent.com/AdrienMereghetti/Environnement_cours/development/data/notebooks/images/new_repo/4.png)"
   ]
  },
  {
   "cell_type": "markdown",
   "metadata": {},
   "source": [
    "![5](https://raw.githubusercontent.com/AdrienMereghetti/Environnement_cours/development/data/notebooks/images/new_repo/5.png)"
   ]
  },
  {
   "cell_type": "markdown",
   "metadata": {},
   "source": [
    "![6](https://raw.githubusercontent.com/AdrienMereghetti/Environnement_cours/development/data/notebooks/images/new_repo/6.png)"
   ]
  },
  {
   "cell_type": "markdown",
   "metadata": {},
   "source": [
    "![7](https://raw.githubusercontent.com/AdrienMereghetti/Environnement_cours/development/data/notebooks/images/new_repo/7.png)"
   ]
  },
  {
   "cell_type": "markdown",
   "metadata": {},
   "source": [
    "![8](https://raw.githubusercontent.com/AdrienMereghetti/Environnement_cours/development/data/notebooks/images/new_repo/8.png)"
   ]
  },
  {
   "cell_type": "markdown",
   "metadata": {},
   "source": [
    "## Push"
   ]
  },
  {
   "cell_type": "markdown",
   "metadata": {},
   "source": [
    "## Pull"
   ]
  },
  {
   "cell_type": "markdown",
   "metadata": {},
   "source": [
    "# Jupyter"
   ]
  },
  {
   "cell_type": "markdown",
   "metadata": {},
   "source": [
    "## Markdown\n",
    "\n",
    "Dans Jupyter on as Deux principaux type de bloc:\n",
    "* les bloc Markdown comme celui-ci utilisé principalement pour documenter un Notebook\n",
    "* les bloc de code\n",
    "\n",
    "Ci-contre un lien vers les principales syntaxes du Markdown\n",
    "https://github.com/adam-p/markdown-here/wiki/Markdown-Cheatsheet"
   ]
  },
  {
   "cell_type": "markdown",
   "metadata": {},
   "source": [
    "## Commandes UNIX\n",
    "\n",
    "Dans un bloc de type \"code\" dans Jupyter, nous pouvons executer des commandes unix en mettant \"!\" devant celle-ci"
   ]
  },
  {
   "cell_type": "code",
   "execution_count": 4,
   "metadata": {},
   "outputs": [
    {
     "name": "stdout",
     "output_type": "stream",
     "text": [
      "total 296K\r\n",
      "4.0K drwxrwxr-x   5 jovyan  1000 4.0K Oct 13 09:09 .\r\n",
      "4.0K drwxr-xr-x 102 root   root  4.0K Oct 12 10:03 ..\r\n",
      " 28K -rw-rw-r--   1 jovyan  1000  25K Oct 12 10:08 API Twitter.ipynb\r\n",
      "4.0K drwxrwxr-x   2 jovyan  1000 4.0K Oct 12 10:08 csv\r\n",
      "108K -rw-rw-r--   1 jovyan  1000 107K Oct 12 10:08 Formation_Python.ipynb\r\n",
      "136K -rw-rw-r--   1 jovyan  1000 135K Oct 13 09:09 Formation_Python_online.ipynb\r\n",
      "4.0K -rw-rw-r--   1 jovyan  1000   19 Oct 12 10:01 .gitignore\r\n",
      "4.0K drwxrwxr-x   9 jovyan  1000 4.0K Oct 12 15:07 images\r\n",
      "4.0K drwxr-xr-x   2 jovyan users 4.0K Oct 12 10:05 .ipynb_checkpoints\r\n"
     ]
    }
   ],
   "source": [
    "!ls -lsah"
   ]
  },
  {
   "cell_type": "markdown",
   "metadata": {},
   "source": [
    "Si une library Python est manquante, nous pouvons aussi l'installer via une ligne de commande linux:\n",
    "```\n",
    "    !pip install NomDuModuleManquant\n",
    "```"
   ]
  },
  {
   "cell_type": "code",
   "execution_count": 5,
   "metadata": {},
   "outputs": [
    {
     "name": "stdout",
     "output_type": "stream",
     "text": [
      "Requirement already satisfied: pymongo in /opt/conda/lib/python3.5/site-packages\r\n"
     ]
    }
   ],
   "source": [
    "!pip install pymongo"
   ]
  },
  {
   "cell_type": "markdown",
   "metadata": {},
   "source": [
    "## Export PDF\n",
    "\n",
    "Il est possible d'exporter sous un format PDF "
   ]
  },
  {
   "cell_type": "markdown",
   "metadata": {},
   "source": [
    "![1](https://raw.githubusercontent.com/AdrienMereghetti/Environnement_cours/development/data/notebooks/images/Jupyter/1.png)"
   ]
  },
  {
   "cell_type": "markdown",
   "metadata": {},
   "source": [
    "![2](https://raw.githubusercontent.com/AdrienMereghetti/Environnement_cours/development/data/notebooks/images/Jupyter/2.png)"
   ]
  },
  {
   "cell_type": "markdown",
   "metadata": {},
   "source": [
    "## Export .py\n",
    "\n",
    "Tout un notebook est exportable et directement utilisable en .py (script python pure)"
   ]
  },
  {
   "cell_type": "markdown",
   "metadata": {},
   "source": [
    "![3](https://raw.githubusercontent.com/AdrienMereghetti/Environnement_cours/development/data/notebooks/images/Jupyter/3.png)"
   ]
  },
  {
   "cell_type": "markdown",
   "metadata": {},
   "source": [
    "# Python basic"
   ]
  },
  {
   "cell_type": "markdown",
   "metadata": {},
   "source": [
    "## Commentaire"
   ]
  },
  {
   "cell_type": "code",
   "execution_count": 6,
   "metadata": {
    "collapsed": true
   },
   "outputs": [],
   "source": [
    "# Il suffit de mettre \"#\" au début d'une ligne pour signifier à python que c'est un commentaire"
   ]
  },
  {
   "cell_type": "markdown",
   "metadata": {},
   "source": [
    "## Print"
   ]
  },
  {
   "cell_type": "code",
   "execution_count": 7,
   "metadata": {},
   "outputs": [
    {
     "name": "stdout",
     "output_type": "stream",
     "text": [
      "Hello World\n"
     ]
    }
   ],
   "source": [
    "print(\"Hello World\")"
   ]
  },
  {
   "cell_type": "markdown",
   "metadata": {},
   "source": [
    "## Variables\n",
    "\n",
    "Pour déclarer une variable:\n",
    "\n",
    "```python\n",
    "nom_de_variable = valeur\n",
    "```\n"
   ]
  },
  {
   "cell_type": "code",
   "execution_count": 8,
   "metadata": {},
   "outputs": [
    {
     "name": "stdout",
     "output_type": "stream",
     "text": [
      "42\n"
     ]
    }
   ],
   "source": [
    "ma_variable = 42\n",
    "print(ma_variable) "
   ]
  },
  {
   "cell_type": "markdown",
   "metadata": {},
   "source": [
    "On peut nommer une variable comme on veux a l'exception de quelques variable **reservées** Python 3:\n",
    "\n",
    "![8](https://raw.githubusercontent.com/AdrienMereghetti/Environnement_cours/development/data/notebooks/images/Python/1.png)"
   ]
  },
  {
   "cell_type": "markdown",
   "metadata": {},
   "source": [
    "Il existe différents type de variables en python\n",
    "\n",
    "Il n'y a pas besoin d'indiquer en Python de quel type est cette variable, il la reconnait seul.\n",
    "\n",
    "On peut connaitre le type d'un variable via la fonction Python\n",
    "\n",
    "```Python\n",
    "type(ma_variable)\n",
    "```"
   ]
  },
  {
   "cell_type": "markdown",
   "metadata": {},
   "source": [
    "### Les nombres entiers\n",
    "\n",
    "Le type entier se nomme **int** en Python (qui correspond à l'anglais « integer », c'est-à-dire entier). La forme d'un entier est un nombre sans virgule."
   ]
  },
  {
   "cell_type": "code",
   "execution_count": 9,
   "metadata": {},
   "outputs": [
    {
     "data": {
      "text/plain": [
       "int"
      ]
     },
     "execution_count": 9,
     "metadata": {},
     "output_type": "execute_result"
    }
   ],
   "source": [
    "variable_int = 42\n",
    "type(variable_int)"
   ]
  },
  {
   "cell_type": "markdown",
   "metadata": {},
   "source": [
    "### Les nombres flottants\n",
    "Les flottants sont les nombres à virgule. Ils se nomment **float** en Python (ce qui signifie « flottant » en anglais). \n",
    "(Python n'étant pas un language Français les nombres à virgules sont écrits avec des \"**.**\" )\n",
    "\n",
    "```Python\n",
    "12.5\n",
    "```"
   ]
  },
  {
   "cell_type": "code",
   "execution_count": 10,
   "metadata": {},
   "outputs": [
    {
     "data": {
      "text/plain": [
       "float"
      ]
     },
     "execution_count": 10,
     "metadata": {},
     "output_type": "execute_result"
    }
   ],
   "source": [
    "variable_float = 152.66\n",
    "type(variable_float)"
   ]
  },
  {
   "cell_type": "markdown",
   "metadata": {},
   "source": [
    "### Les chaînes de caractères\n",
    "Ce type de donnée permet de stocker une série de lettres comme par exemple une phrase. Ils se nomment **str** en Python (qui correspond à l'anglais « string »)\n",
    "\n",
    "entre guillemets \n",
    "```Python\n",
    "\"ceci est une chaîne de caractères\"\n",
    "```\n",
    "entre apostrophes\n",
    "```Python\n",
    "'ceci est une chaîne de caractères'\n",
    "```\n",
    "entre triples guillemets\n",
    "```Python\n",
    "\"\"\"ceci est une chaîne de caractères\"\"\"\n",
    "\n",
    "\"\"\"\n",
    "ceci est une chaîne de caractères\n",
    "que l'on peux aussi écrire sur \n",
    "plusieurs lignes\n",
    "\"\"\"\n",
    "\n",
    "```\n"
   ]
  },
  {
   "cell_type": "code",
   "execution_count": 11,
   "metadata": {},
   "outputs": [
    {
     "name": "stdout",
     "output_type": "stream",
     "text": [
      "Cette chaîne de caractères\n"
     ]
    }
   ],
   "source": [
    "print('Cette chaîne de caractères')"
   ]
  },
  {
   "cell_type": "code",
   "execution_count": 12,
   "metadata": {},
   "outputs": [
    {
     "ename": "SyntaxError",
     "evalue": "invalid syntax (<ipython-input-12-281db01e4a31>, line 1)",
     "output_type": "error",
     "traceback": [
      "\u001b[0;36m  File \u001b[0;32m\"<ipython-input-12-281db01e4a31>\"\u001b[0;36m, line \u001b[0;32m1\u001b[0m\n\u001b[0;31m    chaine = 'J'aime le Python!'\u001b[0m\n\u001b[0m                   ^\u001b[0m\n\u001b[0;31mSyntaxError\u001b[0m\u001b[0;31m:\u001b[0m invalid syntax\n"
     ]
    }
   ],
   "source": [
    "chaine = 'J'aime le Python!'"
   ]
  },
  {
   "cell_type": "markdown",
   "metadata": {},
   "source": [
    "Cette chaîne de caractères ci dessus retourne une erreur car il y à un apostrophes.\n",
    "Il faut échapper les apostrophes se trouvant au cœur de la chaîne avec \"\\\", il n'apparaitra pas dans le print"
   ]
  },
  {
   "cell_type": "code",
   "execution_count": null,
   "metadata": {},
   "outputs": [],
   "source": [
    "chaine = 'J\\'aime le Python!'\n",
    "print(chaine)"
   ]
  },
  {
   "cell_type": "code",
   "execution_count": null,
   "metadata": {},
   "outputs": [],
   "source": [
    "# On peux aussi utiliser les quillemet pour utiliser des apostrophe dans la chaine sans problèmes\n",
    "\n",
    "chaine = \"J'aime le Python!\"\n",
    "print(chaine)"
   ]
  },
  {
   "cell_type": "markdown",
   "metadata": {},
   "source": [
    "### Utilisation des variables"
   ]
  },
  {
   "cell_type": "code",
   "execution_count": null,
   "metadata": {
    "collapsed": true
   },
   "outputs": [],
   "source": [
    "age = 21"
   ]
  },
  {
   "cell_type": "code",
   "execution_count": null,
   "metadata": {},
   "outputs": [],
   "source": [
    "# On peut faire toutes sortes de calcules avec les variables numérique (Int ou Float)\n",
    "\n",
    "age_x2 = age * 2\n",
    "print(age_x2)"
   ]
  },
  {
   "cell_type": "code",
   "execution_count": null,
   "metadata": {},
   "outputs": [],
   "source": [
    "# La variable \"age\" ne change pas\n",
    "print(age)"
   ]
  },
  {
   "cell_type": "code",
   "execution_count": null,
   "metadata": {},
   "outputs": [],
   "source": [
    "# On peux incrémenter une variable de deux manière différentes\n",
    "\n",
    "age = age + 1\n",
    "print(age)"
   ]
  },
  {
   "cell_type": "code",
   "execution_count": null,
   "metadata": {},
   "outputs": [],
   "source": [
    "# La syntaxe ci-dessus est claire et intuitive mais assez longue, et les programmeurs, tout le monde le sait, sont des fainéants nés. On a donc trouvé plus court.\n",
    "age += 1\n",
    "print(age)"
   ]
  },
  {
   "cell_type": "code",
   "execution_count": null,
   "metadata": {},
   "outputs": [],
   "source": [
    "# Combiner plusieurs types de variable est possible \n",
    "\n",
    "variable_int_float = variable_int * variable_float\n",
    "print(variable_int_float)"
   ]
  },
  {
   "cell_type": "code",
   "execution_count": null,
   "metadata": {},
   "outputs": [],
   "source": [
    "# On peux aussi combiner un string avec d'autre type de variable de cette manière:\n",
    "\n",
    "var_string = \"Mon age est:\"\n",
    "var_int = 25\n",
    "var_mix = \"%s %i ans, dans deux ans j'en aurai : %i\" % (var_string, var_int, var_int+2)\n",
    "print(var_mix)"
   ]
  },
  {
   "cell_type": "markdown",
   "metadata": {},
   "source": [
    "* **%s** signifie que l'on va insérer un **String**\n",
    "* **%i** signifie que l'on va insérer un **Integer**\n",
    "* **%f** signifie que l'on va insérer un **Float**\n",
    "\n",
    "Ils sont mis entre () dans l'ordre de notre string"
   ]
  },
  {
   "cell_type": "markdown",
   "metadata": {},
   "source": [
    "## If"
   ]
  },
  {
   "cell_type": "code",
   "execution_count": null,
   "metadata": {},
   "outputs": [],
   "source": [
    "annee = 2017\n",
    "\n",
    "# Si annee est égal à 2017, alors on execute ce qui se trouve dans le \"if\"\n",
    "if annee == 2017:\n",
    "    print('La variable \"annee\" est bien %i'%annee)\n",
    "# Sinon on execute ce qui se trouve dans le \"else\"\n",
    "else:\n",
    "    print(\"annee est incorecte, elle devrait etre 2017 mais elle est égal à %i\"%annee)"
   ]
  },
  {
   "cell_type": "code",
   "execution_count": null,
   "metadata": {},
   "outputs": [],
   "source": [
    "annee = 2042\n",
    "\n",
    "# Si annee est égal à 2017, alors on execute ce qui se trouve dans le \"if\"\n",
    "if annee == 2017:\n",
    "    print('La variable \"annee\" est bien %i'%annee)\n",
    "# Sinon on execute ce qui se trouve dans le \"else\"\n",
    "else:\n",
    "    print(\"annee est incorecte, elle devrait etre 2017 mais elle est égal à %i\"%annee)"
   ]
  },
  {
   "cell_type": "markdown",
   "metadata": {},
   "source": [
    "## Boucle"
   ]
  },
  {
   "cell_type": "markdown",
   "metadata": {},
   "source": [
    "### For\n",
    "\n",
    "Lorsque l’on souhaite répéter un nombre donné de fois la même instruction ou le même bloc d’instructions, la commande **for** est la plus appropriée.\n",
    "\n",
    "Admettons que l’on veuille afficher 666 fois la phrase \"Metal music rocks !\". Voici ce que l’on peut faire."
   ]
  },
  {
   "cell_type": "code",
   "execution_count": null,
   "metadata": {},
   "outputs": [],
   "source": [
    "for i in range(666):   # pour i allant de 0 à 665\n",
    "    print(\"Metal music rocks !\")"
   ]
  },
  {
   "cell_type": "code",
   "execution_count": null,
   "metadata": {},
   "outputs": [],
   "source": [
    "for i in range(1, 10):   # pour i allant de 1 à 9 \n",
    "    print(i**2)\n",
    "    \n",
    "# i**2 signifie i au carré \n",
    "# i**3 signifie i au cube\n",
    "# ...\n",
    "# i**n signigne i exposant n"
   ]
  },
  {
   "cell_type": "markdown",
   "metadata": {},
   "source": [
    "### While\n",
    "\n",
    "Le principe de la boucle while est d’exécuter un bloc d’instructions tant que (while in english) une condition donnée est vraie. "
   ]
  },
  {
   "cell_type": "code",
   "execution_count": null,
   "metadata": {},
   "outputs": [],
   "source": [
    "i = 1\n",
    "# Tant que i est inférieur ou égal à 10 on execute les instructions contenue dans le \"while\"\n",
    "while i <= 10:\n",
    "    print(i)\n",
    "    # On incrémente i \n",
    "    i += 1\n",
    "    \n",
    "print('Fini !')"
   ]
  },
  {
   "cell_type": "markdown",
   "metadata": {},
   "source": [
    "## Fonctions\n",
    "\n",
    "Une fonction (ou function) est une suite d'instructions que l'on peut appeler avec un nom.\n",
    "\n",
    "Les variable utilisées à l'interrieur d'un fonction n'existe que dans cette fonction."
   ]
  },
  {
   "cell_type": "code",
   "execution_count": null,
   "metadata": {},
   "outputs": [],
   "source": [
    "# def signifie que l'on déclare une fonction Python\n",
    "def donne_moi_LA_reponse():\n",
    "    # Le return contient ce que va retourner la fonction, ici on ne return qu'un int\n",
    "    return 42;\n",
    "\n",
    "donne_moi_LA_reponse()"
   ]
  },
  {
   "cell_type": "code",
   "execution_count": null,
   "metadata": {},
   "outputs": [],
   "source": [
    "def donne_moi_LA_reponse2():\n",
    "    a = 21\n",
    "    b = 1\n",
    "    b += 1\n",
    "    a = a * b\n",
    "    return a\n",
    "\n",
    "donne_moi_LA_reponse2()"
   ]
  },
  {
   "cell_type": "markdown",
   "metadata": {},
   "source": [
    "On peut aussi definir un argument à une fonction"
   ]
  },
  {
   "cell_type": "code",
   "execution_count": null,
   "metadata": {},
   "outputs": [],
   "source": [
    "def table(nb): # nb est un argument obligatoire.\n",
    "    i = 0\n",
    "    while i < 10: # Tant que i est strictement inférieure à 10,\n",
    "        # le nb utilisé ici est celui que l'on a défini en argument\n",
    "        print(i + 1, \"*\", nb, \"=\", (i + 1) * nb)\n",
    "        i += 1 # On incrémente i de 1 à chaque tour de boucle.\n",
    "        \n",
    "table(5)\n",
    "table(9)\n",
    "table(11)"
   ]
  },
  {
   "cell_type": "markdown",
   "metadata": {},
   "source": [
    "# Modules Python"
   ]
  },
  {
   "cell_type": "markdown",
   "metadata": {},
   "source": [
    "## Pandas"
   ]
  },
  {
   "cell_type": "code",
   "execution_count": null,
   "metadata": {
    "collapsed": true
   },
   "outputs": [],
   "source": [
    "# Pandas étant un module, il nous faut l'importer\n",
    "import pandas"
   ]
  },
  {
   "cell_type": "markdown",
   "metadata": {},
   "source": [
    "### Lire du CSV"
   ]
  },
  {
   "cell_type": "code",
   "execution_count": null,
   "metadata": {
    "collapsed": true
   },
   "outputs": [],
   "source": [
    "# df1 = pandas.read_csv(\"csv/movies.csv\")\n",
    "# df2 = pandas.read_csv(\"csv/ratings.csv\")\n",
    "# df3 = pandas.read_csv(\"csv/tags.csv\")\n",
    "\n",
    "# df4 = df1.merge(df2, on=\"movieId\")\n",
    "# df4 = df4.merge(df3, on=[\"movieId\", \"userId\"])\n",
    "# df4=df4.drop([\"timestamp_y\", \"timestamp_x\", \"userId\", \"tag\"], 1).drop_duplicates()\n",
    "# df4.to_csv(\"csv/movies_ratings.csv\", index=False)\n",
    "\n",
    "# df = pandas.read_csv(\"csv/movies_ratings.csv\")\n",
    "\n",
    "# #On affiche les n première ligne de notre dataframe\n",
    "# df = df.groupby([\"movieId\", \"title\", \"genres\"])[\"rating\"].mean().reset_index()\n",
    "# df1 = df[[\"movieId\", \"genres\"]].copy()\n",
    "\n",
    "# df.columns\n",
    "\n",
    "# df1=pandas.concat([pandas.Series(row['movieId'], row['genres'].split('|'))              \n",
    "#                     for _, row in df1.iterrows()]).reset_index().rename(columns={'index': 'genre', 0: 'movieId'})\n",
    "\n",
    "# df = df.merge(df1, on=\"movieId\").drop(\"genres\", 1)\n",
    "# df.to_csv(\"csv/movies_ratings.csv\", index=False)"
   ]
  },
  {
   "cell_type": "code",
   "execution_count": null,
   "metadata": {
    "collapsed": true
   },
   "outputs": [],
   "source": [
    "df = pandas.read_csv(\"https://raw.githubusercontent.com/AdrienMereghetti/Environnement_cours/development/data/notebooks/csv/movies_ratings.csv\")"
   ]
  },
  {
   "cell_type": "code",
   "execution_count": null,
   "metadata": {},
   "outputs": [],
   "source": [
    "#On affiche les 10 première ligne de notre dataframe df\n",
    "\n",
    "df.head(10)"
   ]
  },
  {
   "cell_type": "markdown",
   "metadata": {},
   "source": [
    "Si on veut trier sur la colonne \"genre\""
   ]
  },
  {
   "cell_type": "code",
   "execution_count": null,
   "metadata": {
    "scrolled": true
   },
   "outputs": [],
   "source": [
    "df.loc[df.genre == \"Comedy\"]"
   ]
  },
  {
   "cell_type": "markdown",
   "metadata": {},
   "source": [
    "On veut afficher tout les films ayant une note supérieur ou égal à 4"
   ]
  },
  {
   "cell_type": "code",
   "execution_count": null,
   "metadata": {
    "scrolled": true
   },
   "outputs": [],
   "source": [
    "df_bons_films = df.loc[df.rating >= 4]\n",
    "df_bons_films"
   ]
  },
  {
   "cell_type": "markdown",
   "metadata": {},
   "source": [
    "### Export Excel"
   ]
  },
  {
   "cell_type": "code",
   "execution_count": null,
   "metadata": {
    "collapsed": true
   },
   "outputs": [],
   "source": [
    "# On exporte notre selection de film ayant obtenu une note supérieur ou égal à 4 sous un format Excel\n",
    "\n",
    "df_bons_films.to_excel(\"best_films.xlsx\")"
   ]
  },
  {
   "cell_type": "markdown",
   "metadata": {},
   "source": [
    "![2](https://raw.githubusercontent.com/AdrienMereghetti/Environnement_cours/development/data/notebooks/images/Python/2.png)"
   ]
  },
  {
   "cell_type": "markdown",
   "metadata": {},
   "source": [
    "### Calcule basique entre colonnes"
   ]
  },
  {
   "cell_type": "code",
   "execution_count": null,
   "metadata": {},
   "outputs": [],
   "source": [
    "# Creation d'un DataFrame simple pour l'exemple\n",
    "df_a = pandas.DataFrame({\n",
    "    \"a\": [1,2,3,4,5,6,7,8,9,10],\n",
    "    \"b\": [10,20,30,40,50,60,70,80,90,100]\n",
    "})\n",
    "\n",
    "df_a"
   ]
  },
  {
   "cell_type": "code",
   "execution_count": null,
   "metadata": {},
   "outputs": [],
   "source": [
    "# La colonne c sera égal à la colonne a * b\n",
    "df_a[\"c\"] = df_a[\"a\"] * df_a[\"b\"]\n",
    "df_a"
   ]
  },
  {
   "cell_type": "markdown",
   "metadata": {},
   "source": [
    "## Machine learning"
   ]
  },
  {
   "cell_type": "markdown",
   "metadata": {},
   "source": [
    "## Module scikit-learn "
   ]
  },
  {
   "cell_type": "markdown",
   "metadata": {},
   "source": [
    "#### Chargement de la base Iris\n",
    "\n",
    "![Iris](https://makina-corpus.com/blog/metier/2017/imlp/iris)\n",
    "\n",
    "Cette base contient des Iris qu'un botaniste, Ronald Fisher, a classés en 1936 à l'aide d'une clef d'identification des plantes (type de pétales, sépale, type des feuilles, forme des feuilles, ...).\n",
    "Puis, pour chaque fleur classée il a mesuré les longueurs et largeurs des sépales et pétales."
   ]
  },
  {
   "cell_type": "code",
   "execution_count": null,
   "metadata": {
    "collapsed": true
   },
   "outputs": [],
   "source": [
    "from sklearn import datasets\n",
    "iris = datasets.load_iris()"
   ]
  },
  {
   "cell_type": "code",
   "execution_count": null,
   "metadata": {},
   "outputs": [],
   "source": [
    "# Les noms des paramètres de nos donénes/enregistrements\n",
    "iris.feature_names"
   ]
  },
  {
   "cell_type": "code",
   "execution_count": null,
   "metadata": {},
   "outputs": [],
   "source": [
    "# Affichage des 5 premières lignes\n",
    "iris.data[:5]"
   ]
  },
  {
   "cell_type": "code",
   "execution_count": null,
   "metadata": {},
   "outputs": [],
   "source": [
    "# La liste des espèces connues, nos labels de classification, est contenue dans l'attribut target_names\n",
    "iris.target_names"
   ]
  },
  {
   "cell_type": "code",
   "execution_count": null,
   "metadata": {},
   "outputs": [],
   "source": [
    "# Création d'une variable target pour un accès plus facile à cet attribut:\n",
    "target = iris.target # Les labels associés à chaque enregistrement\n",
    "target "
   ]
  },
  {
   "cell_type": "code",
   "execution_count": null,
   "metadata": {
    "collapsed": true
   },
   "outputs": [],
   "source": [
    "# Les targets sont un tableau indiquant le numéro de l'espèce de chaque enregistrement:"
   ]
  },
  {
   "cell_type": "code",
   "execution_count": null,
   "metadata": {},
   "outputs": [],
   "source": [
    "for i in [0,1,2]:\n",
    "    print(\"classe : %s, nb exemplaires: %s\" % (i, len(target[ target == i]) ) )"
   ]
  },
  {
   "cell_type": "markdown",
   "metadata": {},
   "source": [
    "En résumé, l'échantillon de fleurs propose plusieurs informations:\n",
    "\n",
    "* Les noms des données disponibles : feature_names\n",
    "\n",
    "* Les mesures réalisées sur l'échantillon de fleurs connues et déjà classées : data\n",
    "\n",
    "* Il s'agit de nos informations, des paramètres de nos vecteurs pour chaque fleur\n",
    "\n",
    "* Le nom de chaque espèce : target_names\n",
    "\n",
    "* Le classement de chaque enregistrement data dans son espèce: target\n",
    "\n",
    "Il s'agit de la classe de chaque fleur/vecteur"
   ]
  },
  {
   "cell_type": "code",
   "execution_count": null,
   "metadata": {},
   "outputs": [],
   "source": [
    "print(iris.DESCR)"
   ]
  },
  {
   "cell_type": "code",
   "execution_count": null,
   "metadata": {
    "collapsed": true
   },
   "outputs": [],
   "source": [
    "data = iris.data # Pour un accès plus rapide"
   ]
  },
  {
   "cell_type": "markdown",
   "metadata": {},
   "source": [
    "Tableau numpy de 2 dimensions de 150 enregistrements de 4 valeurs"
   ]
  },
  {
   "cell_type": "code",
   "execution_count": null,
   "metadata": {},
   "outputs": [],
   "source": [
    "type(data), data.ndim, data.shape"
   ]
  },
  {
   "cell_type": "markdown",
   "metadata": {},
   "source": [
    "Nous avons donc 150 observations de 4 valeurs\n",
    "\n",
    "Visualisons les !"
   ]
  },
  {
   "cell_type": "code",
   "execution_count": null,
   "metadata": {},
   "outputs": [],
   "source": [
    "%matplotlib inline\n",
    "import matplotlib.pyplot as plt\n",
    "import matplotlib as mpl\n",
    "import numpy as np\n",
    "\n",
    "fig = plt.figure(figsize=(8, 4))\n",
    "fig.subplots_adjust(hspace=0.4, wspace=0.4)\n",
    "ax1 = plt.subplot(1,2,1)\n",
    "\n",
    "clist = ['violet', 'yellow', 'blue']\n",
    "colors = [clist[c] for c in iris.target]\n",
    "\n",
    "ax1.scatter(data[:, 0], data[:, 1], c=colors)\n",
    "plt.xlabel('Longueur du sepal (cm)')\n",
    "plt.ylabel('Largueur du sepal (cm)')\n",
    "\n",
    "ax2 = plt.subplot(1,2,2)\n",
    "\n",
    "ax2.scatter(data[:, 2], data[:, 3], color=colors)\n",
    "\n",
    "plt.xlabel('Longueur du petal (cm)')\n",
    "plt.ylabel('Largueur du petal (cm)')\n",
    "\n",
    "# Légende\n",
    "for ind, s in enumerate(iris.target_names):\n",
    "    # on dessine de faux points, car la légende n'affiche que les points ayant un label\n",
    "    plt.scatter([], [], label=s, color=clist[ind])\n",
    "\n",
    "plt.legend(scatterpoints=1, frameon=False, labelspacing=1\n",
    "           , bbox_to_anchor=(1.8, .5) , loc=\"center right\", title='Espèces')\n",
    "plt.plot();"
   ]
  },
  {
   "cell_type": "markdown",
   "metadata": {},
   "source": [
    "La séparation des groupes entre les longueurs et largeurs de pétales semble très nette et déterminante !"
   ]
  },
  {
   "cell_type": "markdown",
   "metadata": {},
   "source": [
    "Nous pourrions aussi le faire entre les longueurs de pétales et largeurs de sépales et inversement même si cela semble moins naturel.\n",
    "\n",
    "La librairie Seaborn propose une matrice prête à l'emploi via le graphique Scatterplot Matrix pour réaliser ce type de graphique:"
   ]
  },
  {
   "cell_type": "code",
   "execution_count": null,
   "metadata": {},
   "outputs": [],
   "source": [
    "import seaborn as sns\n",
    "import pandas as pd\n",
    "sns.set()\n",
    "df = pd.DataFrame(data, columns=iris['feature_names'] )\n",
    "df['target'] = target\n",
    "df['label'] = df.apply(lambda x: iris['target_names'][int(x.target)], axis=1)\n",
    "df.head()"
   ]
  },
  {
   "cell_type": "code",
   "execution_count": null,
   "metadata": {
    "collapsed": true
   },
   "outputs": [],
   "source": [
    "sns.pairplot(df, hue='label', vars=iris['feature_names'], size=2);"
   ]
  },
  {
   "cell_type": "markdown",
   "metadata": {},
   "source": [
    "#### Apprentissage\n",
    "Nous pourrions ici utiliser plusieurs algorithmes.\n",
    "Nous proposons de commencer par la classification Naive Bayes qui suppose que chaque classe est construite à partir d'une distribution Gaussiènne alignée.\n",
    "Elle n'impose pas de définir d'hyperparamètres et est très rapide."
   ]
  },
  {
   "cell_type": "code",
   "execution_count": null,
   "metadata": {
    "collapsed": true
   },
   "outputs": [],
   "source": [
    "from sklearn.naive_bayes import GaussianNB"
   ]
  },
  {
   "cell_type": "markdown",
   "metadata": {},
   "source": [
    "Création du classifieur"
   ]
  },
  {
   "cell_type": "code",
   "execution_count": null,
   "metadata": {
    "collapsed": true
   },
   "outputs": [],
   "source": [
    "clf = GaussianNB()"
   ]
  },
  {
   "cell_type": "markdown",
   "metadata": {},
   "source": [
    "#### Apprentissage"
   ]
  },
  {
   "cell_type": "code",
   "execution_count": null,
   "metadata": {
    "collapsed": true
   },
   "outputs": [],
   "source": [
    "clf.fit(data, target) # On aurait aussi pu utiliser le dataframe df"
   ]
  },
  {
   "cell_type": "code",
   "execution_count": null,
   "metadata": {
    "collapsed": true
   },
   "outputs": [],
   "source": [
    "print(dir(clf))"
   ]
  },
  {
   "cell_type": "markdown",
   "metadata": {},
   "source": [
    "clf.get_params()"
   ]
  },
  {
   "cell_type": "markdown",
   "metadata": {},
   "source": [
    "Exécutons la prédiction sur les données d'apprentissage elles-mêmes"
   ]
  },
  {
   "cell_type": "code",
   "execution_count": null,
   "metadata": {
    "collapsed": true
   },
   "outputs": [],
   "source": [
    "result = clf.predict(data)\n",
    "result"
   ]
  },
  {
   "cell_type": "markdown",
   "metadata": {},
   "source": [
    "#### Qualité de la prédiction\n",
    "Observons la qualité de la prédiction"
   ]
  },
  {
   "cell_type": "markdown",
   "metadata": {},
   "source": [
    "Calculons le pourcentage d'erreur:"
   ]
  },
  {
   "cell_type": "code",
   "execution_count": null,
   "metadata": {
    "collapsed": true
   },
   "outputs": [],
   "source": [
    "errors = sum(result != target) # 6 erreurs sur 150 mesures\n",
    "print(\"Nb erreurs:\", errors)\n",
    "print( \"Pourcentage de prédiction juste:\", (150-errors)*100/150)   # 96 % de réussite"
   ]
  },
  {
   "cell_type": "markdown",
   "metadata": {},
   "source": [
    "On aurait pu penser que les tableaux seraient parfaitement identiques, mais l'algorithme utilisé estime vraiment le label final en fonction des règles de probabilité qu'il a établies. Ces règles ne sont pas rigoureusement identiques à la réalité.\n",
    "\n",
    "Cela prouve aussi que l'algorithme essaye de trouver un classement intelligent et ne se contente pas de comparer les valeurs d'origines aux valeurs entrantes.\n",
    "\n",
    "Notre solution pour mesurer la qualité de la prédiction est très rudimentaire, Scikit-Learn propose des solutions plus abouties:"
   ]
  },
  {
   "cell_type": "code",
   "execution_count": null,
   "metadata": {
    "collapsed": true
   },
   "outputs": [],
   "source": [
    "from sklearn.metrics import accuracy_score\n",
    "accuracy_score(result, target) # 96% de réussite"
   ]
  },
  {
   "cell_type": "markdown",
   "metadata": {},
   "source": [
    "Scikit-Learn permet aussi de calculer la matrice de confusion:"
   ]
  },
  {
   "cell_type": "code",
   "execution_count": null,
   "metadata": {
    "collapsed": true
   },
   "outputs": [],
   "source": [
    "from sklearn.metrics import confusion_matrix\n",
    "conf = confusion_matrix(target, result)\n",
    "conf"
   ]
  },
  {
   "cell_type": "markdown",
   "metadata": {},
   "source": [
    "Et Seaborn permet de la représenter avec le Heatmap"
   ]
  },
  {
   "cell_type": "code",
   "execution_count": null,
   "metadata": {
    "collapsed": true
   },
   "outputs": [],
   "source": [
    "sns.heatmap(conf, square=True, annot=True, cbar=False\n",
    "            , xticklabels=list(iris.target_names)\n",
    "            , yticklabels=list(iris.target_names))\n",
    "plt.xlabel('valeurs prédites')\n",
    "plt.ylabel('valeurs réelles');"
   ]
  },
  {
   "cell_type": "markdown",
   "metadata": {},
   "source": [
    "# ANACONDA"
   ]
  }
 ],
 "metadata": {
  "kernelspec": {
   "display_name": "Python 3",
   "language": "python",
   "name": "python3"
  },
  "language_info": {
   "codemirror_mode": {
    "name": "ipython",
    "version": 3
   },
   "file_extension": ".py",
   "mimetype": "text/x-python",
   "name": "python",
   "nbconvert_exporter": "python",
   "pygments_lexer": "ipython3",
   "version": "3.5.2"
  }
 },
 "nbformat": 4,
 "nbformat_minor": 2
}
