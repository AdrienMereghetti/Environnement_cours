{
 "cells": [
  {
   "cell_type": "code",
   "execution_count": 3,
   "metadata": {},
   "outputs": [],
   "source": [
    "import elasticsearch"
   ]
  },
  {
   "cell_type": "code",
   "execution_count": 9,
   "metadata": {},
   "outputs": [
    {
     "name": "stdout",
     "output_type": "stream",
     "text": [
      "b'{\\n  \"name\" : \"je8mtt4\",\\n  \"cluster_name\" : \"docker-cluster\",\\n  \"cluster_uuid\" : \"G1uh9FSBRnaaixePuQHCiA\",\\n  \"version\" : {\\n    \"number\" : \"5.3.0\",\\n    \"build_hash\" : \"3adb13b\",\\n    \"build_date\" : \"2017-03-23T03:31:50.652Z\",\\n    \"build_snapshot\" : false,\\n    \"lucene_version\" : \"6.4.1\"\\n  },\\n  \"tagline\" : \"You Know, for Search\"\\n}\\n'\n"
     ]
    }
   ],
   "source": [
    "# make sure ES is up and running\n",
    "import requests\n",
    "res = requests.get('http://91.121.110.110:9200')\n",
    "print(res.content)"
   ]
  },
  {
   "cell_type": "code",
   "execution_count": 11,
   "metadata": {},
   "outputs": [],
   "source": [
    "#connect to our cluster\n",
    "from elasticsearch import Elasticsearch\n",
    "es = Elasticsearch([{'host': '91.121.110.110', 'port': 9200}])"
   ]
  },
  {
   "cell_type": "code",
   "execution_count": 14,
   "metadata": {},
   "outputs": [
    {
     "name": "stdout",
     "output_type": "stream",
     "text": [
      "18\n"
     ]
    }
   ],
   "source": [
    "#let's iterate over swapi people documents and index them\n",
    "import json\n",
    "r = requests.get('http://91.121.110.110:9200') \n",
    "i = 1\n",
    "while r.status_code == 200:\n",
    "    r = requests.get('http://swapi.co/api/people/'+ str(i))\n",
    "    es.index(index='sw', doc_type='people', id=i, body=json.loads(r.content))\n",
    "    i=i+1\n",
    " \n",
    "print(i)"
   ]
  },
  {
   "cell_type": "code",
   "execution_count": 24,
   "metadata": {},
   "outputs": [
    {
     "data": {
      "text/plain": [
       "{'_id': '4',\n",
       " '_index': 'sw',\n",
       " '_source': {'birth_year': '41.9BBY',\n",
       "  'created': '2014-12-10T15:18:20.704000Z',\n",
       "  'edited': '2014-12-20T21:17:50.313000Z',\n",
       "  'eye_color': 'yellow',\n",
       "  'films': ['https://swapi.co/api/films/2/',\n",
       "   'https://swapi.co/api/films/6/',\n",
       "   'https://swapi.co/api/films/3/',\n",
       "   'https://swapi.co/api/films/1/'],\n",
       "  'gender': 'male',\n",
       "  'hair_color': 'none',\n",
       "  'height': '202',\n",
       "  'homeworld': 'https://swapi.co/api/planets/1/',\n",
       "  'mass': '136',\n",
       "  'name': 'Darth Vader',\n",
       "  'skin_color': 'white',\n",
       "  'species': ['https://swapi.co/api/species/1/'],\n",
       "  'starships': ['https://swapi.co/api/starships/13/'],\n",
       "  'url': 'https://swapi.co/api/people/4/',\n",
       "  'vehicles': []},\n",
       " '_type': 'people',\n",
       " '_version': 2,\n",
       " 'found': True}"
      ]
     },
     "execution_count": 24,
     "metadata": {},
     "output_type": "execute_result"
    }
   ],
   "source": [
    "es.get(index='sw', doc_type='people', id=4)"
   ]
  }
 ],
 "metadata": {
  "kernelspec": {
   "display_name": "Python 3",
   "language": "python",
   "name": "python3"
  },
  "language_info": {
   "codemirror_mode": {
    "name": "ipython",
    "version": 3
   },
   "file_extension": ".py",
   "mimetype": "text/x-python",
   "name": "python",
   "nbconvert_exporter": "python",
   "pygments_lexer": "ipython3",
   "version": "3.6.2"
  }
 },
 "nbformat": 4,
 "nbformat_minor": 2
}
